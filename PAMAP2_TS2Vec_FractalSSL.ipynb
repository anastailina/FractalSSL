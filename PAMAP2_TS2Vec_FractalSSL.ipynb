{
  "cells": [
    {
      "cell_type": "markdown",
      "id": "a8ec7499",
      "metadata": {
        "id": "a8ec7499"
      },
      "source": [
        "# PAMAP2 ➜ TS2Vec ➜ Fractal‑SSL  \n",
        "An interactive, step‑by‑step Jupyter workflow.\n",
        "\n",
        "**Sections**\n",
        "1. Inspect & preprocess PAMAP2\n",
        "2. Pre‑train a TS2Vec backbone\n",
        "3. Enhance with Fractal‑SSL\n"
      ]
    },
    {
      "cell_type": "code",
      "source": [
        "from google.colab import drive\n",
        "drive.mount('/content/drive')"
      ],
      "metadata": {
        "id": "0C8v05S6r0M2",
        "outputId": "3949d206-94b4-42af-97c4-58bf5151ddcf",
        "colab": {
          "base_uri": "https://localhost:8080/"
        }
      },
      "id": "0C8v05S6r0M2",
      "execution_count": 1,
      "outputs": [
        {
          "output_type": "stream",
          "name": "stdout",
          "text": [
            "Mounted at /content/drive\n"
          ]
        }
      ]
    },
    {
      "cell_type": "markdown",
      "id": "5269bd9f",
      "metadata": {
        "id": "5269bd9f"
      },
      "source": [
        "## 0  Setup"
      ]
    },
    {
      "cell_type": "code",
      "execution_count": 2,
      "id": "d766d24c",
      "metadata": {
        "id": "d766d24c",
        "outputId": "2bd7b470-da40-42ba-e478-12e30189a5c7",
        "colab": {
          "base_uri": "https://localhost:8080/"
        }
      },
      "outputs": [
        {
          "output_type": "stream",
          "name": "stdout",
          "text": [
            "\u001b[2K   \u001b[90m━━━━━━━━━━━━━━━━━━━━━━━━━━━━━━━━━━━━━━━━\u001b[0m \u001b[32m779.2/779.2 MB\u001b[0m \u001b[31m2.2 MB/s\u001b[0m eta \u001b[36m0:00:00\u001b[0m\n",
            "\u001b[2K   \u001b[90m━━━━━━━━━━━━━━━━━━━━━━━━━━━━━━━━━━━━━━━━\u001b[0m \u001b[32m410.6/410.6 MB\u001b[0m \u001b[31m2.8 MB/s\u001b[0m eta \u001b[36m0:00:00\u001b[0m\n",
            "\u001b[2K   \u001b[90m━━━━━━━━━━━━━━━━━━━━━━━━━━━━━━━━━━━━━━━━\u001b[0m \u001b[32m14.1/14.1 MB\u001b[0m \u001b[31m121.9 MB/s\u001b[0m eta \u001b[36m0:00:00\u001b[0m\n",
            "\u001b[2K   \u001b[90m━━━━━━━━━━━━━━━━━━━━━━━━━━━━━━━━━━━━━━━━\u001b[0m \u001b[32m23.7/23.7 MB\u001b[0m \u001b[31m59.7 MB/s\u001b[0m eta \u001b[36m0:00:00\u001b[0m\n",
            "\u001b[2K   \u001b[90m━━━━━━━━━━━━━━━━━━━━━━━━━━━━━━━━━━━━━━━━\u001b[0m \u001b[32m823.6/823.6 kB\u001b[0m \u001b[31m57.0 MB/s\u001b[0m eta \u001b[36m0:00:00\u001b[0m\n",
            "\u001b[2K   \u001b[90m━━━━━━━━━━━━━━━━━━━━━━━━━━━━━━━━━━━━━━━━\u001b[0m \u001b[32m731.7/731.7 MB\u001b[0m \u001b[31m3.1 MB/s\u001b[0m eta \u001b[36m0:00:00\u001b[0m\n",
            "\u001b[2K   \u001b[90m━━━━━━━━━━━━━━━━━━━━━━━━━━━━━━━━━━━━━━━━\u001b[0m \u001b[32m121.6/121.6 MB\u001b[0m \u001b[31m19.9 MB/s\u001b[0m eta \u001b[36m0:00:00\u001b[0m\n",
            "\u001b[2K   \u001b[90m━━━━━━━━━━━━━━━━━━━━━━━━━━━━━━━━━━━━━━━━\u001b[0m \u001b[32m56.5/56.5 MB\u001b[0m \u001b[31m40.8 MB/s\u001b[0m eta \u001b[36m0:00:00\u001b[0m\n",
            "\u001b[2K   \u001b[90m━━━━━━━━━━━━━━━━━━━━━━━━━━━━━━━━━━━━━━━━\u001b[0m \u001b[32m124.2/124.2 MB\u001b[0m \u001b[31m7.4 MB/s\u001b[0m eta \u001b[36m0:00:00\u001b[0m\n",
            "\u001b[2K   \u001b[90m━━━━━━━━━━━━━━━━━━━━━━━━━━━━━━━━━━━━━━━━\u001b[0m \u001b[32m196.0/196.0 MB\u001b[0m \u001b[31m4.9 MB/s\u001b[0m eta \u001b[36m0:00:00\u001b[0m\n",
            "\u001b[2K   \u001b[90m━━━━━━━━━━━━━━━━━━━━━━━━━━━━━━━━━━━━━━━━\u001b[0m \u001b[32m176.2/176.2 MB\u001b[0m \u001b[31m9.2 MB/s\u001b[0m eta \u001b[36m0:00:00\u001b[0m\n",
            "\u001b[2K   \u001b[90m━━━━━━━━━━━━━━━━━━━━━━━━━━━━━━━━━━━━━━━━\u001b[0m \u001b[32m99.1/99.1 kB\u001b[0m \u001b[31m9.2 MB/s\u001b[0m eta \u001b[36m0:00:00\u001b[0m\n",
            "\u001b[2K   \u001b[90m━━━━━━━━━━━━━━━━━━━━━━━━━━━━━━━━━━━━━━━━\u001b[0m \u001b[32m168.1/168.1 MB\u001b[0m \u001b[31m4.9 MB/s\u001b[0m eta \u001b[36m0:00:00\u001b[0m\n",
            "\u001b[?25h\u001b[31mERROR: Operation cancelled by user\u001b[0m\u001b[31m\n",
            "\u001b[0m"
          ]
        }
      ],
      "source": [
        "#  Run once per environment\n",
        "!pip install -q torch==2.3.0 ts2vec pandas scikit-learn tqdm\n"
      ]
    },
    {
      "cell_type": "markdown",
      "id": "8f56c277",
      "metadata": {
        "id": "8f56c277"
      },
      "source": [
        "## 1  Imports & paths"
      ]
    },
    {
      "cell_type": "code",
      "execution_count": 3,
      "id": "22012f52",
      "metadata": {
        "id": "22012f52"
      },
      "outputs": [],
      "source": [
        "import os, glob, json, math, random, itertools, pickle\n",
        "from pathlib import Path\n",
        "import numpy as np, pandas as pd, torch\n",
        "from tqdm import tqdm\n",
        "\n",
        "from ts2vec import TS2Vec\n",
        "\n",
        "RAW_ROOT   = Path('/content/drive/MyDrive/FractalSSL_backup/data/pamap2+physical+activity+monitoring/PAMAP2_Dataset').expanduser()   # <- edit if needed\n",
        "CACHE_ROOT = Path('/content/drive/MyDrive/FractalSSL_backup/cache')\n",
        "CACHE_ROOT.mkdir(exist_ok=True)\n"
      ]
    },
    {
      "cell_type": "code",
      "execution_count": 4,
      "id": "cbe45f25",
      "metadata": {
        "id": "cbe45f25",
        "outputId": "65963215-7f46-4dbf-aafc-55f463ff29a3",
        "colab": {
          "base_uri": "https://localhost:8080/"
        }
      },
      "outputs": [
        {
          "output_type": "execute_result",
          "data": {
            "text/plain": [
              "PosixPath('/content/drive/MyDrive/FractalSSL_backup/data/pamap2+physical+activity+monitoring/PAMAP2_Dataset')"
            ]
          },
          "metadata": {},
          "execution_count": 4
        }
      ],
      "source": [
        "\n",
        "RAW_ROOT"
      ]
    },
    {
      "cell_type": "markdown",
      "id": "349382b9",
      "metadata": {
        "id": "349382b9"
      },
      "source": [
        "### Helper to read a single PAMAP2 `.dat` file"
      ]
    },
    {
      "cell_type": "code",
      "execution_count": 18,
      "id": "aefcc41a",
      "metadata": {
        "id": "aefcc41a"
      },
      "outputs": [],
      "source": [
        "COLS = [\n",
        "    \"timestamp\", \"activity_id\", \"heart_rate\",\n",
        "    # IMU columns...\n",
        "]  # shortened for brevity – full list in spec\n",
        "\n",
        "def load_dat(path: Path, cols=COLS, downsample_hr=True):\n",
        "    \"\"\"Returns a DataFrame (100 Hz) with NaNs handled.\"\"\"\n",
        "    df = pd.read_csv(path, sep=' ', header=None)\n",
        "    df.columns = cols + [f'col_{i}' for i in range(len(df.columns)-len(cols))]\n",
        "\n",
        "    # Optional: down‑sample HR (original 9 Hz) – simple forward‑fill\n",
        "    if downsample_hr:\n",
        "        df['heart_rate'].replace(-1, np.nan, inplace=True)\n",
        "        df['heart_rate'].interpolate(method='linear', limit_direction='both', inplace=True)\n",
        "\n",
        "    # Normalise sensor channels (z‑score per column)\n",
        "    sensor_cols = df.columns.drop(['timestamp', 'activity_id'])\n",
        "    df[sensor_cols] = (df[sensor_cols] - df[sensor_cols].mean()) / df[sensor_cols].std()\n",
        "    return df\n"
      ]
    },
    {
      "cell_type": "markdown",
      "id": "1594c7ca",
      "metadata": {
        "id": "1594c7ca"
      },
      "source": [
        "### Load & peek at Subject 101"
      ]
    },
    {
      "cell_type": "code",
      "execution_count": 11,
      "id": "578c9d47",
      "metadata": {
        "id": "578c9d47",
        "outputId": "a63dc9e0-278e-4f24-9dfe-33a9734ecbbc",
        "colab": {
          "base_uri": "https://localhost:8080/"
        }
      },
      "outputs": [
        {
          "output_type": "stream",
          "name": "stdout",
          "text": [
            "First 5 .dat files I see:\n",
            " • Protocol/subject101.dat\n",
            " • Protocol/subject102.dat\n",
            " • Protocol/subject103.dat\n",
            " • Protocol/subject104.dat\n",
            " • Protocol/subject105.dat\n"
          ]
        }
      ],
      "source": [
        "print('First 5 .dat files I see:')\n",
        "for p in list(RAW_ROOT.rglob('*.dat'))[:5]:\n",
        "    print(' •', p.relative_to(RAW_ROOT))"
      ]
    },
    {
      "cell_type": "code",
      "execution_count": 12,
      "id": "5e886d53",
      "metadata": {
        "id": "5e886d53",
        "outputId": "99279c5d-180f-49e0-8475-0d5ee87d8332",
        "colab": {
          "base_uri": "https://localhost:8080/",
          "height": 506
        }
      },
      "outputs": [
        {
          "output_type": "stream",
          "name": "stderr",
          "text": [
            "/tmp/ipython-input-10-981279570.py:13: FutureWarning: A value is trying to be set on a copy of a DataFrame or Series through chained assignment using an inplace method.\n",
            "The behavior will change in pandas 3.0. This inplace method will never work because the intermediate object on which we are setting values always behaves as a copy.\n",
            "\n",
            "For example, when doing 'df[col].method(value, inplace=True)', try using 'df.method({col: value}, inplace=True)' or df[col] = df[col].method(value) instead, to perform the operation inplace on the original object.\n",
            "\n",
            "\n",
            "  df['heart_rate'].replace(-1, np.nan, inplace=True)\n",
            "/tmp/ipython-input-10-981279570.py:14: FutureWarning: A value is trying to be set on a copy of a DataFrame or Series through chained assignment using an inplace method.\n",
            "The behavior will change in pandas 3.0. This inplace method will never work because the intermediate object on which we are setting values always behaves as a copy.\n",
            "\n",
            "For example, when doing 'df[col].method(value, inplace=True)', try using 'df.method({col: value}, inplace=True)' or df[col] = df[col].method(value) instead, to perform the operation inplace on the original object.\n",
            "\n",
            "\n",
            "  df['heart_rate'].interpolate(method='linear', limit_direction='both', inplace=True)\n"
          ]
        },
        {
          "output_type": "execute_result",
          "data": {
            "text/plain": [
              "   timestamp  activity_id  heart_rate     col_0     col_1     col_2     col_3  \\\n",
              "0       8.38            0   -0.839332 -1.965332  0.898811  0.446885  0.030369   \n",
              "1       8.39            0   -0.839332 -1.965332  0.869927  0.440123  0.075092   \n",
              "2       8.40            0   -0.839332 -1.965332  0.899021  0.446949  0.041749   \n",
              "3       8.41            0   -0.839332 -1.965332  0.852074  0.432989  0.074625   \n",
              "4       8.42            0   -0.839332 -1.965332  0.876366  0.491239  0.086386   \n",
              "\n",
              "      col_4     col_5     col_6  ...    col_41    col_42    col_43    col_44  \\\n",
              "0  0.895952  0.471171 -0.064588  ...  0.008444  0.014729 -0.017610 -0.401004   \n",
              "1  0.888978  0.430758  0.020714  ... -0.006492 -0.008282 -0.007561 -0.348879   \n",
              "2  0.874937  0.428003  0.047642  ...  0.003137 -0.000352  0.004828 -0.383407   \n",
              "3  0.879650  0.427961  0.047633  ...  0.003298 -0.034234 -0.001454 -0.370695   \n",
              "4  0.863274  0.439690  0.056590  ...  0.012859 -0.024295 -0.009347 -0.413875   \n",
              "\n",
              "     col_45    col_46  col_47  col_48  col_49  col_50  \n",
              "0 -1.138542 -2.322759     NaN     NaN     NaN     NaN  \n",
              "1 -1.136321 -2.335681     NaN     NaN     NaN     NaN  \n",
              "2 -1.153368 -2.331433     NaN     NaN     NaN     NaN  \n",
              "3 -1.132127 -2.331288     NaN     NaN     NaN     NaN  \n",
              "4 -1.152522 -2.327013     NaN     NaN     NaN     NaN  \n",
              "\n",
              "[5 rows x 54 columns]"
            ],
            "text/html": [
              "\n",
              "  <div id=\"df-58c19f70-4276-427c-a511-44ab4ef64d0b\" class=\"colab-df-container\">\n",
              "    <div>\n",
              "<style scoped>\n",
              "    .dataframe tbody tr th:only-of-type {\n",
              "        vertical-align: middle;\n",
              "    }\n",
              "\n",
              "    .dataframe tbody tr th {\n",
              "        vertical-align: top;\n",
              "    }\n",
              "\n",
              "    .dataframe thead th {\n",
              "        text-align: right;\n",
              "    }\n",
              "</style>\n",
              "<table border=\"1\" class=\"dataframe\">\n",
              "  <thead>\n",
              "    <tr style=\"text-align: right;\">\n",
              "      <th></th>\n",
              "      <th>timestamp</th>\n",
              "      <th>activity_id</th>\n",
              "      <th>heart_rate</th>\n",
              "      <th>col_0</th>\n",
              "      <th>col_1</th>\n",
              "      <th>col_2</th>\n",
              "      <th>col_3</th>\n",
              "      <th>col_4</th>\n",
              "      <th>col_5</th>\n",
              "      <th>col_6</th>\n",
              "      <th>...</th>\n",
              "      <th>col_41</th>\n",
              "      <th>col_42</th>\n",
              "      <th>col_43</th>\n",
              "      <th>col_44</th>\n",
              "      <th>col_45</th>\n",
              "      <th>col_46</th>\n",
              "      <th>col_47</th>\n",
              "      <th>col_48</th>\n",
              "      <th>col_49</th>\n",
              "      <th>col_50</th>\n",
              "    </tr>\n",
              "  </thead>\n",
              "  <tbody>\n",
              "    <tr>\n",
              "      <th>0</th>\n",
              "      <td>8.38</td>\n",
              "      <td>0</td>\n",
              "      <td>-0.839332</td>\n",
              "      <td>-1.965332</td>\n",
              "      <td>0.898811</td>\n",
              "      <td>0.446885</td>\n",
              "      <td>0.030369</td>\n",
              "      <td>0.895952</td>\n",
              "      <td>0.471171</td>\n",
              "      <td>-0.064588</td>\n",
              "      <td>...</td>\n",
              "      <td>0.008444</td>\n",
              "      <td>0.014729</td>\n",
              "      <td>-0.017610</td>\n",
              "      <td>-0.401004</td>\n",
              "      <td>-1.138542</td>\n",
              "      <td>-2.322759</td>\n",
              "      <td>NaN</td>\n",
              "      <td>NaN</td>\n",
              "      <td>NaN</td>\n",
              "      <td>NaN</td>\n",
              "    </tr>\n",
              "    <tr>\n",
              "      <th>1</th>\n",
              "      <td>8.39</td>\n",
              "      <td>0</td>\n",
              "      <td>-0.839332</td>\n",
              "      <td>-1.965332</td>\n",
              "      <td>0.869927</td>\n",
              "      <td>0.440123</td>\n",
              "      <td>0.075092</td>\n",
              "      <td>0.888978</td>\n",
              "      <td>0.430758</td>\n",
              "      <td>0.020714</td>\n",
              "      <td>...</td>\n",
              "      <td>-0.006492</td>\n",
              "      <td>-0.008282</td>\n",
              "      <td>-0.007561</td>\n",
              "      <td>-0.348879</td>\n",
              "      <td>-1.136321</td>\n",
              "      <td>-2.335681</td>\n",
              "      <td>NaN</td>\n",
              "      <td>NaN</td>\n",
              "      <td>NaN</td>\n",
              "      <td>NaN</td>\n",
              "    </tr>\n",
              "    <tr>\n",
              "      <th>2</th>\n",
              "      <td>8.40</td>\n",
              "      <td>0</td>\n",
              "      <td>-0.839332</td>\n",
              "      <td>-1.965332</td>\n",
              "      <td>0.899021</td>\n",
              "      <td>0.446949</td>\n",
              "      <td>0.041749</td>\n",
              "      <td>0.874937</td>\n",
              "      <td>0.428003</td>\n",
              "      <td>0.047642</td>\n",
              "      <td>...</td>\n",
              "      <td>0.003137</td>\n",
              "      <td>-0.000352</td>\n",
              "      <td>0.004828</td>\n",
              "      <td>-0.383407</td>\n",
              "      <td>-1.153368</td>\n",
              "      <td>-2.331433</td>\n",
              "      <td>NaN</td>\n",
              "      <td>NaN</td>\n",
              "      <td>NaN</td>\n",
              "      <td>NaN</td>\n",
              "    </tr>\n",
              "    <tr>\n",
              "      <th>3</th>\n",
              "      <td>8.41</td>\n",
              "      <td>0</td>\n",
              "      <td>-0.839332</td>\n",
              "      <td>-1.965332</td>\n",
              "      <td>0.852074</td>\n",
              "      <td>0.432989</td>\n",
              "      <td>0.074625</td>\n",
              "      <td>0.879650</td>\n",
              "      <td>0.427961</td>\n",
              "      <td>0.047633</td>\n",
              "      <td>...</td>\n",
              "      <td>0.003298</td>\n",
              "      <td>-0.034234</td>\n",
              "      <td>-0.001454</td>\n",
              "      <td>-0.370695</td>\n",
              "      <td>-1.132127</td>\n",
              "      <td>-2.331288</td>\n",
              "      <td>NaN</td>\n",
              "      <td>NaN</td>\n",
              "      <td>NaN</td>\n",
              "      <td>NaN</td>\n",
              "    </tr>\n",
              "    <tr>\n",
              "      <th>4</th>\n",
              "      <td>8.42</td>\n",
              "      <td>0</td>\n",
              "      <td>-0.839332</td>\n",
              "      <td>-1.965332</td>\n",
              "      <td>0.876366</td>\n",
              "      <td>0.491239</td>\n",
              "      <td>0.086386</td>\n",
              "      <td>0.863274</td>\n",
              "      <td>0.439690</td>\n",
              "      <td>0.056590</td>\n",
              "      <td>...</td>\n",
              "      <td>0.012859</td>\n",
              "      <td>-0.024295</td>\n",
              "      <td>-0.009347</td>\n",
              "      <td>-0.413875</td>\n",
              "      <td>-1.152522</td>\n",
              "      <td>-2.327013</td>\n",
              "      <td>NaN</td>\n",
              "      <td>NaN</td>\n",
              "      <td>NaN</td>\n",
              "      <td>NaN</td>\n",
              "    </tr>\n",
              "  </tbody>\n",
              "</table>\n",
              "<p>5 rows × 54 columns</p>\n",
              "</div>\n",
              "    <div class=\"colab-df-buttons\">\n",
              "\n",
              "  <div class=\"colab-df-container\">\n",
              "    <button class=\"colab-df-convert\" onclick=\"convertToInteractive('df-58c19f70-4276-427c-a511-44ab4ef64d0b')\"\n",
              "            title=\"Convert this dataframe to an interactive table.\"\n",
              "            style=\"display:none;\">\n",
              "\n",
              "  <svg xmlns=\"http://www.w3.org/2000/svg\" height=\"24px\" viewBox=\"0 -960 960 960\">\n",
              "    <path d=\"M120-120v-720h720v720H120Zm60-500h600v-160H180v160Zm220 220h160v-160H400v160Zm0 220h160v-160H400v160ZM180-400h160v-160H180v160Zm440 0h160v-160H620v160ZM180-180h160v-160H180v160Zm440 0h160v-160H620v160Z\"/>\n",
              "  </svg>\n",
              "    </button>\n",
              "\n",
              "  <style>\n",
              "    .colab-df-container {\n",
              "      display:flex;\n",
              "      gap: 12px;\n",
              "    }\n",
              "\n",
              "    .colab-df-convert {\n",
              "      background-color: #E8F0FE;\n",
              "      border: none;\n",
              "      border-radius: 50%;\n",
              "      cursor: pointer;\n",
              "      display: none;\n",
              "      fill: #1967D2;\n",
              "      height: 32px;\n",
              "      padding: 0 0 0 0;\n",
              "      width: 32px;\n",
              "    }\n",
              "\n",
              "    .colab-df-convert:hover {\n",
              "      background-color: #E2EBFA;\n",
              "      box-shadow: 0px 1px 2px rgba(60, 64, 67, 0.3), 0px 1px 3px 1px rgba(60, 64, 67, 0.15);\n",
              "      fill: #174EA6;\n",
              "    }\n",
              "\n",
              "    .colab-df-buttons div {\n",
              "      margin-bottom: 4px;\n",
              "    }\n",
              "\n",
              "    [theme=dark] .colab-df-convert {\n",
              "      background-color: #3B4455;\n",
              "      fill: #D2E3FC;\n",
              "    }\n",
              "\n",
              "    [theme=dark] .colab-df-convert:hover {\n",
              "      background-color: #434B5C;\n",
              "      box-shadow: 0px 1px 3px 1px rgba(0, 0, 0, 0.15);\n",
              "      filter: drop-shadow(0px 1px 2px rgba(0, 0, 0, 0.3));\n",
              "      fill: #FFFFFF;\n",
              "    }\n",
              "  </style>\n",
              "\n",
              "    <script>\n",
              "      const buttonEl =\n",
              "        document.querySelector('#df-58c19f70-4276-427c-a511-44ab4ef64d0b button.colab-df-convert');\n",
              "      buttonEl.style.display =\n",
              "        google.colab.kernel.accessAllowed ? 'block' : 'none';\n",
              "\n",
              "      async function convertToInteractive(key) {\n",
              "        const element = document.querySelector('#df-58c19f70-4276-427c-a511-44ab4ef64d0b');\n",
              "        const dataTable =\n",
              "          await google.colab.kernel.invokeFunction('convertToInteractive',\n",
              "                                                    [key], {});\n",
              "        if (!dataTable) return;\n",
              "\n",
              "        const docLinkHtml = 'Like what you see? Visit the ' +\n",
              "          '<a target=\"_blank\" href=https://colab.research.google.com/notebooks/data_table.ipynb>data table notebook</a>'\n",
              "          + ' to learn more about interactive tables.';\n",
              "        element.innerHTML = '';\n",
              "        dataTable['output_type'] = 'display_data';\n",
              "        await google.colab.output.renderOutput(dataTable, element);\n",
              "        const docLink = document.createElement('div');\n",
              "        docLink.innerHTML = docLinkHtml;\n",
              "        element.appendChild(docLink);\n",
              "      }\n",
              "    </script>\n",
              "  </div>\n",
              "\n",
              "\n",
              "    <div id=\"df-f306f2f1-5025-4523-88b4-660c86df5a00\">\n",
              "      <button class=\"colab-df-quickchart\" onclick=\"quickchart('df-f306f2f1-5025-4523-88b4-660c86df5a00')\"\n",
              "                title=\"Suggest charts\"\n",
              "                style=\"display:none;\">\n",
              "\n",
              "<svg xmlns=\"http://www.w3.org/2000/svg\" height=\"24px\"viewBox=\"0 0 24 24\"\n",
              "     width=\"24px\">\n",
              "    <g>\n",
              "        <path d=\"M19 3H5c-1.1 0-2 .9-2 2v14c0 1.1.9 2 2 2h14c1.1 0 2-.9 2-2V5c0-1.1-.9-2-2-2zM9 17H7v-7h2v7zm4 0h-2V7h2v10zm4 0h-2v-4h2v4z\"/>\n",
              "    </g>\n",
              "</svg>\n",
              "      </button>\n",
              "\n",
              "<style>\n",
              "  .colab-df-quickchart {\n",
              "      --bg-color: #E8F0FE;\n",
              "      --fill-color: #1967D2;\n",
              "      --hover-bg-color: #E2EBFA;\n",
              "      --hover-fill-color: #174EA6;\n",
              "      --disabled-fill-color: #AAA;\n",
              "      --disabled-bg-color: #DDD;\n",
              "  }\n",
              "\n",
              "  [theme=dark] .colab-df-quickchart {\n",
              "      --bg-color: #3B4455;\n",
              "      --fill-color: #D2E3FC;\n",
              "      --hover-bg-color: #434B5C;\n",
              "      --hover-fill-color: #FFFFFF;\n",
              "      --disabled-bg-color: #3B4455;\n",
              "      --disabled-fill-color: #666;\n",
              "  }\n",
              "\n",
              "  .colab-df-quickchart {\n",
              "    background-color: var(--bg-color);\n",
              "    border: none;\n",
              "    border-radius: 50%;\n",
              "    cursor: pointer;\n",
              "    display: none;\n",
              "    fill: var(--fill-color);\n",
              "    height: 32px;\n",
              "    padding: 0;\n",
              "    width: 32px;\n",
              "  }\n",
              "\n",
              "  .colab-df-quickchart:hover {\n",
              "    background-color: var(--hover-bg-color);\n",
              "    box-shadow: 0 1px 2px rgba(60, 64, 67, 0.3), 0 1px 3px 1px rgba(60, 64, 67, 0.15);\n",
              "    fill: var(--button-hover-fill-color);\n",
              "  }\n",
              "\n",
              "  .colab-df-quickchart-complete:disabled,\n",
              "  .colab-df-quickchart-complete:disabled:hover {\n",
              "    background-color: var(--disabled-bg-color);\n",
              "    fill: var(--disabled-fill-color);\n",
              "    box-shadow: none;\n",
              "  }\n",
              "\n",
              "  .colab-df-spinner {\n",
              "    border: 2px solid var(--fill-color);\n",
              "    border-color: transparent;\n",
              "    border-bottom-color: var(--fill-color);\n",
              "    animation:\n",
              "      spin 1s steps(1) infinite;\n",
              "  }\n",
              "\n",
              "  @keyframes spin {\n",
              "    0% {\n",
              "      border-color: transparent;\n",
              "      border-bottom-color: var(--fill-color);\n",
              "      border-left-color: var(--fill-color);\n",
              "    }\n",
              "    20% {\n",
              "      border-color: transparent;\n",
              "      border-left-color: var(--fill-color);\n",
              "      border-top-color: var(--fill-color);\n",
              "    }\n",
              "    30% {\n",
              "      border-color: transparent;\n",
              "      border-left-color: var(--fill-color);\n",
              "      border-top-color: var(--fill-color);\n",
              "      border-right-color: var(--fill-color);\n",
              "    }\n",
              "    40% {\n",
              "      border-color: transparent;\n",
              "      border-right-color: var(--fill-color);\n",
              "      border-top-color: var(--fill-color);\n",
              "    }\n",
              "    60% {\n",
              "      border-color: transparent;\n",
              "      border-right-color: var(--fill-color);\n",
              "    }\n",
              "    80% {\n",
              "      border-color: transparent;\n",
              "      border-right-color: var(--fill-color);\n",
              "      border-bottom-color: var(--fill-color);\n",
              "    }\n",
              "    90% {\n",
              "      border-color: transparent;\n",
              "      border-bottom-color: var(--fill-color);\n",
              "    }\n",
              "  }\n",
              "</style>\n",
              "\n",
              "      <script>\n",
              "        async function quickchart(key) {\n",
              "          const quickchartButtonEl =\n",
              "            document.querySelector('#' + key + ' button');\n",
              "          quickchartButtonEl.disabled = true;  // To prevent multiple clicks.\n",
              "          quickchartButtonEl.classList.add('colab-df-spinner');\n",
              "          try {\n",
              "            const charts = await google.colab.kernel.invokeFunction(\n",
              "                'suggestCharts', [key], {});\n",
              "          } catch (error) {\n",
              "            console.error('Error during call to suggestCharts:', error);\n",
              "          }\n",
              "          quickchartButtonEl.classList.remove('colab-df-spinner');\n",
              "          quickchartButtonEl.classList.add('colab-df-quickchart-complete');\n",
              "        }\n",
              "        (() => {\n",
              "          let quickchartButtonEl =\n",
              "            document.querySelector('#df-f306f2f1-5025-4523-88b4-660c86df5a00 button');\n",
              "          quickchartButtonEl.style.display =\n",
              "            google.colab.kernel.accessAllowed ? 'block' : 'none';\n",
              "        })();\n",
              "      </script>\n",
              "    </div>\n",
              "\n",
              "    </div>\n",
              "  </div>\n"
            ],
            "application/vnd.google.colaboratory.intrinsic+json": {
              "type": "dataframe",
              "variable_name": "df101"
            }
          },
          "metadata": {},
          "execution_count": 12
        }
      ],
      "source": [
        "sample_path = next(RAW_ROOT.glob('*Protocol/subject101.dat'))\n",
        "df101 = load_dat(sample_path)\n",
        "df101.head()\n"
      ]
    },
    {
      "cell_type": "markdown",
      "id": "f4abd713",
      "metadata": {
        "id": "f4abd713"
      },
      "source": [
        "### Cache all subjects (optional, ~1 GB)"
      ]
    },
    {
      "cell_type": "code",
      "execution_count": 13,
      "id": "aade97e0",
      "metadata": {
        "id": "aade97e0",
        "outputId": "f9496eca-2cd1-4ecc-9d88-f7a0cd6faa0d",
        "colab": {
          "base_uri": "https://localhost:8080/"
        }
      },
      "outputs": [
        {
          "output_type": "stream",
          "name": "stderr",
          "text": [
            "Caching: 100%|██████████| 8/8 [00:00<00:00, 4067.70it/s]"
          ]
        },
        {
          "output_type": "stream",
          "name": "stdout",
          "text": [
            "Done ✅\n"
          ]
        },
        {
          "output_type": "stream",
          "name": "stderr",
          "text": [
            "\n"
          ]
        }
      ],
      "source": [
        "for path in tqdm(list(RAW_ROOT.rglob('*.dat')), desc='Caching'):\n",
        "    subj = path.stem.split('.')[0]\n",
        "    out = CACHE_ROOT / f'{subj}.pkl'\n",
        "    if out.exists():\n",
        "        continue\n",
        "    load_dat(path).to_pickle(out)\n",
        "print('Done ✅')\n"
      ]
    },
    {
      "cell_type": "markdown",
      "id": "b54d69f1",
      "metadata": {
        "id": "b54d69f1"
      },
      "source": [
        "## 2  TS2Vec pre‑training"
      ]
    },
    {
      "cell_type": "code",
      "execution_count": null,
      "id": "d12ce852",
      "metadata": {
        "id": "d12ce852",
        "outputId": "78d93cf8-2985-4e10-edc8-0d75713fddca"
      },
      "outputs": [
        {
          "name": "stdout",
          "output_type": "stream",
          "text": [
            "Found existing installation: ts2vec 0.1\n",
            "Uninstalling ts2vec-0.1:\n",
            "  Successfully uninstalled ts2vec-0.1\n",
            "Note: you may need to restart the kernel to use updated packages.\n",
            "Collecting git+https://github.com/yuezhihan/ts2vec.git@main\n",
            "  Cloning https://github.com/yuezhihan/ts2vec.git (to revision main) to /private/var/folders/nb/mdcnqz1d7673k0zpfm275hrm0000gp/T/pip-req-build-nmw08e6r\n",
            "  Running command git clone --filter=blob:none --quiet https://github.com/yuezhihan/ts2vec.git /private/var/folders/nb/mdcnqz1d7673k0zpfm275hrm0000gp/T/pip-req-build-nmw08e6r\n",
            "  Resolved https://github.com/yuezhihan/ts2vec.git to commit b0088e14a99706c05451316dc6db8d3da9351163\n",
            "\u001b[31mERROR: git+https://github.com/yuezhihan/ts2vec.git@main does not appear to be a Python project: neither 'setup.py' nor 'pyproject.toml' found.\u001b[0m\u001b[31m\n",
            "\u001b[0mNote: you may need to restart the kernel to use updated packages.\n"
          ]
        }
      ],
      "source": [
        "%pip uninstall -y ts2vec\n",
        "%pip install git+https://github.com/yuezhihan/ts2vec.git@main\n"
      ]
    },
    {
      "cell_type": "code",
      "execution_count": null,
      "id": "0445eb64",
      "metadata": {
        "id": "0445eb64",
        "outputId": "1baf3819-9f59-4666-f161-3ff37421b380"
      },
      "outputs": [
        {
          "name": "stdout",
          "output_type": "stream",
          "text": [
            "Collecting ts2vec\n",
            "  Using cached ts2vec-0.1-py3-none-any.whl.metadata (53 bytes)\n",
            "Using cached ts2vec-0.1-py3-none-any.whl (18 kB)\n",
            "Installing collected packages: ts2vec\n",
            "Successfully installed ts2vec-0.1\n",
            "Note: you may need to restart the kernel to use updated packages.\n"
          ]
        }
      ],
      "source": [
        "%pip install ts2vec"
      ]
    },
    {
      "cell_type": "code",
      "execution_count": null,
      "id": "024ccd61",
      "metadata": {
        "id": "024ccd61"
      },
      "outputs": [],
      "source": [
        "\n"
      ]
    },
    {
      "cell_type": "code",
      "execution_count": 11,
      "id": "ca8eafb7",
      "metadata": {
        "id": "ca8eafb7"
      },
      "outputs": [],
      "source": [
        "def window_iter(data, win_sec=5, stride_sec=2, fs=100):\n",
        "    win = win_sec * fs\n",
        "    stride = stride_sec * fs\n",
        "    for start in range(0, len(data) - win, stride):\n",
        "        yield data[start:start+win].values\n"
      ]
    },
    {
      "cell_type": "code",
      "execution_count": 12,
      "id": "960c3e15",
      "metadata": {
        "id": "960c3e15",
        "outputId": "4fbbc8dd-a72e-4b61-d4f2-26c830249480",
        "colab": {
          "base_uri": "https://localhost:8080/"
        }
      },
      "outputs": [
        {
          "output_type": "stream",
          "name": "stdout",
          "text": [
            "Total windows: 14344\n"
          ]
        }
      ],
      "source": [
        "class PAMAP2Windows(torch.utils.data.Dataset):\n",
        "    def __init__(self, cache_root=CACHE_ROOT):\n",
        "        self.paths = list(cache_root.glob('subject*.pkl'))\n",
        "        self.windows = []\n",
        "        for p in self.paths:\n",
        "            # DON’T call .to_numpy() here\n",
        "            df = pd.read_pickle(p).drop(columns=['timestamp', 'activity_id'])\n",
        "            self.windows += list(window_iter(df))\n",
        "    def __len__(self): return len(self.windows)\n",
        "    def __getitem__(self, idx):\n",
        "        return torch.from_numpy(self.windows[idx]).float()\n",
        "\n",
        "\n",
        "dataset = PAMAP2Windows()\n",
        "print('Total windows:', len(dataset))\n"
      ]
    },
    {
      "cell_type": "code",
      "execution_count": 13,
      "id": "9e765443",
      "metadata": {
        "id": "9e765443",
        "outputId": "095febae-6509-46b8-8e39-76f9bf6a002d",
        "colab": {
          "base_uri": "https://localhost:8080/"
        }
      },
      "outputs": [
        {
          "output_type": "stream",
          "name": "stdout",
          "text": [
            "Stacked: (14344, 500, 52) ≈ 1.49 GB\n"
          ]
        },
        {
          "output_type": "execute_result",
          "data": {
            "text/plain": [
              "8"
            ]
          },
          "metadata": {},
          "execution_count": 13
        }
      ],
      "source": [
        "import numpy as np, gc, torch\n",
        "\n",
        "# ── Build a single 3-D array (may take ~1-2 GB of RAM)\n",
        "all_windows = np.stack(dataset.windows, axis=0).astype(np.float32)\n",
        "print('Stacked:', all_windows.shape, f'≈ {all_windows.nbytes/1e9:.2f} GB')\n",
        "\n",
        "# free the Python list; we only need the big array from here on\n",
        "del dataset\n",
        "gc.collect()"
      ]
    },
    {
      "cell_type": "code",
      "execution_count": 8,
      "id": "af5f7555",
      "metadata": {
        "id": "af5f7555",
        "outputId": "595c8508-2fad-4e5a-c00d-d3497ff962a8",
        "colab": {
          "base_uri": "https://localhost:8080/"
        }
      },
      "outputs": [
        {
          "output_type": "stream",
          "name": "stdout",
          "text": [
            "Using device: cuda\n"
          ]
        }
      ],
      "source": [
        "import torch\n",
        "#torch.backends.mps.is_available()\n",
        "# → True  ✅\n",
        "#device = 'mps' if torch.backends.mps.is_available() else 'cpu'\n",
        "\n",
        "\n",
        "# Colab → use the CUDA device if the notebook is attached to a GPU runtime,\n",
        "# otherwise fall back to CPU.\n",
        "device = torch.device('cuda' if torch.cuda.is_available() else 'cpu')\n",
        "\n",
        "print('Using device:', device)\n",
        "\n"
      ]
    },
    {
      "cell_type": "code",
      "execution_count": 14,
      "id": "a7c43a2d",
      "metadata": {
        "id": "a7c43a2d",
        "outputId": "3208d77e-5f13-4590-a76a-9737d64791fa",
        "colab": {
          "base_uri": "https://localhost:8080/"
        }
      },
      "outputs": [
        {
          "output_type": "stream",
          "name": "stdout",
          "text": [
            "Epoch #0: loss=6.682124648775373\n",
            "Epoch #1: loss=3.38065528018134\n",
            "Epoch #2: loss=2.966054801430021\n",
            "Epoch #3: loss=2.5879269199711934\n",
            "Epoch #4: loss=2.287498559270586\n",
            "Epoch #5: loss=2.094871482678822\n",
            "Epoch #6: loss=1.9605490160839898\n",
            "Epoch #7: loss=1.841879386987005\n",
            "Epoch #8: loss=1.705591184752328\n",
            "Epoch #9: loss=1.6370791239397866\n",
            "Epoch #10: loss=1.6358701011964254\n",
            "Epoch #11: loss=1.56590550499303\n",
            "Epoch #12: loss=1.516149110027722\n",
            "Epoch #13: loss=1.4603432608502251\n",
            "Epoch #14: loss=1.308795622416905\n",
            "Epoch #15: loss=1.3436941759926933\n",
            "Epoch #16: loss=1.2931537617530142\n",
            "Epoch #17: loss=1.241940224809306\n",
            "Epoch #18: loss=1.2706349353705133\n",
            "Epoch #19: loss=1.1982874838369233\n"
          ]
        }
      ],
      "source": [
        "enc = TS2Vec(\n",
        "    input_dims=52,\n",
        "    output_dims=320,\n",
        "    device=device,\n",
        "    batch_size=256,   # hyper-params live in the constructor\n",
        "    lr=1e-3\n",
        ")\n",
        "\n",
        "enc.fit(all_windows, n_epochs=20, verbose=True)\n",
        "enc.save('ts2vec_backbone.pt')\n"
      ]
    },
    {
      "cell_type": "code",
      "source": [
        "# save the backbone for later use\n",
        "save_path = '/content/drive/MyDrive/FractalSSL_backup/models/ts2vec_backbone.pt'\n",
        "enc.save(save_path)\n"
      ],
      "metadata": {
        "id": "67ii11CG2E9z"
      },
      "id": "67ii11CG2E9z",
      "execution_count": 15,
      "outputs": []
    },
    {
      "cell_type": "code",
      "source": [
        "# load the backbone\n",
        "enc = TS2Vec(\n",
        "    input_dims=52,\n",
        "    output_dims=320,\n",
        "    device=device,\n",
        "    batch_size=256,\n",
        "    lr=1e-3\n",
        ")\n",
        "enc.load('/content/drive/MyDrive/FractalSSL_backup/models/ts2vec_backbone.pt')"
      ],
      "metadata": {
        "id": "yp_kEhOz1Vjg"
      },
      "id": "yp_kEhOz1Vjg",
      "execution_count": 16,
      "outputs": []
    },
    {
      "cell_type": "code",
      "execution_count": null,
      "id": "8d5120d6",
      "metadata": {
        "id": "8d5120d6"
      },
      "outputs": [],
      "source": [
        "# Project a random batch and inspect shape\n",
        "batch = torch.from_numpy(all_windows[np.random.choice(len(all_windows), 32)]).float().to(device)\n",
        "embeddings = enc(batch)\n",
        "print('Batch shape:', batch.shape, '→ Embeddings shape:', embeddings.shape)\n",
        "\n"
      ]
    },
    {
      "cell_type": "code",
      "execution_count": 19,
      "id": "8cb01d7c",
      "metadata": {
        "id": "8cb01d7c",
        "outputId": "67a8c1aa-f17f-4ae0-9c27-19f28933bcc5",
        "colab": {
          "base_uri": "https://localhost:8080/"
        }
      },
      "outputs": [
        {
          "output_type": "stream",
          "name": "stderr",
          "text": [
            "/tmp/ipython-input-18-981279570.py:13: FutureWarning: A value is trying to be set on a copy of a DataFrame or Series through chained assignment using an inplace method.\n",
            "The behavior will change in pandas 3.0. This inplace method will never work because the intermediate object on which we are setting values always behaves as a copy.\n",
            "\n",
            "For example, when doing 'df[col].method(value, inplace=True)', try using 'df.method({col: value}, inplace=True)' or df[col] = df[col].method(value) instead, to perform the operation inplace on the original object.\n",
            "\n",
            "\n",
            "  df['heart_rate'].replace(-1, np.nan, inplace=True)\n",
            "/tmp/ipython-input-18-981279570.py:14: FutureWarning: A value is trying to be set on a copy of a DataFrame or Series through chained assignment using an inplace method.\n",
            "The behavior will change in pandas 3.0. This inplace method will never work because the intermediate object on which we are setting values always behaves as a copy.\n",
            "\n",
            "For example, when doing 'df[col].method(value, inplace=True)', try using 'df.method({col: value}, inplace=True)' or df[col] = df[col].method(value) instead, to perform the operation inplace on the original object.\n",
            "\n",
            "\n",
            "  df['heart_rate'].interpolate(method='linear', limit_direction='both', inplace=True)\n",
            "/tmp/ipython-input-18-981279570.py:13: FutureWarning: A value is trying to be set on a copy of a DataFrame or Series through chained assignment using an inplace method.\n",
            "The behavior will change in pandas 3.0. This inplace method will never work because the intermediate object on which we are setting values always behaves as a copy.\n",
            "\n",
            "For example, when doing 'df[col].method(value, inplace=True)', try using 'df.method({col: value}, inplace=True)' or df[col] = df[col].method(value) instead, to perform the operation inplace on the original object.\n",
            "\n",
            "\n",
            "  df['heart_rate'].replace(-1, np.nan, inplace=True)\n",
            "/tmp/ipython-input-18-981279570.py:14: FutureWarning: A value is trying to be set on a copy of a DataFrame or Series through chained assignment using an inplace method.\n",
            "The behavior will change in pandas 3.0. This inplace method will never work because the intermediate object on which we are setting values always behaves as a copy.\n",
            "\n",
            "For example, when doing 'df[col].method(value, inplace=True)', try using 'df.method({col: value}, inplace=True)' or df[col] = df[col].method(value) instead, to perform the operation inplace on the original object.\n",
            "\n",
            "\n",
            "  df['heart_rate'].interpolate(method='linear', limit_direction='both', inplace=True)\n",
            "/tmp/ipython-input-18-981279570.py:13: FutureWarning: A value is trying to be set on a copy of a DataFrame or Series through chained assignment using an inplace method.\n",
            "The behavior will change in pandas 3.0. This inplace method will never work because the intermediate object on which we are setting values always behaves as a copy.\n",
            "\n",
            "For example, when doing 'df[col].method(value, inplace=True)', try using 'df.method({col: value}, inplace=True)' or df[col] = df[col].method(value) instead, to perform the operation inplace on the original object.\n",
            "\n",
            "\n",
            "  df['heart_rate'].replace(-1, np.nan, inplace=True)\n",
            "/tmp/ipython-input-18-981279570.py:14: FutureWarning: A value is trying to be set on a copy of a DataFrame or Series through chained assignment using an inplace method.\n",
            "The behavior will change in pandas 3.0. This inplace method will never work because the intermediate object on which we are setting values always behaves as a copy.\n",
            "\n",
            "For example, when doing 'df[col].method(value, inplace=True)', try using 'df.method({col: value}, inplace=True)' or df[col] = df[col].method(value) instead, to perform the operation inplace on the original object.\n",
            "\n",
            "\n",
            "  df['heart_rate'].interpolate(method='linear', limit_direction='both', inplace=True)\n",
            "/tmp/ipython-input-18-981279570.py:13: FutureWarning: A value is trying to be set on a copy of a DataFrame or Series through chained assignment using an inplace method.\n",
            "The behavior will change in pandas 3.0. This inplace method will never work because the intermediate object on which we are setting values always behaves as a copy.\n",
            "\n",
            "For example, when doing 'df[col].method(value, inplace=True)', try using 'df.method({col: value}, inplace=True)' or df[col] = df[col].method(value) instead, to perform the operation inplace on the original object.\n",
            "\n",
            "\n",
            "  df['heart_rate'].replace(-1, np.nan, inplace=True)\n",
            "/tmp/ipython-input-18-981279570.py:14: FutureWarning: A value is trying to be set on a copy of a DataFrame or Series through chained assignment using an inplace method.\n",
            "The behavior will change in pandas 3.0. This inplace method will never work because the intermediate object on which we are setting values always behaves as a copy.\n",
            "\n",
            "For example, when doing 'df[col].method(value, inplace=True)', try using 'df.method({col: value}, inplace=True)' or df[col] = df[col].method(value) instead, to perform the operation inplace on the original object.\n",
            "\n",
            "\n",
            "  df['heart_rate'].interpolate(method='linear', limit_direction='both', inplace=True)\n",
            "/tmp/ipython-input-18-981279570.py:13: FutureWarning: A value is trying to be set on a copy of a DataFrame or Series through chained assignment using an inplace method.\n",
            "The behavior will change in pandas 3.0. This inplace method will never work because the intermediate object on which we are setting values always behaves as a copy.\n",
            "\n",
            "For example, when doing 'df[col].method(value, inplace=True)', try using 'df.method({col: value}, inplace=True)' or df[col] = df[col].method(value) instead, to perform the operation inplace on the original object.\n",
            "\n",
            "\n",
            "  df['heart_rate'].replace(-1, np.nan, inplace=True)\n",
            "/tmp/ipython-input-18-981279570.py:14: FutureWarning: A value is trying to be set on a copy of a DataFrame or Series through chained assignment using an inplace method.\n",
            "The behavior will change in pandas 3.0. This inplace method will never work because the intermediate object on which we are setting values always behaves as a copy.\n",
            "\n",
            "For example, when doing 'df[col].method(value, inplace=True)', try using 'df.method({col: value}, inplace=True)' or df[col] = df[col].method(value) instead, to perform the operation inplace on the original object.\n",
            "\n",
            "\n",
            "  df['heart_rate'].interpolate(method='linear', limit_direction='both', inplace=True)\n",
            "/tmp/ipython-input-18-981279570.py:13: FutureWarning: A value is trying to be set on a copy of a DataFrame or Series through chained assignment using an inplace method.\n",
            "The behavior will change in pandas 3.0. This inplace method will never work because the intermediate object on which we are setting values always behaves as a copy.\n",
            "\n",
            "For example, when doing 'df[col].method(value, inplace=True)', try using 'df.method({col: value}, inplace=True)' or df[col] = df[col].method(value) instead, to perform the operation inplace on the original object.\n",
            "\n",
            "\n",
            "  df['heart_rate'].replace(-1, np.nan, inplace=True)\n",
            "/tmp/ipython-input-18-981279570.py:14: FutureWarning: A value is trying to be set on a copy of a DataFrame or Series through chained assignment using an inplace method.\n",
            "The behavior will change in pandas 3.0. This inplace method will never work because the intermediate object on which we are setting values always behaves as a copy.\n",
            "\n",
            "For example, when doing 'df[col].method(value, inplace=True)', try using 'df.method({col: value}, inplace=True)' or df[col] = df[col].method(value) instead, to perform the operation inplace on the original object.\n",
            "\n",
            "\n",
            "  df['heart_rate'].interpolate(method='linear', limit_direction='both', inplace=True)\n",
            "/tmp/ipython-input-18-981279570.py:13: FutureWarning: A value is trying to be set on a copy of a DataFrame or Series through chained assignment using an inplace method.\n",
            "The behavior will change in pandas 3.0. This inplace method will never work because the intermediate object on which we are setting values always behaves as a copy.\n",
            "\n",
            "For example, when doing 'df[col].method(value, inplace=True)', try using 'df.method({col: value}, inplace=True)' or df[col] = df[col].method(value) instead, to perform the operation inplace on the original object.\n",
            "\n",
            "\n",
            "  df['heart_rate'].replace(-1, np.nan, inplace=True)\n",
            "/tmp/ipython-input-18-981279570.py:14: FutureWarning: A value is trying to be set on a copy of a DataFrame or Series through chained assignment using an inplace method.\n",
            "The behavior will change in pandas 3.0. This inplace method will never work because the intermediate object on which we are setting values always behaves as a copy.\n",
            "\n",
            "For example, when doing 'df[col].method(value, inplace=True)', try using 'df.method({col: value}, inplace=True)' or df[col] = df[col].method(value) instead, to perform the operation inplace on the original object.\n",
            "\n",
            "\n",
            "  df['heart_rate'].interpolate(method='linear', limit_direction='both', inplace=True)\n",
            "/tmp/ipython-input-18-981279570.py:13: FutureWarning: A value is trying to be set on a copy of a DataFrame or Series through chained assignment using an inplace method.\n",
            "The behavior will change in pandas 3.0. This inplace method will never work because the intermediate object on which we are setting values always behaves as a copy.\n",
            "\n",
            "For example, when doing 'df[col].method(value, inplace=True)', try using 'df.method({col: value}, inplace=True)' or df[col] = df[col].method(value) instead, to perform the operation inplace on the original object.\n",
            "\n",
            "\n",
            "  df['heart_rate'].replace(-1, np.nan, inplace=True)\n",
            "/tmp/ipython-input-18-981279570.py:14: FutureWarning: A value is trying to be set on a copy of a DataFrame or Series through chained assignment using an inplace method.\n",
            "The behavior will change in pandas 3.0. This inplace method will never work because the intermediate object on which we are setting values always behaves as a copy.\n",
            "\n",
            "For example, when doing 'df[col].method(value, inplace=True)', try using 'df.method({col: value}, inplace=True)' or df[col] = df[col].method(value) instead, to perform the operation inplace on the original object.\n",
            "\n",
            "\n",
            "  df['heart_rate'].interpolate(method='linear', limit_direction='both', inplace=True)\n",
            "/tmp/ipython-input-18-981279570.py:13: FutureWarning: A value is trying to be set on a copy of a DataFrame or Series through chained assignment using an inplace method.\n",
            "The behavior will change in pandas 3.0. This inplace method will never work because the intermediate object on which we are setting values always behaves as a copy.\n",
            "\n",
            "For example, when doing 'df[col].method(value, inplace=True)', try using 'df.method({col: value}, inplace=True)' or df[col] = df[col].method(value) instead, to perform the operation inplace on the original object.\n",
            "\n",
            "\n",
            "  df['heart_rate'].replace(-1, np.nan, inplace=True)\n",
            "/tmp/ipython-input-18-981279570.py:14: FutureWarning: A value is trying to be set on a copy of a DataFrame or Series through chained assignment using an inplace method.\n",
            "The behavior will change in pandas 3.0. This inplace method will never work because the intermediate object on which we are setting values always behaves as a copy.\n",
            "\n",
            "For example, when doing 'df[col].method(value, inplace=True)', try using 'df.method({col: value}, inplace=True)' or df[col] = df[col].method(value) instead, to perform the operation inplace on the original object.\n",
            "\n",
            "\n",
            "  df['heart_rate'].interpolate(method='linear', limit_direction='both', inplace=True)\n",
            "/tmp/ipython-input-18-981279570.py:13: FutureWarning: A value is trying to be set on a copy of a DataFrame or Series through chained assignment using an inplace method.\n",
            "The behavior will change in pandas 3.0. This inplace method will never work because the intermediate object on which we are setting values always behaves as a copy.\n",
            "\n",
            "For example, when doing 'df[col].method(value, inplace=True)', try using 'df.method({col: value}, inplace=True)' or df[col] = df[col].method(value) instead, to perform the operation inplace on the original object.\n",
            "\n",
            "\n",
            "  df['heart_rate'].replace(-1, np.nan, inplace=True)\n",
            "/tmp/ipython-input-18-981279570.py:14: FutureWarning: A value is trying to be set on a copy of a DataFrame or Series through chained assignment using an inplace method.\n",
            "The behavior will change in pandas 3.0. This inplace method will never work because the intermediate object on which we are setting values always behaves as a copy.\n",
            "\n",
            "For example, when doing 'df[col].method(value, inplace=True)', try using 'df.method({col: value}, inplace=True)' or df[col] = df[col].method(value) instead, to perform the operation inplace on the original object.\n",
            "\n",
            "\n",
            "  df['heart_rate'].interpolate(method='linear', limit_direction='both', inplace=True)\n",
            "/tmp/ipython-input-18-981279570.py:13: FutureWarning: A value is trying to be set on a copy of a DataFrame or Series through chained assignment using an inplace method.\n",
            "The behavior will change in pandas 3.0. This inplace method will never work because the intermediate object on which we are setting values always behaves as a copy.\n",
            "\n",
            "For example, when doing 'df[col].method(value, inplace=True)', try using 'df.method({col: value}, inplace=True)' or df[col] = df[col].method(value) instead, to perform the operation inplace on the original object.\n",
            "\n",
            "\n",
            "  df['heart_rate'].replace(-1, np.nan, inplace=True)\n",
            "/tmp/ipython-input-18-981279570.py:14: FutureWarning: A value is trying to be set on a copy of a DataFrame or Series through chained assignment using an inplace method.\n",
            "The behavior will change in pandas 3.0. This inplace method will never work because the intermediate object on which we are setting values always behaves as a copy.\n",
            "\n",
            "For example, when doing 'df[col].method(value, inplace=True)', try using 'df.method({col: value}, inplace=True)' or df[col] = df[col].method(value) instead, to perform the operation inplace on the original object.\n",
            "\n",
            "\n",
            "  df['heart_rate'].interpolate(method='linear', limit_direction='both', inplace=True)\n",
            "/tmp/ipython-input-18-981279570.py:13: FutureWarning: A value is trying to be set on a copy of a DataFrame or Series through chained assignment using an inplace method.\n",
            "The behavior will change in pandas 3.0. This inplace method will never work because the intermediate object on which we are setting values always behaves as a copy.\n",
            "\n",
            "For example, when doing 'df[col].method(value, inplace=True)', try using 'df.method({col: value}, inplace=True)' or df[col] = df[col].method(value) instead, to perform the operation inplace on the original object.\n",
            "\n",
            "\n",
            "  df['heart_rate'].replace(-1, np.nan, inplace=True)\n",
            "/tmp/ipython-input-18-981279570.py:14: FutureWarning: A value is trying to be set on a copy of a DataFrame or Series through chained assignment using an inplace method.\n",
            "The behavior will change in pandas 3.0. This inplace method will never work because the intermediate object on which we are setting values always behaves as a copy.\n",
            "\n",
            "For example, when doing 'df[col].method(value, inplace=True)', try using 'df.method({col: value}, inplace=True)' or df[col] = df[col].method(value) instead, to perform the operation inplace on the original object.\n",
            "\n",
            "\n",
            "  df['heart_rate'].interpolate(method='linear', limit_direction='both', inplace=True)\n",
            "/tmp/ipython-input-18-981279570.py:13: FutureWarning: A value is trying to be set on a copy of a DataFrame or Series through chained assignment using an inplace method.\n",
            "The behavior will change in pandas 3.0. This inplace method will never work because the intermediate object on which we are setting values always behaves as a copy.\n",
            "\n",
            "For example, when doing 'df[col].method(value, inplace=True)', try using 'df.method({col: value}, inplace=True)' or df[col] = df[col].method(value) instead, to perform the operation inplace on the original object.\n",
            "\n",
            "\n",
            "  df['heart_rate'].replace(-1, np.nan, inplace=True)\n",
            "/tmp/ipython-input-18-981279570.py:14: FutureWarning: A value is trying to be set on a copy of a DataFrame or Series through chained assignment using an inplace method.\n",
            "The behavior will change in pandas 3.0. This inplace method will never work because the intermediate object on which we are setting values always behaves as a copy.\n",
            "\n",
            "For example, when doing 'df[col].method(value, inplace=True)', try using 'df.method({col: value}, inplace=True)' or df[col] = df[col].method(value) instead, to perform the operation inplace on the original object.\n",
            "\n",
            "\n",
            "  df['heart_rate'].interpolate(method='linear', limit_direction='both', inplace=True)\n",
            "/tmp/ipython-input-18-981279570.py:13: FutureWarning: A value is trying to be set on a copy of a DataFrame or Series through chained assignment using an inplace method.\n",
            "The behavior will change in pandas 3.0. This inplace method will never work because the intermediate object on which we are setting values always behaves as a copy.\n",
            "\n",
            "For example, when doing 'df[col].method(value, inplace=True)', try using 'df.method({col: value}, inplace=True)' or df[col] = df[col].method(value) instead, to perform the operation inplace on the original object.\n",
            "\n",
            "\n",
            "  df['heart_rate'].replace(-1, np.nan, inplace=True)\n",
            "/tmp/ipython-input-18-981279570.py:14: FutureWarning: A value is trying to be set on a copy of a DataFrame or Series through chained assignment using an inplace method.\n",
            "The behavior will change in pandas 3.0. This inplace method will never work because the intermediate object on which we are setting values always behaves as a copy.\n",
            "\n",
            "For example, when doing 'df[col].method(value, inplace=True)', try using 'df.method({col: value}, inplace=True)' or df[col] = df[col].method(value) instead, to perform the operation inplace on the original object.\n",
            "\n",
            "\n",
            "  df['heart_rate'].interpolate(method='linear', limit_direction='both', inplace=True)\n"
          ]
        },
        {
          "output_type": "stream",
          "name": "stdout",
          "text": [
            "Windows: 19224 Shape: torch.Size([500, 52])\n"
          ]
        }
      ],
      "source": [
        "from torch.utils.data import Dataset, DataLoader\n",
        "import numpy as np, pandas as pd, torch, random\n",
        "from pathlib import Path\n",
        "\n",
        "class PAMAP2LabeledWindows(Dataset):\n",
        "    def __init__(self, raw_root, win_sec=5, stride_sec=2, fs=100):\n",
        "        self.X, self.y = [], []\n",
        "        win, stride = win_sec*fs, stride_sec*fs\n",
        "        for f in Path(raw_root).rglob('subject*.dat'):\n",
        "            df = load_dat(f)                         # reuse helper\n",
        "            data = df.drop(columns=['timestamp']).to_numpy(dtype=np.float32)\n",
        "            acts = df['activity_id'].to_numpy()\n",
        "            for start in range(0, len(df)-win, stride):\n",
        "                end = start+win\n",
        "                self.X.append(data[start:end, 1:])   # sensor channels\n",
        "                # majority label in the window:\n",
        "                label = np.bincount(acts[start:end]).argmax()\n",
        "                self.y.append(label)\n",
        "        self.X, self.y = np.stack(self.X), np.array(self.y, dtype=np.int64)\n",
        "\n",
        "    def __len__(self):  return len(self.y)\n",
        "    def __getitem__(self, idx):\n",
        "        return torch.from_numpy(self.X[idx]), self.y[idx]\n",
        "\n",
        "labeled_ds = PAMAP2LabeledWindows(RAW_ROOT)\n",
        "print('Windows:', len(labeled_ds), 'Shape:', labeled_ds[0][0].shape)\n"
      ]
    },
    {
      "cell_type": "code",
      "execution_count": 20,
      "id": "168cebc2",
      "metadata": {
        "id": "168cebc2"
      },
      "outputs": [],
      "source": [
        "\n",
        "with torch.no_grad():                     # optional – encode() already uses no_grad\n",
        "    feats = enc.encode(\n",
        "        labeled_ds.X.astype(np.float32)   # pass a NumPy array, not a tensor\n",
        "    )                                     # (N, L, D)\n",
        "\n",
        "# keep only the last time-step representation\n",
        "feats = feats[:, -1, :]                   # (N, D)\n",
        "labels = labeled_ds.y\n",
        "\n"
      ]
    },
    {
      "cell_type": "code",
      "execution_count": 21,
      "id": "d5c1783b",
      "metadata": {
        "colab": {
          "base_uri": "https://localhost:8080/"
        },
        "id": "d5c1783b",
        "outputId": "8351fb11-08ca-4601-9ff5-a1457f8261b4"
      },
      "outputs": [
        {
          "output_type": "stream",
          "name": "stderr",
          "text": [
            "/usr/local/lib/python3.11/dist-packages/sklearn/linear_model/_logistic.py:1247: FutureWarning: 'multi_class' was deprecated in version 1.5 and will be removed in 1.7. From then on, it will always use 'multinomial'. Leave it to its default value to avoid this warning.\n",
            "  warnings.warn(\n"
          ]
        },
        {
          "output_type": "stream",
          "name": "stdout",
          "text": [
            "              precision    recall  f1-score   support\n",
            "\n",
            "           0      0.517     0.779     0.621      1121\n",
            "           1      0.981     0.813     0.890       193\n",
            "           2      0.943     0.811     0.872       185\n",
            "           3      0.821     0.795     0.807       190\n",
            "           4      0.722     0.744     0.733       238\n",
            "           5      0.808     0.602     0.690        98\n",
            "           6      0.949     0.794     0.865       165\n",
            "           7      0.688     0.561     0.618       189\n",
            "           9      0.000     0.000     0.000        83\n",
            "          10      0.929     0.887     0.908       310\n",
            "          11      0.000     0.000     0.000        54\n",
            "          12      0.554     0.350     0.429       117\n",
            "          13      0.588     0.381     0.462       105\n",
            "          16      0.689     0.583     0.632       175\n",
            "          17      0.848     0.770     0.807       239\n",
            "          18      0.750     0.570     0.648       100\n",
            "          19      0.592     0.310     0.407       187\n",
            "          20      0.718     0.596     0.651        47\n",
            "          24      0.731     0.388     0.507        49\n",
            "\n",
            "    accuracy                          0.678      3845\n",
            "   macro avg      0.675     0.565     0.608      3845\n",
            "weighted avg      0.684     0.678     0.667      3845\n",
            "\n"
          ]
        },
        {
          "output_type": "stream",
          "name": "stderr",
          "text": [
            "/usr/local/lib/python3.11/dist-packages/sklearn/metrics/_classification.py:1565: UndefinedMetricWarning: Precision is ill-defined and being set to 0.0 in labels with no predicted samples. Use `zero_division` parameter to control this behavior.\n",
            "  _warn_prf(average, modifier, f\"{metric.capitalize()} is\", len(result))\n",
            "/usr/local/lib/python3.11/dist-packages/sklearn/metrics/_classification.py:1565: UndefinedMetricWarning: Precision is ill-defined and being set to 0.0 in labels with no predicted samples. Use `zero_division` parameter to control this behavior.\n",
            "  _warn_prf(average, modifier, f\"{metric.capitalize()} is\", len(result))\n",
            "/usr/local/lib/python3.11/dist-packages/sklearn/metrics/_classification.py:1565: UndefinedMetricWarning: Precision is ill-defined and being set to 0.0 in labels with no predicted samples. Use `zero_division` parameter to control this behavior.\n",
            "  _warn_prf(average, modifier, f\"{metric.capitalize()} is\", len(result))\n"
          ]
        }
      ],
      "source": [
        "from sklearn.model_selection import train_test_split\n",
        "from sklearn.linear_model import LogisticRegression\n",
        "from sklearn.metrics import classification_report, confusion_matrix\n",
        "\n",
        "Xtr, Xte, ytr, yte = train_test_split(\n",
        "    feats, labels, test_size=0.2, stratify=labels, random_state=42)\n",
        "\n",
        "clf = LogisticRegression(\n",
        "    max_iter=500, multi_class='multinomial', solver='lbfgs')\n",
        "clf.fit(Xtr, ytr)\n",
        "\n",
        "pred = clf.predict(Xte)\n",
        "print(classification_report(yte, pred, digits=3))\n"
      ]
    },
    {
      "cell_type": "code",
      "execution_count": 22,
      "id": "4213f72e",
      "metadata": {
        "id": "4213f72e",
        "outputId": "22819ddb-7385-4ebf-820b-6e3f6632f4e1",
        "colab": {
          "base_uri": "https://localhost:8080/",
          "height": 564
        }
      },
      "outputs": [
        {
          "output_type": "display_data",
          "data": {
            "text/plain": [
              "<Figure size 800x600 with 2 Axes>"
            ],
            "image/png": "[encoded data removed]"
          },
          "metadata": {}
        }
      ],
      "source": [
        "import seaborn as sns, matplotlib.pyplot as plt\n",
        "cm = confusion_matrix(yte, pred)\n",
        "plt.figure(figsize=(8,6))\n",
        "sns.heatmap(cm, annot=True, fmt='d', cmap='Blues')\n",
        "plt.xlabel('Predicted'); plt.ylabel('True'); plt.title('PAMAP2 – TS2Vec linear probe')\n",
        "plt.show()\n"
      ]
    },
    {
      "cell_type": "code",
      "source": [
        "from sklearn.utils.class_weight import compute_class_weight\n",
        "\n",
        "# compute balanced class weights\n",
        "classes = np.unique(ytr)\n",
        "weights = compute_class_weight('balanced', classes=classes, y=ytr)\n",
        "class_w = dict(zip(classes, weights))\n",
        "\n",
        "clf_bal = LogisticRegression(\n",
        "    max_iter=1000,\n",
        "    class_weight=class_w,          # <–\n",
        "    solver='lbfgs'\n",
        ").fit(Xtr, ytr)\n",
        "\n",
        "print(classification_report(yte, clf_bal.predict(Xte), digits=3))\n"
      ],
      "metadata": {
        "colab": {
          "base_uri": "https://localhost:8080/"
        },
        "id": "Z1YC5_AT7K2c",
        "outputId": "cf9f644d-bb87-4e8a-f040-aadd25fa3b2d"
      },
      "id": "Z1YC5_AT7K2c",
      "execution_count": 25,
      "outputs": [
        {
          "output_type": "stream",
          "name": "stdout",
          "text": [
            "              precision    recall  f1-score   support\n",
            "\n",
            "           0      0.844     0.266     0.404      1121\n",
            "           1      0.915     0.834     0.873       193\n",
            "           2      0.899     0.822     0.859       185\n",
            "           3      0.743     0.837     0.787       190\n",
            "           4      0.695     0.803     0.745       238\n",
            "           5      0.622     0.571     0.596        98\n",
            "           6      0.838     0.812     0.825       165\n",
            "           7      0.568     0.661     0.611       189\n",
            "           9      0.000     0.000     0.000        83\n",
            "          10      0.853     0.900     0.876       310\n",
            "          11      0.077     1.000     0.144        54\n",
            "          12      0.435     0.598     0.504       117\n",
            "          13      0.367     0.524     0.431       105\n",
            "          16      0.592     0.680     0.633       175\n",
            "          17      0.823     0.795     0.809       239\n",
            "          18      0.492     0.630     0.553       100\n",
            "          19      0.490     0.406     0.444       187\n",
            "          20      0.457     0.787     0.578        47\n",
            "          24      0.339     0.388     0.362        49\n",
            "\n",
            "    accuracy                          0.582      3845\n",
            "   macro avg      0.582     0.648     0.581      3845\n",
            "weighted avg      0.712     0.582     0.595      3845\n",
            "\n"
          ]
        },
        {
          "output_type": "stream",
          "name": "stderr",
          "text": [
            "/usr/local/lib/python3.11/dist-packages/sklearn/metrics/_classification.py:1565: UndefinedMetricWarning: Precision is ill-defined and being set to 0.0 in labels with no predicted samples. Use `zero_division` parameter to control this behavior.\n",
            "  _warn_prf(average, modifier, f\"{metric.capitalize()} is\", len(result))\n",
            "/usr/local/lib/python3.11/dist-packages/sklearn/metrics/_classification.py:1565: UndefinedMetricWarning: Precision is ill-defined and being set to 0.0 in labels with no predicted samples. Use `zero_division` parameter to control this behavior.\n",
            "  _warn_prf(average, modifier, f\"{metric.capitalize()} is\", len(result))\n",
            "/usr/local/lib/python3.11/dist-packages/sklearn/metrics/_classification.py:1565: UndefinedMetricWarning: Precision is ill-defined and being set to 0.0 in labels with no predicted samples. Use `zero_division` parameter to control this behavior.\n",
            "  _warn_prf(average, modifier, f\"{metric.capitalize()} is\", len(result))\n"
          ]
        }
      ]
    },
    {
      "cell_type": "markdown",
      "id": "c18463cc",
      "metadata": {
        "id": "c18463cc"
      },
      "source": [
        "## 3  Fractal‑SSL fine‑tuning"
      ]
    },
    {
      "cell_type": "code",
      "execution_count": 26,
      "id": "d14e8641",
      "metadata": {
        "id": "d14e8641",
        "outputId": "b69c67b4-6b4c-4cc3-b219-da7bff2c10a4",
        "colab": {
          "base_uri": "https://localhost:8080/"
        }
      },
      "outputs": [
        {
          "output_type": "stream",
          "name": "stdout",
          "text": [
            "[torch.Size([500, 52]), torch.Size([250, 52]), torch.Size([125, 52]), torch.Size([62, 52])]\n"
          ]
        }
      ],
      "source": [
        "class FractalViewGenerator:\n",
        "    \"\"\"Produces recursively smaller crops of the same window.\"\"\"\n",
        "    def __init__(self, levels=4):\n",
        "        self.levels = levels\n",
        "    def __call__(self, ts):\n",
        "        L = ts.shape[0]\n",
        "        views = []\n",
        "        for i in range(self.levels):\n",
        "            frac = 1 / (2 ** i)\n",
        "            win = int(L * frac)\n",
        "            start = random.randint(0, L - win)\n",
        "            views.append(ts[start:start+win])\n",
        "        return views\n",
        "gen = FractalViewGenerator(levels=4)\n",
        "\n",
        "ts = torch.from_numpy(all_windows[0])      # one window, shape (L, C)\n",
        "views = gen(ts)                            # list of 4 tensors\n",
        "\n",
        "print([v.shape for v in views])\n"
      ]
    },
    {
      "cell_type": "code",
      "source": [
        "def nt_xent(reps: torch.Tensor, batch_size: int, n_views: int, T: float) -> torch.Tensor:\n",
        "    \"\"\"\n",
        "    reps      : (B * n_views, D) ℓ2-normalised\n",
        "    returns   : scalar loss\n",
        "    \"\"\"\n",
        "    N   = reps.size(0)\n",
        "    sim = reps @ reps.T / T                       # cosine sim over temperature\n",
        "\n",
        "    # zero out self-similarities (i == j)\n",
        "    sim.fill_diagonal_(-1e4)\n",
        "\n",
        "    # positive index: for each view i, its twin is (i ± 1) within the same sample\n",
        "    view_idx   = torch.arange(N, device=reps.device)\n",
        "    pos_index  = view_idx ^ 1                     # flips last bit: 0↔1, 2↔3, …\n",
        "    loss       = torch.nn.functional.cross_entropy(sim, pos_index)\n",
        "\n",
        "    return loss\n"
      ],
      "metadata": {
        "id": "FeroXxclCjNM"
      },
      "id": "FeroXxclCjNM",
      "execution_count": 41,
      "outputs": []
    },
    {
      "cell_type": "code",
      "execution_count": 40,
      "id": "c3fbc5a3",
      "metadata": {
        "id": "c3fbc5a3"
      },
      "outputs": [],
      "source": [
        "import torch, random, numpy as np\n",
        "from typing import List, Tuple\n",
        "\n",
        "class FractalViewGenerator:\n",
        "    def __init__(self, levels: int = 4):\n",
        "        self.levels = levels\n",
        "    def __call__(self, ts: torch.Tensor) -> Tuple[List[torch.Tensor], List[int]]:\n",
        "        L, views, lens = ts.size(0), [], []\n",
        "        for i in range(self.levels):\n",
        "            win   = int(L / 2 ** i)\n",
        "            start = random.randint(0, L - win)\n",
        "            crop  = ts[start:start + win]\n",
        "            views.append(crop)\n",
        "            lens.append(win)\n",
        "        return views, lens\n",
        "\n",
        "class FractalSSL(torch.nn.Module):\n",
        "    def __init__(self, backbone, proj_dim=128, levels=4,\n",
        "                 temperature=0.1, freeze_backbone=True):\n",
        "        super().__init__()\n",
        "        self.backbone, self.levels, self.temperature = backbone, levels, temperature\n",
        "        self.view_gen = FractalViewGenerator(levels)\n",
        "\n",
        "        # ---- determine channels & device from first param -------------------\n",
        "        first_w  = next(backbone.net.parameters()) if hasattr(backbone, \"net\") \\\n",
        "                   else next(backbone.parameters())\n",
        "        self._in_channels = first_w.shape[1] if first_w.ndim >= 2 else first_w.shape[0]\n",
        "\n",
        "        # ---- optional freezing ---------------------------------------------\n",
        "        if freeze_backbone and hasattr(backbone, \"net\"):\n",
        "            for p in backbone.net.parameters():\n",
        "                p.requires_grad = False\n",
        "\n",
        "        # ---- infer latent dimension ----------------------------------------\n",
        "        with torch.no_grad():\n",
        "            dummy = np.zeros((1, 8, self._in_channels), dtype='float32')\n",
        "            latent_dim = backbone.encode(dummy).shape[-1]\n",
        "\n",
        "        self.proj = torch.nn.Sequential(\n",
        "            torch.nn.Linear(latent_dim, proj_dim),\n",
        "            torch.nn.ReLU(inplace=True),\n",
        "            torch.nn.Linear(proj_dim, proj_dim)\n",
        "        )\n",
        "\n",
        "    # ---------- tiny helper so we never forget the NumPy conversion ----------\n",
        "    def _ts2vec_encode(self, x: torch.Tensor) -> torch.Tensor:\n",
        "      \"\"\"\n",
        "      Wrap TS2Vec.encode(): accepts (N,L,C) tensor, returns tensor on same device\n",
        "      no matter whether the fork outputs NumPy or PyTorch.\n",
        "      \"\"\"\n",
        "      dev   = x.device\n",
        "      out   = self.backbone.encode(x.detach().cpu().numpy())  # NumPy in → ??? out\n",
        "      feats = torch.as_tensor(out, device=dev, dtype=torch.float32)  # <── FIX\n",
        "      return feats\n",
        "\n",
        "    # ------------------------------------------------------------------------\n",
        "    def forward(self, ts_batch: torch.Tensor) -> torch.Tensor:\n",
        "        device, views, lens = ts_batch.device, [], []\n",
        "        for ts in ts_batch:\n",
        "            sub, ln = self.view_gen(ts)\n",
        "            views += [v.to(device) for v in sub]\n",
        "            lens  += ln\n",
        "\n",
        "        padded = torch.nn.utils.rnn.pad_sequence(views, batch_first=True)\n",
        "        mask   = (torch.arange(padded.size(1), device=device)[None, :]\n",
        "                 < torch.tensor(lens, device=device)[:, None])\n",
        "\n",
        "        emb = self._ts2vec_encode(padded)          # (N,T,D) on same device\n",
        "        emb = (emb * mask.unsqueeze(-1)).sum(1) / mask.sum(1, keepdim=True)\n",
        "\n",
        "        proj = torch.nn.functional.normalize(self.proj(emb), dim=-1)\n",
        "        return proj\n",
        "\n"
      ]
    },
    {
      "cell_type": "code",
      "source": [
        "N_VIEWS      = 2          # full-length + ½-length crops to start with\n",
        "PROJ_DIM     = 128\n",
        "TEMP         = 0.05\n",
        "\n",
        "model = FractalSSL(\n",
        "    enc,\n",
        "    levels=N_VIEWS,       # ← how many views per sample\n",
        "    proj_dim=PROJ_DIM,\n",
        "    temperature=TEMP,\n",
        "    freeze_backbone=False   # let the encoder learn\n",
        ").to(device)\n",
        "\n",
        "# two LR buckets: tiny for encoder, normal for projector\n",
        "opt = torch.optim.AdamW(\n",
        "    [\n",
        "        {'params': model.backbone.net.parameters(), 'lr': 1e-4},\n",
        "        {'params': model.proj.parameters(),         'lr': 1e-3},\n",
        "    ],\n",
        "    weight_decay=1e-4\n",
        ")\n"
      ],
      "metadata": {
        "id": "nFvtmeacDDLO"
      },
      "id": "nFvtmeacDDLO",
      "execution_count": 42,
      "outputs": []
    },
    {
      "cell_type": "code",
      "source": [
        "BATCH_SIZE = 64      #\n",
        "N_STEPS    = 1000    # train longer than 100 iterations\n",
        "\n",
        "for step in range(1, N_STEPS + 1):\n",
        "    # ---- draw a random batch of raw windows -------------------------------\n",
        "    idx = random.sample(range(len(all_windows)), BATCH_SIZE)\n",
        "    batch_ts = torch.stack(\n",
        "        [torch.from_numpy(all_windows[i]) for i in idx]\n",
        "    ).to(device)                              # shape (B,L,C)\n",
        "\n",
        "    # ---- forward & loss ----------------------------------------------------\n",
        "    reps  = model(batch_ts)                   # (B * n_views, D)\n",
        "    loss  = nt_xent(reps, BATCH_SIZE, N_VIEWS, TEMP)\n",
        "\n",
        "    # ---- optimisation ------------------------------------------------------\n",
        "    opt.zero_grad()\n",
        "    loss.backward()\n",
        "    opt.step()\n",
        "\n",
        "    # ---- monitoring --------------------------------------------------------\n",
        "    if step % 50 == 0:\n",
        "        print(f\"step {step:4} | NT-Xent loss = {loss.item():.4f}\")\n"
      ],
      "metadata": {
        "id": "LzEYtVXdDGm_",
        "outputId": "0bc3b694-3e30-48c8-a038-36c154d119ec",
        "colab": {
          "base_uri": "https://localhost:8080/"
        }
      },
      "id": "LzEYtVXdDGm_",
      "execution_count": 43,
      "outputs": [
        {
          "output_type": "stream",
          "name": "stdout",
          "text": [
            "step   50 | NT-Xent loss = 0.6788\n",
            "step  100 | NT-Xent loss = 0.4826\n",
            "step  150 | NT-Xent loss = 0.6063\n",
            "step  200 | NT-Xent loss = 0.5018\n",
            "step  250 | NT-Xent loss = 0.4496\n",
            "step  300 | NT-Xent loss = 0.4412\n",
            "step  350 | NT-Xent loss = 0.5560\n",
            "step  400 | NT-Xent loss = 0.4563\n",
            "step  450 | NT-Xent loss = 0.6461\n",
            "step  500 | NT-Xent loss = 0.5705\n",
            "step  550 | NT-Xent loss = 0.2984\n",
            "step  600 | NT-Xent loss = 0.1930\n",
            "step  650 | NT-Xent loss = 0.4171\n",
            "step  700 | NT-Xent loss = 0.8395\n",
            "step  750 | NT-Xent loss = 0.4910\n",
            "step  800 | NT-Xent loss = 0.4983\n",
            "step  850 | NT-Xent loss = 0.4150\n",
            "step  900 | NT-Xent loss = 0.5662\n",
            "step  950 | NT-Xent loss = 0.4166\n",
            "step 1000 | NT-Xent loss = 0.6673\n"
          ]
        }
      ]
    },
    {
      "cell_type": "code",
      "source": [
        "torch.save(model.state_dict(), '/content/drive/MyDrive/FractalSSL_backup/models/fractal_ts2vec.pt')\n",
        "print('Saved to fractal_ts2vec.pt')"
      ],
      "metadata": {
        "id": "CXb7TH9LFPsg",
        "outputId": "469c3b2e-27da-4c0f-8f2f-333df37aaa3f",
        "colab": {
          "base_uri": "https://localhost:8080/"
        }
      },
      "id": "CXb7TH9LFPsg",
      "execution_count": 47,
      "outputs": [
        {
          "output_type": "stream",
          "name": "stdout",
          "text": [
            "Saved to fractal_ts2vec.pt\n"
          ]
        }
      ]
    },
    {
      "cell_type": "code",
      "execution_count": 50,
      "id": "2f6ed404",
      "metadata": {
        "id": "2f6ed404",
        "outputId": "ddc5a8a2-487b-449a-e38c-aab6bf9835ec",
        "colab": {
          "base_uri": "https://localhost:8080/"
        }
      },
      "outputs": [
        {
          "output_type": "stream",
          "name": "stdout",
          "text": [
            "embeddings: (19224, 320)\n"
          ]
        }
      ],
      "source": [
        "\n",
        "model.eval()\n",
        "\n",
        "def embed_windows(model, windows_np, batch_size=256):\n",
        "    \"\"\"Return a (N, D) NumPy array of pooled embeddings.\"\"\"\n",
        "    out = []\n",
        "    with torch.no_grad():\n",
        "        for i in range(0, len(windows_np), batch_size):\n",
        "            chunk = torch.from_numpy(windows_np[i:i+batch_size]).to(device)\n",
        "            z     = model._ts2vec_encode(chunk)      # (B, T, D)\n",
        "            z     = z.mean(1)                        # mean-pool over time\n",
        "            out.append(z.cpu())\n",
        "    return torch.cat(out).numpy()\n",
        "\n",
        "emb_all = embed_windows(model, labeled_ds.X.astype(np.float32))           # (N,D)\n",
        "print(\"embeddings:\", emb_all.shape)\n"
      ]
    },
    {
      "cell_type": "code",
      "source": [
        "labels = labeled_ds.y\n",
        "print('labels:', labels.shape)"
      ],
      "metadata": {
        "id": "XWKL8HAxGUxu",
        "outputId": "ab5e3dd3-ec1b-4c5b-8a64-24376050c732",
        "colab": {
          "base_uri": "https://localhost:8080/"
        }
      },
      "id": "XWKL8HAxGUxu",
      "execution_count": 51,
      "outputs": [
        {
          "output_type": "stream",
          "name": "stdout",
          "text": [
            "labels: (19224,)\n"
          ]
        }
      ]
    },
    {
      "cell_type": "code",
      "execution_count": 52,
      "id": "1a85cf15",
      "metadata": {
        "id": "1a85cf15",
        "outputId": "21d7136c-7124-4eaa-aa9a-1e4339d0d356",
        "colab": {
          "base_uri": "https://localhost:8080/"
        }
      },
      "outputs": [
        {
          "output_type": "stream",
          "name": "stderr",
          "text": [
            "/usr/local/lib/python3.11/dist-packages/sklearn/linear_model/_logistic.py:1247: FutureWarning: 'multi_class' was deprecated in version 1.5 and will be removed in 1.7. From then on, it will always use 'multinomial'. Leave it to its default value to avoid this warning.\n",
            "  warnings.warn(\n"
          ]
        },
        {
          "output_type": "stream",
          "name": "stdout",
          "text": [
            "              precision    recall  f1-score   support\n",
            "\n",
            "           0      0.545     0.806     0.650      1121\n",
            "           1      0.940     0.813     0.872       193\n",
            "           2      0.719     0.762     0.740       185\n",
            "           3      0.816     0.605     0.695       190\n",
            "           4      0.787     0.824     0.805       238\n",
            "           5      0.955     0.643     0.768        98\n",
            "           6      0.992     0.776     0.871       165\n",
            "           7      0.945     0.550     0.696       189\n",
            "           9      0.000     0.000     0.000        83\n",
            "          10      0.920     0.890     0.905       310\n",
            "          11      0.000     0.000     0.000        54\n",
            "          12      0.663     0.538     0.594       117\n",
            "          13      0.857     0.457     0.596       105\n",
            "          16      0.817     0.537     0.648       175\n",
            "          17      0.854     0.833     0.843       239\n",
            "          18      0.855     0.530     0.654       100\n",
            "          19      0.519     0.503     0.511       187\n",
            "          20      0.705     0.915     0.796        47\n",
            "          24      0.815     0.449     0.579        49\n",
            "\n",
            "    accuracy                          0.702      3845\n",
            "   macro avg      0.721     0.602     0.643      3845\n",
            "weighted avg      0.718     0.702     0.692      3845\n",
            "\n"
          ]
        },
        {
          "output_type": "stream",
          "name": "stderr",
          "text": [
            "/usr/local/lib/python3.11/dist-packages/sklearn/metrics/_classification.py:1565: UndefinedMetricWarning: Precision is ill-defined and being set to 0.0 in labels with no predicted samples. Use `zero_division` parameter to control this behavior.\n",
            "  _warn_prf(average, modifier, f\"{metric.capitalize()} is\", len(result))\n",
            "/usr/local/lib/python3.11/dist-packages/sklearn/metrics/_classification.py:1565: UndefinedMetricWarning: Precision is ill-defined and being set to 0.0 in labels with no predicted samples. Use `zero_division` parameter to control this behavior.\n",
            "  _warn_prf(average, modifier, f\"{metric.capitalize()} is\", len(result))\n",
            "/usr/local/lib/python3.11/dist-packages/sklearn/metrics/_classification.py:1565: UndefinedMetricWarning: Precision is ill-defined and being set to 0.0 in labels with no predicted samples. Use `zero_division` parameter to control this behavior.\n",
            "  _warn_prf(average, modifier, f\"{metric.capitalize()} is\", len(result))\n"
          ]
        }
      ],
      "source": [
        "\n",
        "\n",
        "\n",
        "\n",
        "# 2) train/test split + linear probe\n",
        "from sklearn.model_selection import train_test_split\n",
        "from sklearn.linear_model import LogisticRegression\n",
        "from sklearn.metrics import classification_report, confusion_matrix\n",
        "\n",
        "X_tr, X_te, y_tr, y_te = train_test_split(emb_all, labels, stratify=labels, test_size=0.2, random_state=42)\n",
        "clf = LogisticRegression(\n",
        "    max_iter=500, multi_class='multinomial', solver='lbfgs')\n",
        "clf.fit(Xtr, ytr)\n",
        "\n",
        "print(classification_report(y_te, clf.predict(X_te), digits=3))\n"
      ]
    }
  ],
  "metadata": {
    "kernelspec": {
      "display_name": "Python 3",
      "name": "python3"
    },
    "language_info": {
      "codemirror_mode": {
        "name": "ipython",
        "version": 3
      },
      "file_extension": ".py",
      "mimetype": "text/x-python",
      "name": "python",
      "nbconvert_exporter": "python",
      "pygments_lexer": "ipython3",
      "version": "3.11.10"
    },
    "colab": {
      "provenance": [],
      "machine_shape": "hm",
      "gpuType": "T4"
    },
    "accelerator": "GPU"
  },
  "nbformat": 4,
  "nbformat_minor": 5
}