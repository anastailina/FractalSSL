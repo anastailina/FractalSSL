{
  "nbformat": 4,
  "nbformat_minor": 5,
  "metadata": {},
  "cells": [
    {
      "cell_type": "markdown",
      "metadata": {},
      "source": "# FractalSSL Experiment Template\n\nUse this notebook as a starting point for new datasets/models."
    },
    {
      "cell_type": "markdown",
      "metadata": {},
      "source": "Fill in the placeholders below and call into the scripts under `../scripts/`\nfor reproducible experiments."
    },
    {
      "cell_type": "code",
      "metadata": {},
      "execution_count": null,
      "outputs": [],
      "source": "from pathlib import Path\n\nPROJECT_ROOT = Path('..').resolve()\nDATA_ROOT = Path('/path/to/raw_dataset')\nCACHE_DIR = PROJECT_ROOT / 'cache/dataset_name'\nCONFIG_PATH = PROJECT_ROOT / 'configs/your_config.json'\nBACKBONE_CKPT = PROJECT_ROOT / 'runs/your_experiment/backbone_epoch050.pt'\nFRACTAL_CKPT = PROJECT_ROOT / 'runs/your_experiment/fractal_epoch100.pt'\n"
    },
    {
      "cell_type": "code",
      "metadata": {},
      "execution_count": null,
      "outputs": [],
      "source": "# Preprocess raw data (if applicable)\n# !python ../scripts/prepare_data.py your_dataset --data-root {DATA_ROOT} --cache-dir {CACHE_DIR}"
    },
    {
      "cell_type": "code",
      "metadata": {},
      "execution_count": null,
      "outputs": [],
      "source": "# Backbone pretraining\n# !python ../scripts/train_ssl.py --config {CONFIG_PATH} --stage backbone"
    },
    {
      "cell_type": "code",
      "metadata": {},
      "execution_count": null,
      "outputs": [],
      "source": "# Fractal fine-tuning or alternative wrapper\n# !python ../scripts/train_ssl.py --config {CONFIG_PATH} --stage fractal_ssl --backbone-checkpoint {BACKBONE_CKPT}"
    },
    {
      "cell_type": "code",
      "metadata": {},
      "execution_count": null,
      "outputs": [],
      "source": "# Linear probe or downstream evaluation\n# !python ../scripts/evaluate_linear.py --config {CONFIG_PATH} --checkpoint {FRACTAL_CKPT}"
    }
  ]
}