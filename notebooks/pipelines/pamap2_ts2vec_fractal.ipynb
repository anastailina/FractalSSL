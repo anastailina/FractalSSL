{
  "nbformat": 4,
  "nbformat_minor": 5,
  "metadata": {},
  "cells": [
    {
      "cell_type": "markdown",
      "metadata": {},
      "source": "# PAMAP2 \u2192 TS2Vec \u2192 Fractal-SSL\n\nReproducible pipeline built on the refactored FractalSSL toolkit."
    },
    {
      "cell_type": "markdown",
      "metadata": {},
      "source": "This notebook orchestrates the full experiment in four steps:\n\n1. Cache sliding-window tensors from the raw PAMAP2 dataset.\n2. Pre-train a TS2Vec backbone.\n3. Fine-tune the backbone with the fractal self-supervised objective.\n4. Evaluate representations with a logistic-regression probe.\n\nAll heavy lifting is delegated to the scripts under `../scripts/` so the same workflow can run locally or on a cluster."
    },
    {
      "cell_type": "code",
      "metadata": {},
      "execution_count": null,
      "outputs": [],
      "source": "# Optional: install the dependencies inside the notebook runtime\n# !pip install -r ../requirements.txt"
    },
    {
      "cell_type": "code",
      "metadata": {},
      "execution_count": null,
      "outputs": [],
      "source": "from pathlib import Path\n\nPROJECT_ROOT = Path('..').resolve()\nDATA_ROOT = Path('/path/to/PAMAP2_Dataset')\nCACHE_DIR = PROJECT_ROOT / 'cache/pamap2'\nCONFIG_PATH = PROJECT_ROOT / 'configs/pamap2_ts2vec_fractal.json'\nBACKBONE_CKPT = PROJECT_ROOT / 'runs/pamap2/ts2vec/ts2vec_epoch050.pt'\nFRACTAL_CKPT = PROJECT_ROOT / 'runs/pamap2/fractal/fractal_epoch100.pt'\n"
    },
    {
      "cell_type": "code",
      "metadata": {},
      "execution_count": null,
      "outputs": [],
      "source": "# Step 1 \u2013 preprocess the raw dataset into window caches\n!python ../scripts/prepare_data.py pamap2 --data-root {DATA_ROOT} --cache-dir {CACHE_DIR}"
    },
    {
      "cell_type": "code",
      "metadata": {},
      "execution_count": null,
      "outputs": [],
      "source": "# Step 2 \u2013 TS2Vec backbone pretraining\n!python ../scripts/train_ssl.py --config {CONFIG_PATH} --stage backbone"
    },
    {
      "cell_type": "code",
      "metadata": {},
      "execution_count": null,
      "outputs": [],
      "source": "# Step 3 \u2013 Fractal self-supervised fine-tuning\n!python ../scripts/train_ssl.py --config {CONFIG_PATH} --stage fractal_ssl --backbone-checkpoint {BACKBONE_CKPT}"
    },
    {
      "cell_type": "code",
      "metadata": {},
      "execution_count": null,
      "outputs": [],
      "source": "# Step 4 \u2013 Linear probe evaluation\n!python ../scripts/evaluate_linear.py --config {CONFIG_PATH} --checkpoint {FRACTAL_CKPT}"
    }
  ]
}