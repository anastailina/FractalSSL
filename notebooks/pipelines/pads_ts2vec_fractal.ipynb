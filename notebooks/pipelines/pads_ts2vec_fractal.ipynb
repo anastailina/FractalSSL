{
  "nbformat": 4,
  "nbformat_minor": 5,
  "metadata": {},
  "cells": [
    {
      "cell_type": "markdown",
      "metadata": {},
      "source": "# PADS \u2192 TS2Vec \u2192 Fractal-SSL\n\nTemplate for Parkinson's smartwatch dataset experiments."
    },
    {
      "cell_type": "markdown",
      "metadata": {},
      "source": "The PADS dataset already provides preprocessed sensor windows. Export them to `cache/pads/pads_windows.npz` (see `notebooks/legacy/PADs_FractalSSL.ipynb`) before running the cells below."
    },
    {
      "cell_type": "code",
      "metadata": {},
      "execution_count": null,
      "outputs": [],
      "source": "from pathlib import Path\n\nPROJECT_ROOT = Path('..').resolve()\nCACHE_DIR = PROJECT_ROOT / 'cache/pads'\nCONFIG_PATH = PROJECT_ROOT / 'configs/pads_ts2vec_fractal.json'\nBACKBONE_CKPT = PROJECT_ROOT / 'runs/pads/ts2vec/pads_ts2vec_epoch040.pt'\nFRACTAL_CKPT = PROJECT_ROOT / 'runs/pads/fractal/pads_fractal_epoch080.pt'\n"
    },
    {
      "cell_type": "code",
      "metadata": {},
      "execution_count": null,
      "outputs": [],
      "source": "# Step 0 \u2013 verify the cached windows exist\nassert (CACHE_DIR / 'pads_windows.npz').exists(), 'Run your preprocessing pipeline first.'"
    },
    {
      "cell_type": "code",
      "metadata": {},
      "execution_count": null,
      "outputs": [],
      "source": "# Step 1 \u2013 backbone pretraining\n!python ../scripts/train_ssl.py --config {CONFIG_PATH} --stage backbone"
    },
    {
      "cell_type": "code",
      "metadata": {},
      "execution_count": null,
      "outputs": [],
      "source": "# Step 2 \u2013 fractal fine-tuning\n!python ../scripts/train_ssl.py --config {CONFIG_PATH} --stage fractal_ssl --backbone-checkpoint {BACKBONE_CKPT}"
    },
    {
      "cell_type": "code",
      "metadata": {},
      "execution_count": null,
      "outputs": [],
      "source": "# Step 3 \u2013 linear probe\n!python ../scripts/evaluate_linear.py --config {CONFIG_PATH} --checkpoint {FRACTAL_CKPT}"
    }
  ]
}