{
  "cells": [
    {
      "cell_type": "markdown",
      "id": "a8ec7499",
      "metadata": {
        "id": "a8ec7499"
      },
      "source": [
        "# PAMAP2 ➜ TS2Vec ➜ Fractal‑SSL  \n",
        "An interactive, step‑by‑step Jupyter workflow.\n",
        "\n",
        "**Sections**\n",
        "1. Inspect & preprocess PAMAP2\n",
        "2. Pre‑train a TS2Vec backbone\n",
        "3. Enhance with Fractal‑SSL\n"
      ]
    },
    {
      "cell_type": "code",
      "source": [
        "from google.colab import drive\n",
        "drive.mount('/content/drive')"
      ],
      "metadata": {
        "colab": {
          "base_uri": "https://localhost:8080/"
        },
        "id": "0C8v05S6r0M2",
        "outputId": "456d9b65-ad5b-4699-d810-9fdfbb6aa86c"
      },
      "id": "0C8v05S6r0M2",
      "execution_count": 1,
      "outputs": [
        {
          "output_type": "stream",
          "name": "stdout",
          "text": [
            "Drive already mounted at /content/drive; to attempt to forcibly remount, call drive.mount(\"/content/drive\", force_remount=True).\n"
          ]
        }
      ]
    },
    {
      "cell_type": "markdown",
      "id": "5269bd9f",
      "metadata": {
        "id": "5269bd9f"
      },
      "source": [
        "## 0  Setup"
      ]
    },
    {
      "cell_type": "code",
      "execution_count": 2,
      "id": "d766d24c",
      "metadata": {
        "colab": {
          "base_uri": "https://localhost:8080/",
          "height": 563
        },
        "id": "d766d24c",
        "outputId": "bd34771b-1890-4c90-a06e-88455cd96023"
      },
      "outputs": [
        {
          "output_type": "stream",
          "name": "stdout",
          "text": [
            "\u001b[33mWARNING: Skipping /usr/local/lib/python3.11/dist-packages/nvidia_cusparse_cu12-12.1.0.106.dist-info due to invalid metadata entry 'name'\u001b[0m\u001b[33m\n",
            "\u001b[0m\u001b[33mWARNING: Skipping /usr/local/lib/python3.11/dist-packages/nvidia_cusparse_cu12-12.1.0.106.dist-info due to invalid metadata entry 'name'\u001b[0m\u001b[33m\n",
            "\u001b[0m\u001b[33mWARNING: Skipping /usr/local/lib/python3.11/dist-packages/nvidia_cusparse_cu12-12.1.0.106.dist-info due to invalid metadata entry 'name'\u001b[0m\u001b[33m\n",
            "\u001b[0m\u001b[33m    WARNING: Skipping /usr/local/lib/python3.11/dist-packages/nvidia_cusparse_cu12-12.1.0.106.dist-info due to invalid metadata entry 'name'\u001b[0m\u001b[33m\n",
            "\u001b[0m\u001b[33m    WARNING: Skipping /usr/local/lib/python3.11/dist-packages/nvidia_cusparse_cu12-12.1.0.106.dist-info due to invalid metadata entry 'name'\u001b[0m\u001b[33m\n",
            "\u001b[0m\u001b[31mERROR: Operation cancelled by user\u001b[0m\u001b[31m\n",
            "\u001b[0m^C\n"
          ]
        },
        {
          "output_type": "error",
          "ename": "KeyboardInterrupt",
          "evalue": "",
          "traceback": [
            "\u001b[0;31m---------------------------------------------------------------------------\u001b[0m",
            "\u001b[0;31mAttributeError\u001b[0m                            Traceback (most recent call last)",
            "\u001b[0;32m/usr/lib/python3.11/pathlib.py\u001b[0m in \u001b[0;36m__str__\u001b[0;34m(self)\u001b[0m\n\u001b[1;32m    539\u001b[0m         \u001b[0;32mtry\u001b[0m\u001b[0;34m:\u001b[0m\u001b[0;34m\u001b[0m\u001b[0;34m\u001b[0m\u001b[0m\n\u001b[0;32m--> 540\u001b[0;31m             \u001b[0;32mreturn\u001b[0m \u001b[0mself\u001b[0m\u001b[0;34m.\u001b[0m\u001b[0m_str\u001b[0m\u001b[0;34m\u001b[0m\u001b[0;34m\u001b[0m\u001b[0m\n\u001b[0m\u001b[1;32m    541\u001b[0m         \u001b[0;32mexcept\u001b[0m \u001b[0mAttributeError\u001b[0m\u001b[0;34m:\u001b[0m\u001b[0;34m\u001b[0m\u001b[0;34m\u001b[0m\u001b[0m\n",
            "\u001b[0;31mAttributeError\u001b[0m: 'PosixPath' object has no attribute '_str'",
            "\nDuring handling of the above exception, another exception occurred:\n",
            "\u001b[0;31mKeyboardInterrupt\u001b[0m                         Traceback (most recent call last)",
            "\u001b[0;32m/tmp/ipython-input-2-1357500936.py\u001b[0m in \u001b[0;36m<cell line: 0>\u001b[0;34m()\u001b[0m\n\u001b[1;32m      1\u001b[0m \u001b[0;31m#  Run once per environment\u001b[0m\u001b[0;34m\u001b[0m\u001b[0;34m\u001b[0m\u001b[0m\n\u001b[0;32m----> 2\u001b[0;31m \u001b[0mget_ipython\u001b[0m\u001b[0;34m(\u001b[0m\u001b[0;34m)\u001b[0m\u001b[0;34m.\u001b[0m\u001b[0msystem\u001b[0m\u001b[0;34m(\u001b[0m\u001b[0;34m'pip install -q torch==2.3.0 ts2vec pandas scikit-learn tqdm'\u001b[0m\u001b[0;34m)\u001b[0m\u001b[0;34m\u001b[0m\u001b[0;34m\u001b[0m\u001b[0m\n\u001b[0m",
            "\u001b[0;32m/usr/local/lib/python3.11/dist-packages/google/colab/_shell.py\u001b[0m in \u001b[0;36msystem\u001b[0;34m(self, *args, **kwargs)\u001b[0m\n\u001b[1;32m    150\u001b[0m \u001b[0;34m\u001b[0m\u001b[0m\n\u001b[1;32m    151\u001b[0m     \u001b[0;32mif\u001b[0m \u001b[0mpip_warn\u001b[0m\u001b[0;34m:\u001b[0m\u001b[0;34m\u001b[0m\u001b[0;34m\u001b[0m\u001b[0m\n\u001b[0;32m--> 152\u001b[0;31m       \u001b[0m_pip\u001b[0m\u001b[0;34m.\u001b[0m\u001b[0mprint_previous_import_warning\u001b[0m\u001b[0;34m(\u001b[0m\u001b[0moutput\u001b[0m\u001b[0;34m)\u001b[0m\u001b[0;34m\u001b[0m\u001b[0;34m\u001b[0m\u001b[0m\n\u001b[0m\u001b[1;32m    153\u001b[0m \u001b[0;34m\u001b[0m\u001b[0m\n\u001b[1;32m    154\u001b[0m   \u001b[0;32mdef\u001b[0m \u001b[0m_send_error\u001b[0m\u001b[0;34m(\u001b[0m\u001b[0mself\u001b[0m\u001b[0;34m,\u001b[0m \u001b[0mexc_content\u001b[0m\u001b[0;34m)\u001b[0m\u001b[0;34m:\u001b[0m\u001b[0;34m\u001b[0m\u001b[0;34m\u001b[0m\u001b[0m\n",
            "\u001b[0;32m/usr/local/lib/python3.11/dist-packages/google/colab/_pip.py\u001b[0m in \u001b[0;36mprint_previous_import_warning\u001b[0;34m(output)\u001b[0m\n\u001b[1;32m     54\u001b[0m \u001b[0;32mdef\u001b[0m \u001b[0mprint_previous_import_warning\u001b[0m\u001b[0;34m(\u001b[0m\u001b[0moutput\u001b[0m\u001b[0;34m)\u001b[0m\u001b[0;34m:\u001b[0m\u001b[0;34m\u001b[0m\u001b[0;34m\u001b[0m\u001b[0m\n\u001b[1;32m     55\u001b[0m   \u001b[0;34m\"\"\"Prints a warning about previously imported packages.\"\"\"\u001b[0m\u001b[0;34m\u001b[0m\u001b[0;34m\u001b[0m\u001b[0m\n\u001b[0;32m---> 56\u001b[0;31m   \u001b[0mpackages\u001b[0m \u001b[0;34m=\u001b[0m \u001b[0m_previously_imported_packages\u001b[0m\u001b[0;34m(\u001b[0m\u001b[0moutput\u001b[0m\u001b[0;34m)\u001b[0m\u001b[0;34m\u001b[0m\u001b[0;34m\u001b[0m\u001b[0m\n\u001b[0m\u001b[1;32m     57\u001b[0m   \u001b[0;32mif\u001b[0m \u001b[0mpackages\u001b[0m\u001b[0;34m:\u001b[0m\u001b[0;34m\u001b[0m\u001b[0;34m\u001b[0m\u001b[0m\n\u001b[1;32m     58\u001b[0m     \u001b[0;31m# display a list of packages using the colab-display-data mimetype, which\u001b[0m\u001b[0;34m\u001b[0m\u001b[0;34m\u001b[0m\u001b[0m\n",
            "\u001b[0;32m/usr/local/lib/python3.11/dist-packages/google/colab/_pip.py\u001b[0m in \u001b[0;36m_previously_imported_packages\u001b[0;34m(pip_output)\u001b[0m\n\u001b[1;32m     48\u001b[0m \u001b[0;32mdef\u001b[0m \u001b[0m_previously_imported_packages\u001b[0m\u001b[0;34m(\u001b[0m\u001b[0mpip_output\u001b[0m\u001b[0;34m)\u001b[0m\u001b[0;34m:\u001b[0m\u001b[0;34m\u001b[0m\u001b[0;34m\u001b[0m\u001b[0m\n\u001b[1;32m     49\u001b[0m   \u001b[0;34m\"\"\"List all previously imported packages from a pip install.\"\"\"\u001b[0m\u001b[0;34m\u001b[0m\u001b[0;34m\u001b[0m\u001b[0m\n\u001b[0;32m---> 50\u001b[0;31m   \u001b[0minstalled\u001b[0m \u001b[0;34m=\u001b[0m \u001b[0mset\u001b[0m\u001b[0;34m(\u001b[0m\u001b[0m_extract_toplevel_packages\u001b[0m\u001b[0;34m(\u001b[0m\u001b[0mpip_output\u001b[0m\u001b[0;34m)\u001b[0m\u001b[0;34m)\u001b[0m\u001b[0;34m\u001b[0m\u001b[0;34m\u001b[0m\u001b[0m\n\u001b[0m\u001b[1;32m     51\u001b[0m   \u001b[0;32mreturn\u001b[0m \u001b[0msorted\u001b[0m\u001b[0;34m(\u001b[0m\u001b[0minstalled\u001b[0m\u001b[0;34m.\u001b[0m\u001b[0mintersection\u001b[0m\u001b[0;34m(\u001b[0m\u001b[0mset\u001b[0m\u001b[0;34m(\u001b[0m\u001b[0msys\u001b[0m\u001b[0;34m.\u001b[0m\u001b[0mmodules\u001b[0m\u001b[0;34m)\u001b[0m\u001b[0;34m)\u001b[0m\u001b[0;34m)\u001b[0m\u001b[0;34m\u001b[0m\u001b[0;34m\u001b[0m\u001b[0m\n\u001b[1;32m     52\u001b[0m \u001b[0;34m\u001b[0m\u001b[0m\n",
            "\u001b[0;32m/usr/local/lib/python3.11/dist-packages/google/colab/_pip.py\u001b[0m in \u001b[0;36m_extract_toplevel_packages\u001b[0;34m(pip_output)\u001b[0m\n\u001b[1;32m     37\u001b[0m   \u001b[0;34m\"\"\"Extract the list of toplevel packages associated with a pip install.\"\"\"\u001b[0m\u001b[0;34m\u001b[0m\u001b[0;34m\u001b[0m\u001b[0m\n\u001b[1;32m     38\u001b[0m   \u001b[0mtoplevel\u001b[0m \u001b[0;34m=\u001b[0m \u001b[0mcollections\u001b[0m\u001b[0;34m.\u001b[0m\u001b[0mdefaultdict\u001b[0m\u001b[0;34m(\u001b[0m\u001b[0mset\u001b[0m\u001b[0;34m)\u001b[0m\u001b[0;34m\u001b[0m\u001b[0;34m\u001b[0m\u001b[0m\n\u001b[0;32m---> 39\u001b[0;31m   \u001b[0;32mfor\u001b[0m \u001b[0mm\u001b[0m\u001b[0;34m,\u001b[0m \u001b[0mps\u001b[0m \u001b[0;32min\u001b[0m \u001b[0mimportlib\u001b[0m\u001b[0;34m.\u001b[0m\u001b[0mmetadata\u001b[0m\u001b[0;34m.\u001b[0m\u001b[0mpackages_distributions\u001b[0m\u001b[0;34m(\u001b[0m\u001b[0;34m)\u001b[0m\u001b[0;34m.\u001b[0m\u001b[0mitems\u001b[0m\u001b[0;34m(\u001b[0m\u001b[0;34m)\u001b[0m\u001b[0;34m:\u001b[0m\u001b[0;34m\u001b[0m\u001b[0;34m\u001b[0m\u001b[0m\n\u001b[0m\u001b[1;32m     40\u001b[0m     \u001b[0;32mfor\u001b[0m \u001b[0mp\u001b[0m \u001b[0;32min\u001b[0m \u001b[0mps\u001b[0m\u001b[0;34m:\u001b[0m\u001b[0;34m\u001b[0m\u001b[0;34m\u001b[0m\u001b[0m\n\u001b[1;32m     41\u001b[0m       \u001b[0mtoplevel\u001b[0m\u001b[0;34m[\u001b[0m\u001b[0mp\u001b[0m\u001b[0;34m]\u001b[0m\u001b[0;34m.\u001b[0m\u001b[0madd\u001b[0m\u001b[0;34m(\u001b[0m\u001b[0mm\u001b[0m\u001b[0;34m)\u001b[0m\u001b[0;34m\u001b[0m\u001b[0;34m\u001b[0m\u001b[0m\n",
            "\u001b[0;32m/usr/lib/python3.11/importlib/metadata/__init__.py\u001b[0m in \u001b[0;36mpackages_distributions\u001b[0;34m()\u001b[0m\n\u001b[1;32m   1073\u001b[0m     \u001b[0mpkg_to_dist\u001b[0m \u001b[0;34m=\u001b[0m \u001b[0mcollections\u001b[0m\u001b[0;34m.\u001b[0m\u001b[0mdefaultdict\u001b[0m\u001b[0;34m(\u001b[0m\u001b[0mlist\u001b[0m\u001b[0;34m)\u001b[0m\u001b[0;34m\u001b[0m\u001b[0;34m\u001b[0m\u001b[0m\n\u001b[1;32m   1074\u001b[0m     \u001b[0;32mfor\u001b[0m \u001b[0mdist\u001b[0m \u001b[0;32min\u001b[0m \u001b[0mdistributions\u001b[0m\u001b[0;34m(\u001b[0m\u001b[0;34m)\u001b[0m\u001b[0;34m:\u001b[0m\u001b[0;34m\u001b[0m\u001b[0;34m\u001b[0m\u001b[0m\n\u001b[0;32m-> 1075\u001b[0;31m         \u001b[0;32mfor\u001b[0m \u001b[0mpkg\u001b[0m \u001b[0;32min\u001b[0m \u001b[0m_top_level_declared\u001b[0m\u001b[0;34m(\u001b[0m\u001b[0mdist\u001b[0m\u001b[0;34m)\u001b[0m \u001b[0;32mor\u001b[0m \u001b[0m_top_level_inferred\u001b[0m\u001b[0;34m(\u001b[0m\u001b[0mdist\u001b[0m\u001b[0;34m)\u001b[0m\u001b[0;34m:\u001b[0m\u001b[0;34m\u001b[0m\u001b[0;34m\u001b[0m\u001b[0m\n\u001b[0m\u001b[1;32m   1076\u001b[0m             \u001b[0mpkg_to_dist\u001b[0m\u001b[0;34m[\u001b[0m\u001b[0mpkg\u001b[0m\u001b[0;34m]\u001b[0m\u001b[0;34m.\u001b[0m\u001b[0mappend\u001b[0m\u001b[0;34m(\u001b[0m\u001b[0mdist\u001b[0m\u001b[0;34m.\u001b[0m\u001b[0mmetadata\u001b[0m\u001b[0;34m[\u001b[0m\u001b[0;34m'Name'\u001b[0m\u001b[0;34m]\u001b[0m\u001b[0;34m)\u001b[0m\u001b[0;34m\u001b[0m\u001b[0;34m\u001b[0m\u001b[0m\n\u001b[1;32m   1077\u001b[0m     \u001b[0;32mreturn\u001b[0m \u001b[0mdict\u001b[0m\u001b[0;34m(\u001b[0m\u001b[0mpkg_to_dist\u001b[0m\u001b[0;34m)\u001b[0m\u001b[0;34m\u001b[0m\u001b[0;34m\u001b[0m\u001b[0m\n",
            "\u001b[0;32m/usr/lib/python3.11/importlib/metadata/__init__.py\u001b[0m in \u001b[0;36m_top_level_inferred\u001b[0;34m(dist)\u001b[0m\n\u001b[1;32m   1085\u001b[0m     return {\n\u001b[1;32m   1086\u001b[0m         \u001b[0mf\u001b[0m\u001b[0;34m.\u001b[0m\u001b[0mparts\u001b[0m\u001b[0;34m[\u001b[0m\u001b[0;36m0\u001b[0m\u001b[0;34m]\u001b[0m \u001b[0;32mif\u001b[0m \u001b[0mlen\u001b[0m\u001b[0;34m(\u001b[0m\u001b[0mf\u001b[0m\u001b[0;34m.\u001b[0m\u001b[0mparts\u001b[0m\u001b[0;34m)\u001b[0m \u001b[0;34m>\u001b[0m \u001b[0;36m1\u001b[0m \u001b[0;32melse\u001b[0m \u001b[0mf\u001b[0m\u001b[0;34m.\u001b[0m\u001b[0mwith_suffix\u001b[0m\u001b[0;34m(\u001b[0m\u001b[0;34m''\u001b[0m\u001b[0;34m)\u001b[0m\u001b[0;34m.\u001b[0m\u001b[0mname\u001b[0m\u001b[0;34m\u001b[0m\u001b[0;34m\u001b[0m\u001b[0m\n\u001b[0;32m-> 1087\u001b[0;31m         \u001b[0;32mfor\u001b[0m \u001b[0mf\u001b[0m \u001b[0;32min\u001b[0m \u001b[0malways_iterable\u001b[0m\u001b[0;34m(\u001b[0m\u001b[0mdist\u001b[0m\u001b[0;34m.\u001b[0m\u001b[0mfiles\u001b[0m\u001b[0;34m)\u001b[0m\u001b[0;34m\u001b[0m\u001b[0;34m\u001b[0m\u001b[0m\n\u001b[0m\u001b[1;32m   1088\u001b[0m         \u001b[0;32mif\u001b[0m \u001b[0mf\u001b[0m\u001b[0;34m.\u001b[0m\u001b[0msuffix\u001b[0m \u001b[0;34m==\u001b[0m \u001b[0;34m\".py\"\u001b[0m\u001b[0;34m\u001b[0m\u001b[0;34m\u001b[0m\u001b[0m\n\u001b[1;32m   1089\u001b[0m     }\n",
            "\u001b[0;32m/usr/local/lib/python3.11/dist-packages/importlib_metadata/__init__.py\u001b[0m in \u001b[0;36mfiles\u001b[0;34m(self)\u001b[0m\n\u001b[1;32m    602\u001b[0m             \u001b[0;32mreturn\u001b[0m \u001b[0mlist\u001b[0m\u001b[0;34m(\u001b[0m\u001b[0mfilter\u001b[0m\u001b[0;34m(\u001b[0m\u001b[0;32mlambda\u001b[0m \u001b[0mpath\u001b[0m\u001b[0;34m:\u001b[0m \u001b[0mpath\u001b[0m\u001b[0;34m.\u001b[0m\u001b[0mlocate\u001b[0m\u001b[0;34m(\u001b[0m\u001b[0;34m)\u001b[0m\u001b[0;34m.\u001b[0m\u001b[0mexists\u001b[0m\u001b[0;34m(\u001b[0m\u001b[0;34m)\u001b[0m\u001b[0;34m,\u001b[0m \u001b[0mpackage_paths\u001b[0m\u001b[0;34m)\u001b[0m\u001b[0;34m)\u001b[0m\u001b[0;34m\u001b[0m\u001b[0;34m\u001b[0m\u001b[0m\n\u001b[1;32m    603\u001b[0m \u001b[0;34m\u001b[0m\u001b[0m\n\u001b[0;32m--> 604\u001b[0;31m         return skip_missing_files(\n\u001b[0m\u001b[1;32m    605\u001b[0m             make_files(\n\u001b[1;32m    606\u001b[0m                 \u001b[0mself\u001b[0m\u001b[0;34m.\u001b[0m\u001b[0m_read_files_distinfo\u001b[0m\u001b[0;34m(\u001b[0m\u001b[0;34m)\u001b[0m\u001b[0;34m\u001b[0m\u001b[0;34m\u001b[0m\u001b[0m\n",
            "\u001b[0;32m/usr/local/lib/python3.11/dist-packages/importlib_metadata/_functools.py\u001b[0m in \u001b[0;36mwrapper\u001b[0;34m(param, *args, **kwargs)\u001b[0m\n\u001b[1;32m    100\u001b[0m     \u001b[0;32mdef\u001b[0m \u001b[0mwrapper\u001b[0m\u001b[0;34m(\u001b[0m\u001b[0mparam\u001b[0m\u001b[0;34m,\u001b[0m \u001b[0;34m*\u001b[0m\u001b[0margs\u001b[0m\u001b[0;34m,\u001b[0m \u001b[0;34m**\u001b[0m\u001b[0mkwargs\u001b[0m\u001b[0;34m)\u001b[0m\u001b[0;34m:\u001b[0m\u001b[0;34m\u001b[0m\u001b[0;34m\u001b[0m\u001b[0m\n\u001b[1;32m    101\u001b[0m         \u001b[0;32mif\u001b[0m \u001b[0mparam\u001b[0m \u001b[0;32mis\u001b[0m \u001b[0;32mnot\u001b[0m \u001b[0;32mNone\u001b[0m\u001b[0;34m:\u001b[0m\u001b[0;34m\u001b[0m\u001b[0;34m\u001b[0m\u001b[0m\n\u001b[0;32m--> 102\u001b[0;31m             \u001b[0;32mreturn\u001b[0m \u001b[0mfunc\u001b[0m\u001b[0;34m(\u001b[0m\u001b[0mparam\u001b[0m\u001b[0;34m,\u001b[0m \u001b[0;34m*\u001b[0m\u001b[0margs\u001b[0m\u001b[0;34m,\u001b[0m \u001b[0;34m**\u001b[0m\u001b[0mkwargs\u001b[0m\u001b[0;34m)\u001b[0m\u001b[0;34m\u001b[0m\u001b[0;34m\u001b[0m\u001b[0m\n\u001b[0m\u001b[1;32m    103\u001b[0m \u001b[0;34m\u001b[0m\u001b[0m\n\u001b[1;32m    104\u001b[0m     \u001b[0;32mreturn\u001b[0m \u001b[0mwrapper\u001b[0m\u001b[0;34m\u001b[0m\u001b[0;34m\u001b[0m\u001b[0m\n",
            "\u001b[0;32m/usr/local/lib/python3.11/dist-packages/importlib_metadata/__init__.py\u001b[0m in \u001b[0;36mskip_missing_files\u001b[0;34m(package_paths)\u001b[0m\n\u001b[1;32m    600\u001b[0m         \u001b[0;34m@\u001b[0m\u001b[0mpass_none\u001b[0m\u001b[0;34m\u001b[0m\u001b[0;34m\u001b[0m\u001b[0m\n\u001b[1;32m    601\u001b[0m         \u001b[0;32mdef\u001b[0m \u001b[0mskip_missing_files\u001b[0m\u001b[0;34m(\u001b[0m\u001b[0mpackage_paths\u001b[0m\u001b[0;34m)\u001b[0m\u001b[0;34m:\u001b[0m\u001b[0;34m\u001b[0m\u001b[0;34m\u001b[0m\u001b[0m\n\u001b[0;32m--> 602\u001b[0;31m             \u001b[0;32mreturn\u001b[0m \u001b[0mlist\u001b[0m\u001b[0;34m(\u001b[0m\u001b[0mfilter\u001b[0m\u001b[0;34m(\u001b[0m\u001b[0;32mlambda\u001b[0m \u001b[0mpath\u001b[0m\u001b[0;34m:\u001b[0m \u001b[0mpath\u001b[0m\u001b[0;34m.\u001b[0m\u001b[0mlocate\u001b[0m\u001b[0;34m(\u001b[0m\u001b[0;34m)\u001b[0m\u001b[0;34m.\u001b[0m\u001b[0mexists\u001b[0m\u001b[0;34m(\u001b[0m\u001b[0;34m)\u001b[0m\u001b[0;34m,\u001b[0m \u001b[0mpackage_paths\u001b[0m\u001b[0;34m)\u001b[0m\u001b[0;34m)\u001b[0m\u001b[0;34m\u001b[0m\u001b[0;34m\u001b[0m\u001b[0m\n\u001b[0m\u001b[1;32m    603\u001b[0m \u001b[0;34m\u001b[0m\u001b[0m\n\u001b[1;32m    604\u001b[0m         return skip_missing_files(\n",
            "\u001b[0;32m/usr/local/lib/python3.11/dist-packages/importlib_metadata/__init__.py\u001b[0m in \u001b[0;36m<lambda>\u001b[0;34m(path)\u001b[0m\n\u001b[1;32m    600\u001b[0m         \u001b[0;34m@\u001b[0m\u001b[0mpass_none\u001b[0m\u001b[0;34m\u001b[0m\u001b[0;34m\u001b[0m\u001b[0m\n\u001b[1;32m    601\u001b[0m         \u001b[0;32mdef\u001b[0m \u001b[0mskip_missing_files\u001b[0m\u001b[0;34m(\u001b[0m\u001b[0mpackage_paths\u001b[0m\u001b[0;34m)\u001b[0m\u001b[0;34m:\u001b[0m\u001b[0;34m\u001b[0m\u001b[0;34m\u001b[0m\u001b[0m\n\u001b[0;32m--> 602\u001b[0;31m             \u001b[0;32mreturn\u001b[0m \u001b[0mlist\u001b[0m\u001b[0;34m(\u001b[0m\u001b[0mfilter\u001b[0m\u001b[0;34m(\u001b[0m\u001b[0;32mlambda\u001b[0m \u001b[0mpath\u001b[0m\u001b[0;34m:\u001b[0m \u001b[0mpath\u001b[0m\u001b[0;34m.\u001b[0m\u001b[0mlocate\u001b[0m\u001b[0;34m(\u001b[0m\u001b[0;34m)\u001b[0m\u001b[0;34m.\u001b[0m\u001b[0mexists\u001b[0m\u001b[0;34m(\u001b[0m\u001b[0;34m)\u001b[0m\u001b[0;34m,\u001b[0m \u001b[0mpackage_paths\u001b[0m\u001b[0;34m)\u001b[0m\u001b[0;34m)\u001b[0m\u001b[0;34m\u001b[0m\u001b[0;34m\u001b[0m\u001b[0m\n\u001b[0m\u001b[1;32m    603\u001b[0m \u001b[0;34m\u001b[0m\u001b[0m\n\u001b[1;32m    604\u001b[0m         return skip_missing_files(\n",
            "\u001b[0;32m/usr/lib/python3.11/pathlib.py\u001b[0m in \u001b[0;36mexists\u001b[0;34m(self)\u001b[0m\n\u001b[1;32m   1233\u001b[0m         \"\"\"\n\u001b[1;32m   1234\u001b[0m         \u001b[0;32mtry\u001b[0m\u001b[0;34m:\u001b[0m\u001b[0;34m\u001b[0m\u001b[0;34m\u001b[0m\u001b[0m\n\u001b[0;32m-> 1235\u001b[0;31m             \u001b[0mself\u001b[0m\u001b[0;34m.\u001b[0m\u001b[0mstat\u001b[0m\u001b[0;34m(\u001b[0m\u001b[0;34m)\u001b[0m\u001b[0;34m\u001b[0m\u001b[0;34m\u001b[0m\u001b[0m\n\u001b[0m\u001b[1;32m   1236\u001b[0m         \u001b[0;32mexcept\u001b[0m \u001b[0mOSError\u001b[0m \u001b[0;32mas\u001b[0m \u001b[0me\u001b[0m\u001b[0;34m:\u001b[0m\u001b[0;34m\u001b[0m\u001b[0;34m\u001b[0m\u001b[0m\n\u001b[1;32m   1237\u001b[0m             \u001b[0;32mif\u001b[0m \u001b[0;32mnot\u001b[0m \u001b[0m_ignore_error\u001b[0m\u001b[0;34m(\u001b[0m\u001b[0me\u001b[0m\u001b[0;34m)\u001b[0m\u001b[0;34m:\u001b[0m\u001b[0;34m\u001b[0m\u001b[0;34m\u001b[0m\u001b[0m\n",
            "\u001b[0;32m/usr/lib/python3.11/pathlib.py\u001b[0m in \u001b[0;36mstat\u001b[0;34m(self, follow_symlinks)\u001b[0m\n\u001b[1;32m   1011\u001b[0m         \u001b[0mos\u001b[0m\u001b[0;34m.\u001b[0m\u001b[0mstat\u001b[0m\u001b[0;34m(\u001b[0m\u001b[0;34m)\u001b[0m \u001b[0mdoes\u001b[0m\u001b[0;34m.\u001b[0m\u001b[0;34m\u001b[0m\u001b[0;34m\u001b[0m\u001b[0m\n\u001b[1;32m   1012\u001b[0m         \"\"\"\n\u001b[0;32m-> 1013\u001b[0;31m         \u001b[0;32mreturn\u001b[0m \u001b[0mos\u001b[0m\u001b[0;34m.\u001b[0m\u001b[0mstat\u001b[0m\u001b[0;34m(\u001b[0m\u001b[0mself\u001b[0m\u001b[0;34m,\u001b[0m \u001b[0mfollow_symlinks\u001b[0m\u001b[0;34m=\u001b[0m\u001b[0mfollow_symlinks\u001b[0m\u001b[0;34m)\u001b[0m\u001b[0;34m\u001b[0m\u001b[0;34m\u001b[0m\u001b[0m\n\u001b[0m\u001b[1;32m   1014\u001b[0m \u001b[0;34m\u001b[0m\u001b[0m\n\u001b[1;32m   1015\u001b[0m     \u001b[0;32mdef\u001b[0m \u001b[0mowner\u001b[0m\u001b[0;34m(\u001b[0m\u001b[0mself\u001b[0m\u001b[0;34m)\u001b[0m\u001b[0;34m:\u001b[0m\u001b[0;34m\u001b[0m\u001b[0;34m\u001b[0m\u001b[0m\n",
            "\u001b[0;32m/usr/lib/python3.11/pathlib.py\u001b[0m in \u001b[0;36m__fspath__\u001b[0;34m(self)\u001b[0m\n\u001b[1;32m    545\u001b[0m \u001b[0;34m\u001b[0m\u001b[0m\n\u001b[1;32m    546\u001b[0m     \u001b[0;32mdef\u001b[0m \u001b[0m__fspath__\u001b[0m\u001b[0;34m(\u001b[0m\u001b[0mself\u001b[0m\u001b[0;34m)\u001b[0m\u001b[0;34m:\u001b[0m\u001b[0;34m\u001b[0m\u001b[0;34m\u001b[0m\u001b[0m\n\u001b[0;32m--> 547\u001b[0;31m         \u001b[0;32mreturn\u001b[0m \u001b[0mstr\u001b[0m\u001b[0;34m(\u001b[0m\u001b[0mself\u001b[0m\u001b[0;34m)\u001b[0m\u001b[0;34m\u001b[0m\u001b[0;34m\u001b[0m\u001b[0m\n\u001b[0m\u001b[1;32m    548\u001b[0m \u001b[0;34m\u001b[0m\u001b[0m\n\u001b[1;32m    549\u001b[0m     \u001b[0;32mdef\u001b[0m \u001b[0mas_posix\u001b[0m\u001b[0;34m(\u001b[0m\u001b[0mself\u001b[0m\u001b[0;34m)\u001b[0m\u001b[0;34m:\u001b[0m\u001b[0;34m\u001b[0m\u001b[0;34m\u001b[0m\u001b[0m\n",
            "\u001b[0;32m/usr/lib/python3.11/pathlib.py\u001b[0m in \u001b[0;36m__str__\u001b[0;34m(self)\u001b[0m\n\u001b[1;32m    540\u001b[0m             \u001b[0;32mreturn\u001b[0m \u001b[0mself\u001b[0m\u001b[0;34m.\u001b[0m\u001b[0m_str\u001b[0m\u001b[0;34m\u001b[0m\u001b[0;34m\u001b[0m\u001b[0m\n\u001b[1;32m    541\u001b[0m         \u001b[0;32mexcept\u001b[0m \u001b[0mAttributeError\u001b[0m\u001b[0;34m:\u001b[0m\u001b[0;34m\u001b[0m\u001b[0;34m\u001b[0m\u001b[0m\n\u001b[0;32m--> 542\u001b[0;31m             self._str = self._format_parsed_parts(self._drv, self._root,\n\u001b[0m\u001b[1;32m    543\u001b[0m                                                   self._parts) or '.'\n\u001b[1;32m    544\u001b[0m             \u001b[0;32mreturn\u001b[0m \u001b[0mself\u001b[0m\u001b[0;34m.\u001b[0m\u001b[0m_str\u001b[0m\u001b[0;34m\u001b[0m\u001b[0;34m\u001b[0m\u001b[0m\n",
            "\u001b[0;32m/usr/lib/python3.11/pathlib.py\u001b[0m in \u001b[0;36m_format_parsed_parts\u001b[0;34m(cls, drv, root, parts)\u001b[0m\n\u001b[1;32m    521\u001b[0m         \u001b[0;32mreturn\u001b[0m \u001b[0mself\u001b[0m\u001b[0;34m\u001b[0m\u001b[0;34m\u001b[0m\u001b[0m\n\u001b[1;32m    522\u001b[0m \u001b[0;34m\u001b[0m\u001b[0m\n\u001b[0;32m--> 523\u001b[0;31m     \u001b[0;34m@\u001b[0m\u001b[0mclassmethod\u001b[0m\u001b[0;34m\u001b[0m\u001b[0;34m\u001b[0m\u001b[0m\n\u001b[0m\u001b[1;32m    524\u001b[0m     \u001b[0;32mdef\u001b[0m \u001b[0m_format_parsed_parts\u001b[0m\u001b[0;34m(\u001b[0m\u001b[0mcls\u001b[0m\u001b[0;34m,\u001b[0m \u001b[0mdrv\u001b[0m\u001b[0;34m,\u001b[0m \u001b[0mroot\u001b[0m\u001b[0;34m,\u001b[0m \u001b[0mparts\u001b[0m\u001b[0;34m)\u001b[0m\u001b[0;34m:\u001b[0m\u001b[0;34m\u001b[0m\u001b[0;34m\u001b[0m\u001b[0m\n\u001b[1;32m    525\u001b[0m         \u001b[0;32mif\u001b[0m \u001b[0mdrv\u001b[0m \u001b[0;32mor\u001b[0m \u001b[0mroot\u001b[0m\u001b[0;34m:\u001b[0m\u001b[0;34m\u001b[0m\u001b[0;34m\u001b[0m\u001b[0m\n",
            "\u001b[0;31mKeyboardInterrupt\u001b[0m: "
          ]
        }
      ],
      "source": [
        "#  Run once per environment\n",
        "!pip install -q torch==2.3.0 ts2vec pandas scikit-learn tqdm\n"
      ]
    },
    {
      "cell_type": "markdown",
      "id": "8f56c277",
      "metadata": {
        "id": "8f56c277"
      },
      "source": [
        "## 1  Imports & paths"
      ]
    },
    {
      "cell_type": "code",
      "execution_count": 2,
      "id": "22012f52",
      "metadata": {
        "colab": {
          "base_uri": "https://localhost:8080/"
        },
        "id": "22012f52",
        "outputId": "bff08f3c-420f-4ca9-e9ec-2aec3d94e54c"
      },
      "outputs": [
        {
          "output_type": "execute_result",
          "data": {
            "text/plain": [
              "<torch._C.Generator at 0x7d2ebc521bf0>"
            ]
          },
          "metadata": {},
          "execution_count": 2
        }
      ],
      "source": [
        "import os, glob, json, math, random, itertools, pickle\n",
        "from pathlib import Path\n",
        "import numpy as np, pandas as pd, torch\n",
        "from tqdm import tqdm\n",
        "\n",
        "from ts2vec import TS2Vec\n",
        "import random\n",
        "RAW_ROOT   = Path('/content/drive/MyDrive/FractalSSL_backup/data/pamap2+physical+activity+monitoring/PAMAP2_Dataset').expanduser()   # <- edit if needed\n",
        "CACHE_ROOT = Path('/content/drive/MyDrive/FractalSSL_backup/cache')\n",
        "CACHE_ROOT.mkdir(exist_ok=True)\n",
        "\n",
        "SEED = 42;\n",
        "random.seed(SEED)\n",
        "np.random.seed(SEED)\n",
        "torch.manual_seed(SEED)\n"
      ]
    },
    {
      "cell_type": "code",
      "execution_count": 138,
      "id": "cbe45f25",
      "metadata": {
        "colab": {
          "base_uri": "https://localhost:8080/"
        },
        "id": "cbe45f25",
        "outputId": "7f1bb9ba-c03a-4911-cc73-0397b1d83578"
      },
      "outputs": [
        {
          "output_type": "execute_result",
          "data": {
            "text/plain": [
              "PosixPath('/content/drive/MyDrive/FractalSSL_backup/data/pamap2+physical+activity+monitoring/PAMAP2_Dataset')"
            ]
          },
          "metadata": {},
          "execution_count": 138
        }
      ],
      "source": [
        "\n",
        "RAW_ROOT"
      ]
    },
    {
      "cell_type": "markdown",
      "id": "349382b9",
      "metadata": {
        "id": "349382b9"
      },
      "source": [
        "### Helper to read a single PAMAP2 `.dat` file"
      ]
    },
    {
      "cell_type": "code",
      "execution_count": 139,
      "id": "aefcc41a",
      "metadata": {
        "id": "aefcc41a"
      },
      "outputs": [],
      "source": [
        "from sklearn.preprocessing import RobustScaler, StandardScaler\n",
        "COLS = [\n",
        "    \"timestamp\", \"activity_id\", \"heart_rate\",\n",
        "    # IMU columns...\n",
        "]  # shortened for brevity – full list in spec\n",
        "\n",
        "WIN  = 256        # 2.56 s @100 Hz\n",
        "STEP = 256        # non-overlapping\n",
        "\n",
        "def clean_pamap_df(df, drop_na_thresh=0.9):\n",
        "    df = df.copy()\n",
        "    # 1) heart-rate sentinel −1  → NaN → interpolate\n",
        "    if 'heart_rate' in df.columns:\n",
        "        df['heart_rate'].replace(-1, np.nan, inplace=True)\n",
        "        df['heart_rate'].interpolate(\"linear\", limit_direction=\"both\", inplace=True)\n",
        "\n",
        "    # 2) drop channels with too many NaNs (often IMU orientation)\n",
        "    bad = df.columns[df.isna().mean() > drop_na_thresh]\n",
        "    df.drop(columns=bad, inplace=True)\n",
        "\n",
        "    # 3) fill residual gaps\n",
        "    df.fillna(method=\"ffill\", inplace=True)\n",
        "    df.fillna(method=\"bfill\", inplace=True)\n",
        "    df.fillna(0.0, inplace=True)\n",
        "\n",
        "    return df.astype(\"float32\")\n",
        "\n",
        "\n",
        "def load_dat(path: Path, cols=COLS):\n",
        "    \"\"\"Read raw .dat → DataFrame (no NaNs, z-scored sensor channels).\"\"\"\n",
        "    df = pd.read_csv(path, sep=' ', header=None)\n",
        "    df.columns = cols + [f'col_{i}' for i in range(len(df.columns)-len(cols))]\n",
        "\n",
        "    df = clean_pamap_df(df)                       # <<< NEW\n",
        "\n",
        "    # z-score *after* gaps are filled\n",
        "    sensor_cols = df.columns.drop(['timestamp', 'activity_id'])\n",
        "\n",
        "    # split: robust for HR, standard for the rest\n",
        "    hr_col = ['heart_rate']\n",
        "    other_cols = [c for c in sensor_cols if c not in hr_col]\n",
        "\n",
        "    df[hr_col] = RobustScaler(with_centering=True, with_scaling=True,\n",
        "                              quantile_range=(15, 85)).fit_transform(df[hr_col])\n",
        "\n",
        "    scaler = StandardScaler(with_mean=True, with_std=True)\n",
        "    other_scaled = scaler.fit_transform(df[other_cols])\n",
        "\n",
        "    # std()=0 guard happens inside StandardScaler, so no new NaNs\n",
        "    df[other_cols] = other_scaled.astype(np.float32)\n",
        "    return df\n",
        "\n",
        "\n",
        "\n"
      ]
    },
    {
      "cell_type": "code",
      "source": [
        "RAW_ROOT.glob(\"subject*.dat\")"
      ],
      "metadata": {
        "colab": {
          "base_uri": "https://localhost:8080/"
        },
        "id": "EZwRbCsdBKZj",
        "outputId": "9f15ad7a-db33-4bc5-e97a-f1034cca2d5d"
      },
      "id": "EZwRbCsdBKZj",
      "execution_count": 142,
      "outputs": [
        {
          "output_type": "execute_result",
          "data": {
            "text/plain": [
              "<generator object Path.glob at 0x7907c32f8bf0>"
            ]
          },
          "metadata": {},
          "execution_count": 142
        }
      ]
    },
    {
      "cell_type": "code",
      "source": [
        "def window_iter(df, win=WIN, step=STEP):\n",
        "    for s in range(0, len(df) - win + 1, step):\n",
        "        yield df.iloc[s:s+win].to_numpy(dtype=np.float32)\n",
        "\n",
        "CACHE_ROOT.mkdir(exist_ok=True, parents=True)\n",
        "for dat in tqdm(RAW_ROOT.rglob('*.dat'), desc=\"caching\"):\n",
        "    subj = dat.stem\n",
        "    print(subj)                     # 'subject101'\n",
        "    out  = CACHE_ROOT / f\"{subj}.pkl\"\n",
        "    if out.exists():                         # skip if already clean\n",
        "        continue\n",
        "    df   = load_dat(dat)                     # your cleaner + scaling\n",
        "    # -------- convert to window list ----------------------------------------\n",
        "    wins = np.stack(list(window_iter(df.drop(columns=[\"timestamp\",\n",
        "                                                      \"activity_id\"]))))\n",
        "    labels = np.array([np.bincount(df[\"activity_id\"]\n",
        "                    .iloc[s:s+WIN].astype(\"int32\")).argmax()\n",
        "                       for s in range(0, len(df) - WIN + 1, STEP)],\n",
        "                      dtype=np.int64)\n",
        "    # save BOTH windows and labels in one dict\n",
        "    pickle.dump({\"X\": wins, \"y\": labels, \"subj\": subj}, open(out, \"wb\"))\n",
        "print(\"✅ cache rebuilt\")"
      ],
      "metadata": {
        "colab": {
          "base_uri": "https://localhost:8080/"
        },
        "id": "DljWezH3AmWI",
        "outputId": "f35dc066-494c-4c8b-bfdb-576289a341e1"
      },
      "id": "DljWezH3AmWI",
      "execution_count": 144,
      "outputs": [
        {
          "output_type": "stream",
          "name": "stderr",
          "text": [
            "\rcaching: 0it [00:00, ?it/s]"
          ]
        },
        {
          "output_type": "stream",
          "name": "stdout",
          "text": [
            "subject101\n"
          ]
        },
        {
          "output_type": "stream",
          "name": "stderr",
          "text": [
            "/tmp/ipython-input-139-3542146686.py:14: FutureWarning: A value is trying to be set on a copy of a DataFrame or Series through chained assignment using an inplace method.\n",
            "The behavior will change in pandas 3.0. This inplace method will never work because the intermediate object on which we are setting values always behaves as a copy.\n",
            "\n",
            "For example, when doing 'df[col].method(value, inplace=True)', try using 'df.method({col: value}, inplace=True)' or df[col] = df[col].method(value) instead, to perform the operation inplace on the original object.\n",
            "\n",
            "\n",
            "  df['heart_rate'].replace(-1, np.nan, inplace=True)\n",
            "/tmp/ipython-input-139-3542146686.py:15: FutureWarning: A value is trying to be set on a copy of a DataFrame or Series through chained assignment using an inplace method.\n",
            "The behavior will change in pandas 3.0. This inplace method will never work because the intermediate object on which we are setting values always behaves as a copy.\n",
            "\n",
            "For example, when doing 'df[col].method(value, inplace=True)', try using 'df.method({col: value}, inplace=True)' or df[col] = df[col].method(value) instead, to perform the operation inplace on the original object.\n",
            "\n",
            "\n",
            "  df['heart_rate'].interpolate(\"linear\", limit_direction=\"both\", inplace=True)\n",
            "/tmp/ipython-input-139-3542146686.py:22: FutureWarning: DataFrame.fillna with 'method' is deprecated and will raise in a future version. Use obj.ffill() or obj.bfill() instead.\n",
            "  df.fillna(method=\"ffill\", inplace=True)\n",
            "/tmp/ipython-input-139-3542146686.py:23: FutureWarning: DataFrame.fillna with 'method' is deprecated and will raise in a future version. Use obj.ffill() or obj.bfill() instead.\n",
            "  df.fillna(method=\"bfill\", inplace=True)\n",
            "caching: 1it [00:03,  3.85s/it]"
          ]
        },
        {
          "output_type": "stream",
          "name": "stdout",
          "text": [
            "subject102\n"
          ]
        },
        {
          "output_type": "stream",
          "name": "stderr",
          "text": [
            "/tmp/ipython-input-139-3542146686.py:14: FutureWarning: A value is trying to be set on a copy of a DataFrame or Series through chained assignment using an inplace method.\n",
            "The behavior will change in pandas 3.0. This inplace method will never work because the intermediate object on which we are setting values always behaves as a copy.\n",
            "\n",
            "For example, when doing 'df[col].method(value, inplace=True)', try using 'df.method({col: value}, inplace=True)' or df[col] = df[col].method(value) instead, to perform the operation inplace on the original object.\n",
            "\n",
            "\n",
            "  df['heart_rate'].replace(-1, np.nan, inplace=True)\n",
            "/tmp/ipython-input-139-3542146686.py:15: FutureWarning: A value is trying to be set on a copy of a DataFrame or Series through chained assignment using an inplace method.\n",
            "The behavior will change in pandas 3.0. This inplace method will never work because the intermediate object on which we are setting values always behaves as a copy.\n",
            "\n",
            "For example, when doing 'df[col].method(value, inplace=True)', try using 'df.method({col: value}, inplace=True)' or df[col] = df[col].method(value) instead, to perform the operation inplace on the original object.\n",
            "\n",
            "\n",
            "  df['heart_rate'].interpolate(\"linear\", limit_direction=\"both\", inplace=True)\n",
            "/tmp/ipython-input-139-3542146686.py:22: FutureWarning: DataFrame.fillna with 'method' is deprecated and will raise in a future version. Use obj.ffill() or obj.bfill() instead.\n",
            "  df.fillna(method=\"ffill\", inplace=True)\n",
            "/tmp/ipython-input-139-3542146686.py:23: FutureWarning: DataFrame.fillna with 'method' is deprecated and will raise in a future version. Use obj.ffill() or obj.bfill() instead.\n",
            "  df.fillna(method=\"bfill\", inplace=True)\n",
            "caching: 2it [00:08,  4.53s/it]"
          ]
        },
        {
          "output_type": "stream",
          "name": "stdout",
          "text": [
            "subject103\n"
          ]
        },
        {
          "output_type": "stream",
          "name": "stderr",
          "text": [
            "/tmp/ipython-input-139-3542146686.py:14: FutureWarning: A value is trying to be set on a copy of a DataFrame or Series through chained assignment using an inplace method.\n",
            "The behavior will change in pandas 3.0. This inplace method will never work because the intermediate object on which we are setting values always behaves as a copy.\n",
            "\n",
            "For example, when doing 'df[col].method(value, inplace=True)', try using 'df.method({col: value}, inplace=True)' or df[col] = df[col].method(value) instead, to perform the operation inplace on the original object.\n",
            "\n",
            "\n",
            "  df['heart_rate'].replace(-1, np.nan, inplace=True)\n",
            "/tmp/ipython-input-139-3542146686.py:15: FutureWarning: A value is trying to be set on a copy of a DataFrame or Series through chained assignment using an inplace method.\n",
            "The behavior will change in pandas 3.0. This inplace method will never work because the intermediate object on which we are setting values always behaves as a copy.\n",
            "\n",
            "For example, when doing 'df[col].method(value, inplace=True)', try using 'df.method({col: value}, inplace=True)' or df[col] = df[col].method(value) instead, to perform the operation inplace on the original object.\n",
            "\n",
            "\n",
            "  df['heart_rate'].interpolate(\"linear\", limit_direction=\"both\", inplace=True)\n",
            "/tmp/ipython-input-139-3542146686.py:22: FutureWarning: DataFrame.fillna with 'method' is deprecated and will raise in a future version. Use obj.ffill() or obj.bfill() instead.\n",
            "  df.fillna(method=\"ffill\", inplace=True)\n",
            "/tmp/ipython-input-139-3542146686.py:23: FutureWarning: DataFrame.fillna with 'method' is deprecated and will raise in a future version. Use obj.ffill() or obj.bfill() instead.\n",
            "  df.fillna(method=\"bfill\", inplace=True)\n",
            "caching: 3it [00:11,  3.90s/it]"
          ]
        },
        {
          "output_type": "stream",
          "name": "stdout",
          "text": [
            "subject104\n"
          ]
        },
        {
          "output_type": "stream",
          "name": "stderr",
          "text": [
            "/tmp/ipython-input-139-3542146686.py:14: FutureWarning: A value is trying to be set on a copy of a DataFrame or Series through chained assignment using an inplace method.\n",
            "The behavior will change in pandas 3.0. This inplace method will never work because the intermediate object on which we are setting values always behaves as a copy.\n",
            "\n",
            "For example, when doing 'df[col].method(value, inplace=True)', try using 'df.method({col: value}, inplace=True)' or df[col] = df[col].method(value) instead, to perform the operation inplace on the original object.\n",
            "\n",
            "\n",
            "  df['heart_rate'].replace(-1, np.nan, inplace=True)\n",
            "/tmp/ipython-input-139-3542146686.py:15: FutureWarning: A value is trying to be set on a copy of a DataFrame or Series through chained assignment using an inplace method.\n",
            "The behavior will change in pandas 3.0. This inplace method will never work because the intermediate object on which we are setting values always behaves as a copy.\n",
            "\n",
            "For example, when doing 'df[col].method(value, inplace=True)', try using 'df.method({col: value}, inplace=True)' or df[col] = df[col].method(value) instead, to perform the operation inplace on the original object.\n",
            "\n",
            "\n",
            "  df['heart_rate'].interpolate(\"linear\", limit_direction=\"both\", inplace=True)\n",
            "/tmp/ipython-input-139-3542146686.py:22: FutureWarning: DataFrame.fillna with 'method' is deprecated and will raise in a future version. Use obj.ffill() or obj.bfill() instead.\n",
            "  df.fillna(method=\"ffill\", inplace=True)\n",
            "/tmp/ipython-input-139-3542146686.py:23: FutureWarning: DataFrame.fillna with 'method' is deprecated and will raise in a future version. Use obj.ffill() or obj.bfill() instead.\n",
            "  df.fillna(method=\"bfill\", inplace=True)\n",
            "caching: 4it [00:15,  3.86s/it]"
          ]
        },
        {
          "output_type": "stream",
          "name": "stdout",
          "text": [
            "subject105\n"
          ]
        },
        {
          "output_type": "stream",
          "name": "stderr",
          "text": [
            "/tmp/ipython-input-139-3542146686.py:14: FutureWarning: A value is trying to be set on a copy of a DataFrame or Series through chained assignment using an inplace method.\n",
            "The behavior will change in pandas 3.0. This inplace method will never work because the intermediate object on which we are setting values always behaves as a copy.\n",
            "\n",
            "For example, when doing 'df[col].method(value, inplace=True)', try using 'df.method({col: value}, inplace=True)' or df[col] = df[col].method(value) instead, to perform the operation inplace on the original object.\n",
            "\n",
            "\n",
            "  df['heart_rate'].replace(-1, np.nan, inplace=True)\n",
            "/tmp/ipython-input-139-3542146686.py:15: FutureWarning: A value is trying to be set on a copy of a DataFrame or Series through chained assignment using an inplace method.\n",
            "The behavior will change in pandas 3.0. This inplace method will never work because the intermediate object on which we are setting values always behaves as a copy.\n",
            "\n",
            "For example, when doing 'df[col].method(value, inplace=True)', try using 'df.method({col: value}, inplace=True)' or df[col] = df[col].method(value) instead, to perform the operation inplace on the original object.\n",
            "\n",
            "\n",
            "  df['heart_rate'].interpolate(\"linear\", limit_direction=\"both\", inplace=True)\n",
            "/tmp/ipython-input-139-3542146686.py:22: FutureWarning: DataFrame.fillna with 'method' is deprecated and will raise in a future version. Use obj.ffill() or obj.bfill() instead.\n",
            "  df.fillna(method=\"ffill\", inplace=True)\n",
            "/tmp/ipython-input-139-3542146686.py:23: FutureWarning: DataFrame.fillna with 'method' is deprecated and will raise in a future version. Use obj.ffill() or obj.bfill() instead.\n",
            "  df.fillna(method=\"bfill\", inplace=True)\n",
            "caching: 5it [00:20,  4.07s/it]"
          ]
        },
        {
          "output_type": "stream",
          "name": "stdout",
          "text": [
            "subject106\n"
          ]
        },
        {
          "output_type": "stream",
          "name": "stderr",
          "text": [
            "/tmp/ipython-input-139-3542146686.py:14: FutureWarning: A value is trying to be set on a copy of a DataFrame or Series through chained assignment using an inplace method.\n",
            "The behavior will change in pandas 3.0. This inplace method will never work because the intermediate object on which we are setting values always behaves as a copy.\n",
            "\n",
            "For example, when doing 'df[col].method(value, inplace=True)', try using 'df.method({col: value}, inplace=True)' or df[col] = df[col].method(value) instead, to perform the operation inplace on the original object.\n",
            "\n",
            "\n",
            "  df['heart_rate'].replace(-1, np.nan, inplace=True)\n",
            "/tmp/ipython-input-139-3542146686.py:15: FutureWarning: A value is trying to be set on a copy of a DataFrame or Series through chained assignment using an inplace method.\n",
            "The behavior will change in pandas 3.0. This inplace method will never work because the intermediate object on which we are setting values always behaves as a copy.\n",
            "\n",
            "For example, when doing 'df[col].method(value, inplace=True)', try using 'df.method({col: value}, inplace=True)' or df[col] = df[col].method(value) instead, to perform the operation inplace on the original object.\n",
            "\n",
            "\n",
            "  df['heart_rate'].interpolate(\"linear\", limit_direction=\"both\", inplace=True)\n",
            "/tmp/ipython-input-139-3542146686.py:22: FutureWarning: DataFrame.fillna with 'method' is deprecated and will raise in a future version. Use obj.ffill() or obj.bfill() instead.\n",
            "  df.fillna(method=\"ffill\", inplace=True)\n",
            "/tmp/ipython-input-139-3542146686.py:23: FutureWarning: DataFrame.fillna with 'method' is deprecated and will raise in a future version. Use obj.ffill() or obj.bfill() instead.\n",
            "  df.fillna(method=\"bfill\", inplace=True)\n",
            "caching: 6it [00:24,  4.27s/it]"
          ]
        },
        {
          "output_type": "stream",
          "name": "stdout",
          "text": [
            "subject107\n"
          ]
        },
        {
          "output_type": "stream",
          "name": "stderr",
          "text": [
            "/tmp/ipython-input-139-3542146686.py:14: FutureWarning: A value is trying to be set on a copy of a DataFrame or Series through chained assignment using an inplace method.\n",
            "The behavior will change in pandas 3.0. This inplace method will never work because the intermediate object on which we are setting values always behaves as a copy.\n",
            "\n",
            "For example, when doing 'df[col].method(value, inplace=True)', try using 'df.method({col: value}, inplace=True)' or df[col] = df[col].method(value) instead, to perform the operation inplace on the original object.\n",
            "\n",
            "\n",
            "  df['heart_rate'].replace(-1, np.nan, inplace=True)\n",
            "/tmp/ipython-input-139-3542146686.py:15: FutureWarning: A value is trying to be set on a copy of a DataFrame or Series through chained assignment using an inplace method.\n",
            "The behavior will change in pandas 3.0. This inplace method will never work because the intermediate object on which we are setting values always behaves as a copy.\n",
            "\n",
            "For example, when doing 'df[col].method(value, inplace=True)', try using 'df.method({col: value}, inplace=True)' or df[col] = df[col].method(value) instead, to perform the operation inplace on the original object.\n",
            "\n",
            "\n",
            "  df['heart_rate'].interpolate(\"linear\", limit_direction=\"both\", inplace=True)\n",
            "/tmp/ipython-input-139-3542146686.py:22: FutureWarning: DataFrame.fillna with 'method' is deprecated and will raise in a future version. Use obj.ffill() or obj.bfill() instead.\n",
            "  df.fillna(method=\"ffill\", inplace=True)\n",
            "/tmp/ipython-input-139-3542146686.py:23: FutureWarning: DataFrame.fillna with 'method' is deprecated and will raise in a future version. Use obj.ffill() or obj.bfill() instead.\n",
            "  df.fillna(method=\"bfill\", inplace=True)\n",
            "caching: 7it [00:28,  4.06s/it]"
          ]
        },
        {
          "output_type": "stream",
          "name": "stdout",
          "text": [
            "subject108\n"
          ]
        },
        {
          "output_type": "stream",
          "name": "stderr",
          "text": [
            "/tmp/ipython-input-139-3542146686.py:14: FutureWarning: A value is trying to be set on a copy of a DataFrame or Series through chained assignment using an inplace method.\n",
            "The behavior will change in pandas 3.0. This inplace method will never work because the intermediate object on which we are setting values always behaves as a copy.\n",
            "\n",
            "For example, when doing 'df[col].method(value, inplace=True)', try using 'df.method({col: value}, inplace=True)' or df[col] = df[col].method(value) instead, to perform the operation inplace on the original object.\n",
            "\n",
            "\n",
            "  df['heart_rate'].replace(-1, np.nan, inplace=True)\n",
            "/tmp/ipython-input-139-3542146686.py:15: FutureWarning: A value is trying to be set on a copy of a DataFrame or Series through chained assignment using an inplace method.\n",
            "The behavior will change in pandas 3.0. This inplace method will never work because the intermediate object on which we are setting values always behaves as a copy.\n",
            "\n",
            "For example, when doing 'df[col].method(value, inplace=True)', try using 'df.method({col: value}, inplace=True)' or df[col] = df[col].method(value) instead, to perform the operation inplace on the original object.\n",
            "\n",
            "\n",
            "  df['heart_rate'].interpolate(\"linear\", limit_direction=\"both\", inplace=True)\n",
            "/tmp/ipython-input-139-3542146686.py:22: FutureWarning: DataFrame.fillna with 'method' is deprecated and will raise in a future version. Use obj.ffill() or obj.bfill() instead.\n",
            "  df.fillna(method=\"ffill\", inplace=True)\n",
            "/tmp/ipython-input-139-3542146686.py:23: FutureWarning: DataFrame.fillna with 'method' is deprecated and will raise in a future version. Use obj.ffill() or obj.bfill() instead.\n",
            "  df.fillna(method=\"bfill\", inplace=True)\n",
            "caching: 8it [00:33,  4.21s/it]/tmp/ipython-input-139-3542146686.py:14: FutureWarning: A value is trying to be set on a copy of a DataFrame or Series through chained assignment using an inplace method.\n",
            "The behavior will change in pandas 3.0. This inplace method will never work because the intermediate object on which we are setting values always behaves as a copy.\n",
            "\n",
            "For example, when doing 'df[col].method(value, inplace=True)', try using 'df.method({col: value}, inplace=True)' or df[col] = df[col].method(value) instead, to perform the operation inplace on the original object.\n",
            "\n",
            "\n",
            "  df['heart_rate'].replace(-1, np.nan, inplace=True)\n",
            "/tmp/ipython-input-139-3542146686.py:15: FutureWarning: A value is trying to be set on a copy of a DataFrame or Series through chained assignment using an inplace method.\n",
            "The behavior will change in pandas 3.0. This inplace method will never work because the intermediate object on which we are setting values always behaves as a copy.\n",
            "\n",
            "For example, when doing 'df[col].method(value, inplace=True)', try using 'df.method({col: value}, inplace=True)' or df[col] = df[col].method(value) instead, to perform the operation inplace on the original object.\n",
            "\n",
            "\n",
            "  df['heart_rate'].interpolate(\"linear\", limit_direction=\"both\", inplace=True)\n",
            "/tmp/ipython-input-139-3542146686.py:22: FutureWarning: DataFrame.fillna with 'method' is deprecated and will raise in a future version. Use obj.ffill() or obj.bfill() instead.\n",
            "  df.fillna(method=\"ffill\", inplace=True)\n",
            "/tmp/ipython-input-139-3542146686.py:23: FutureWarning: DataFrame.fillna with 'method' is deprecated and will raise in a future version. Use obj.ffill() or obj.bfill() instead.\n",
            "  df.fillna(method=\"bfill\", inplace=True)\n",
            "caching: 14it [00:33,  2.37s/it]"
          ]
        },
        {
          "output_type": "stream",
          "name": "stdout",
          "text": [
            "subject109\n",
            "subject101\n",
            "subject105\n",
            "subject106\n",
            "subject108\n",
            "subject109\n",
            "✅ cache rebuilt\n"
          ]
        },
        {
          "output_type": "stream",
          "name": "stderr",
          "text": [
            "\n"
          ]
        }
      ]
    },
    {
      "cell_type": "markdown",
      "id": "1594c7ca",
      "metadata": {
        "id": "1594c7ca"
      },
      "source": [
        "### Load & peek at Subject 101"
      ]
    },
    {
      "cell_type": "code",
      "execution_count": 145,
      "id": "578c9d47",
      "metadata": {
        "colab": {
          "base_uri": "https://localhost:8080/"
        },
        "id": "578c9d47",
        "outputId": "0430ac7b-081f-46e5-c003-eafa489dad19"
      },
      "outputs": [
        {
          "output_type": "stream",
          "name": "stdout",
          "text": [
            "First 5 .dat files I see:\n",
            " • Protocol/subject101.dat\n",
            " • Protocol/subject102.dat\n",
            " • Protocol/subject103.dat\n",
            " • Protocol/subject104.dat\n",
            " • Protocol/subject105.dat\n"
          ]
        }
      ],
      "source": [
        "print('First 5 .dat files I see:')\n",
        "for p in list(RAW_ROOT.rglob('*.dat'))[:5]:\n",
        "    print(' •', p.relative_to(RAW_ROOT))"
      ]
    },
    {
      "cell_type": "code",
      "execution_count": 146,
      "id": "5e886d53",
      "metadata": {
        "colab": {
          "base_uri": "https://localhost:8080/",
          "height": 577
        },
        "id": "5e886d53",
        "outputId": "7d443a7b-bd7d-4d49-be54-41af174f96f7"
      },
      "outputs": [
        {
          "output_type": "stream",
          "name": "stderr",
          "text": [
            "/tmp/ipython-input-139-3542146686.py:14: FutureWarning: A value is trying to be set on a copy of a DataFrame or Series through chained assignment using an inplace method.\n",
            "The behavior will change in pandas 3.0. This inplace method will never work because the intermediate object on which we are setting values always behaves as a copy.\n",
            "\n",
            "For example, when doing 'df[col].method(value, inplace=True)', try using 'df.method({col: value}, inplace=True)' or df[col] = df[col].method(value) instead, to perform the operation inplace on the original object.\n",
            "\n",
            "\n",
            "  df['heart_rate'].replace(-1, np.nan, inplace=True)\n",
            "/tmp/ipython-input-139-3542146686.py:15: FutureWarning: A value is trying to be set on a copy of a DataFrame or Series through chained assignment using an inplace method.\n",
            "The behavior will change in pandas 3.0. This inplace method will never work because the intermediate object on which we are setting values always behaves as a copy.\n",
            "\n",
            "For example, when doing 'df[col].method(value, inplace=True)', try using 'df.method({col: value}, inplace=True)' or df[col] = df[col].method(value) instead, to perform the operation inplace on the original object.\n",
            "\n",
            "\n",
            "  df['heart_rate'].interpolate(\"linear\", limit_direction=\"both\", inplace=True)\n",
            "/tmp/ipython-input-139-3542146686.py:22: FutureWarning: DataFrame.fillna with 'method' is deprecated and will raise in a future version. Use obj.ffill() or obj.bfill() instead.\n",
            "  df.fillna(method=\"ffill\", inplace=True)\n",
            "/tmp/ipython-input-139-3542146686.py:23: FutureWarning: DataFrame.fillna with 'method' is deprecated and will raise in a future version. Use obj.ffill() or obj.bfill() instead.\n",
            "  df.fillna(method=\"bfill\", inplace=True)\n"
          ]
        },
        {
          "output_type": "execute_result",
          "data": {
            "text/plain": [
              "   timestamp  activity_id  heart_rate     col_0     col_1     col_2     col_3  \\\n",
              "0       8.38          0.0   -0.428571 -1.963841  0.898792  0.447002  0.031486   \n",
              "1       8.39          0.0   -0.428571 -1.963841  0.869938  0.440238  0.076209   \n",
              "2       8.40          0.0   -0.428571 -1.963841  0.899003  0.447065  0.042866   \n",
              "3       8.41          0.0   -0.428571 -1.963841  0.852104  0.433103  0.075742   \n",
              "4       8.42          0.0   -0.428571 -1.963841  0.876371  0.491362  0.087503   \n",
              "\n",
              "      col_4     col_5     col_6  ...    col_41    col_42    col_43    col_44  \\\n",
              "0  0.895948  0.471187 -0.063455  ...  0.009056  0.014038 -0.017178 -0.400685   \n",
              "1  0.888981  0.430768  0.021841  ... -0.005863 -0.008964 -0.007136 -0.348521   \n",
              "2  0.874955  0.428014  0.048767  ...  0.003755 -0.001037  0.005244 -0.383074   \n",
              "3  0.879663  0.427971  0.048758  ...  0.003917 -0.034904 -0.001033 -0.370353   \n",
              "4  0.863305  0.439702  0.057714  ...  0.013466 -0.024970 -0.008921 -0.413566   \n",
              "\n",
              "     col_45    col_46  col_47  col_48  col_49  col_50  \n",
              "0 -1.137237 -2.325001     0.0     0.0     0.0     0.0  \n",
              "1 -1.135016 -2.337929     0.0     0.0     0.0     0.0  \n",
              "2 -1.152067 -2.333679     0.0     0.0     0.0     0.0  \n",
              "3 -1.130820 -2.333534     0.0     0.0     0.0     0.0  \n",
              "4 -1.151221 -2.329257     0.0     0.0     0.0     0.0  \n",
              "\n",
              "[5 rows x 54 columns]"
            ],
            "text/html": [
              "\n",
              "  <div id=\"df-4b6ebbc7-c56f-4e4b-a5a3-29880064c3e1\" class=\"colab-df-container\">\n",
              "    <div>\n",
              "<style scoped>\n",
              "    .dataframe tbody tr th:only-of-type {\n",
              "        vertical-align: middle;\n",
              "    }\n",
              "\n",
              "    .dataframe tbody tr th {\n",
              "        vertical-align: top;\n",
              "    }\n",
              "\n",
              "    .dataframe thead th {\n",
              "        text-align: right;\n",
              "    }\n",
              "</style>\n",
              "<table border=\"1\" class=\"dataframe\">\n",
              "  <thead>\n",
              "    <tr style=\"text-align: right;\">\n",
              "      <th></th>\n",
              "      <th>timestamp</th>\n",
              "      <th>activity_id</th>\n",
              "      <th>heart_rate</th>\n",
              "      <th>col_0</th>\n",
              "      <th>col_1</th>\n",
              "      <th>col_2</th>\n",
              "      <th>col_3</th>\n",
              "      <th>col_4</th>\n",
              "      <th>col_5</th>\n",
              "      <th>col_6</th>\n",
              "      <th>...</th>\n",
              "      <th>col_41</th>\n",
              "      <th>col_42</th>\n",
              "      <th>col_43</th>\n",
              "      <th>col_44</th>\n",
              "      <th>col_45</th>\n",
              "      <th>col_46</th>\n",
              "      <th>col_47</th>\n",
              "      <th>col_48</th>\n",
              "      <th>col_49</th>\n",
              "      <th>col_50</th>\n",
              "    </tr>\n",
              "  </thead>\n",
              "  <tbody>\n",
              "    <tr>\n",
              "      <th>0</th>\n",
              "      <td>8.38</td>\n",
              "      <td>0.0</td>\n",
              "      <td>-0.428571</td>\n",
              "      <td>-1.963841</td>\n",
              "      <td>0.898792</td>\n",
              "      <td>0.447002</td>\n",
              "      <td>0.031486</td>\n",
              "      <td>0.895948</td>\n",
              "      <td>0.471187</td>\n",
              "      <td>-0.063455</td>\n",
              "      <td>...</td>\n",
              "      <td>0.009056</td>\n",
              "      <td>0.014038</td>\n",
              "      <td>-0.017178</td>\n",
              "      <td>-0.400685</td>\n",
              "      <td>-1.137237</td>\n",
              "      <td>-2.325001</td>\n",
              "      <td>0.0</td>\n",
              "      <td>0.0</td>\n",
              "      <td>0.0</td>\n",
              "      <td>0.0</td>\n",
              "    </tr>\n",
              "    <tr>\n",
              "      <th>1</th>\n",
              "      <td>8.39</td>\n",
              "      <td>0.0</td>\n",
              "      <td>-0.428571</td>\n",
              "      <td>-1.963841</td>\n",
              "      <td>0.869938</td>\n",
              "      <td>0.440238</td>\n",
              "      <td>0.076209</td>\n",
              "      <td>0.888981</td>\n",
              "      <td>0.430768</td>\n",
              "      <td>0.021841</td>\n",
              "      <td>...</td>\n",
              "      <td>-0.005863</td>\n",
              "      <td>-0.008964</td>\n",
              "      <td>-0.007136</td>\n",
              "      <td>-0.348521</td>\n",
              "      <td>-1.135016</td>\n",
              "      <td>-2.337929</td>\n",
              "      <td>0.0</td>\n",
              "      <td>0.0</td>\n",
              "      <td>0.0</td>\n",
              "      <td>0.0</td>\n",
              "    </tr>\n",
              "    <tr>\n",
              "      <th>2</th>\n",
              "      <td>8.40</td>\n",
              "      <td>0.0</td>\n",
              "      <td>-0.428571</td>\n",
              "      <td>-1.963841</td>\n",
              "      <td>0.899003</td>\n",
              "      <td>0.447065</td>\n",
              "      <td>0.042866</td>\n",
              "      <td>0.874955</td>\n",
              "      <td>0.428014</td>\n",
              "      <td>0.048767</td>\n",
              "      <td>...</td>\n",
              "      <td>0.003755</td>\n",
              "      <td>-0.001037</td>\n",
              "      <td>0.005244</td>\n",
              "      <td>-0.383074</td>\n",
              "      <td>-1.152067</td>\n",
              "      <td>-2.333679</td>\n",
              "      <td>0.0</td>\n",
              "      <td>0.0</td>\n",
              "      <td>0.0</td>\n",
              "      <td>0.0</td>\n",
              "    </tr>\n",
              "    <tr>\n",
              "      <th>3</th>\n",
              "      <td>8.41</td>\n",
              "      <td>0.0</td>\n",
              "      <td>-0.428571</td>\n",
              "      <td>-1.963841</td>\n",
              "      <td>0.852104</td>\n",
              "      <td>0.433103</td>\n",
              "      <td>0.075742</td>\n",
              "      <td>0.879663</td>\n",
              "      <td>0.427971</td>\n",
              "      <td>0.048758</td>\n",
              "      <td>...</td>\n",
              "      <td>0.003917</td>\n",
              "      <td>-0.034904</td>\n",
              "      <td>-0.001033</td>\n",
              "      <td>-0.370353</td>\n",
              "      <td>-1.130820</td>\n",
              "      <td>-2.333534</td>\n",
              "      <td>0.0</td>\n",
              "      <td>0.0</td>\n",
              "      <td>0.0</td>\n",
              "      <td>0.0</td>\n",
              "    </tr>\n",
              "    <tr>\n",
              "      <th>4</th>\n",
              "      <td>8.42</td>\n",
              "      <td>0.0</td>\n",
              "      <td>-0.428571</td>\n",
              "      <td>-1.963841</td>\n",
              "      <td>0.876371</td>\n",
              "      <td>0.491362</td>\n",
              "      <td>0.087503</td>\n",
              "      <td>0.863305</td>\n",
              "      <td>0.439702</td>\n",
              "      <td>0.057714</td>\n",
              "      <td>...</td>\n",
              "      <td>0.013466</td>\n",
              "      <td>-0.024970</td>\n",
              "      <td>-0.008921</td>\n",
              "      <td>-0.413566</td>\n",
              "      <td>-1.151221</td>\n",
              "      <td>-2.329257</td>\n",
              "      <td>0.0</td>\n",
              "      <td>0.0</td>\n",
              "      <td>0.0</td>\n",
              "      <td>0.0</td>\n",
              "    </tr>\n",
              "  </tbody>\n",
              "</table>\n",
              "<p>5 rows × 54 columns</p>\n",
              "</div>\n",
              "    <div class=\"colab-df-buttons\">\n",
              "\n",
              "  <div class=\"colab-df-container\">\n",
              "    <button class=\"colab-df-convert\" onclick=\"convertToInteractive('df-4b6ebbc7-c56f-4e4b-a5a3-29880064c3e1')\"\n",
              "            title=\"Convert this dataframe to an interactive table.\"\n",
              "            style=\"display:none;\">\n",
              "\n",
              "  <svg xmlns=\"http://www.w3.org/2000/svg\" height=\"24px\" viewBox=\"0 -960 960 960\">\n",
              "    <path d=\"M120-120v-720h720v720H120Zm60-500h600v-160H180v160Zm220 220h160v-160H400v160Zm0 220h160v-160H400v160ZM180-400h160v-160H180v160Zm440 0h160v-160H620v160ZM180-180h160v-160H180v160Zm440 0h160v-160H620v160Z\"/>\n",
              "  </svg>\n",
              "    </button>\n",
              "\n",
              "  <style>\n",
              "    .colab-df-container {\n",
              "      display:flex;\n",
              "      gap: 12px;\n",
              "    }\n",
              "\n",
              "    .colab-df-convert {\n",
              "      background-color: #E8F0FE;\n",
              "      border: none;\n",
              "      border-radius: 50%;\n",
              "      cursor: pointer;\n",
              "      display: none;\n",
              "      fill: #1967D2;\n",
              "      height: 32px;\n",
              "      padding: 0 0 0 0;\n",
              "      width: 32px;\n",
              "    }\n",
              "\n",
              "    .colab-df-convert:hover {\n",
              "      background-color: #E2EBFA;\n",
              "      box-shadow: 0px 1px 2px rgba(60, 64, 67, 0.3), 0px 1px 3px 1px rgba(60, 64, 67, 0.15);\n",
              "      fill: #174EA6;\n",
              "    }\n",
              "\n",
              "    .colab-df-buttons div {\n",
              "      margin-bottom: 4px;\n",
              "    }\n",
              "\n",
              "    [theme=dark] .colab-df-convert {\n",
              "      background-color: #3B4455;\n",
              "      fill: #D2E3FC;\n",
              "    }\n",
              "\n",
              "    [theme=dark] .colab-df-convert:hover {\n",
              "      background-color: #434B5C;\n",
              "      box-shadow: 0px 1px 3px 1px rgba(0, 0, 0, 0.15);\n",
              "      filter: drop-shadow(0px 1px 2px rgba(0, 0, 0, 0.3));\n",
              "      fill: #FFFFFF;\n",
              "    }\n",
              "  </style>\n",
              "\n",
              "    <script>\n",
              "      const buttonEl =\n",
              "        document.querySelector('#df-4b6ebbc7-c56f-4e4b-a5a3-29880064c3e1 button.colab-df-convert');\n",
              "      buttonEl.style.display =\n",
              "        google.colab.kernel.accessAllowed ? 'block' : 'none';\n",
              "\n",
              "      async function convertToInteractive(key) {\n",
              "        const element = document.querySelector('#df-4b6ebbc7-c56f-4e4b-a5a3-29880064c3e1');\n",
              "        const dataTable =\n",
              "          await google.colab.kernel.invokeFunction('convertToInteractive',\n",
              "                                                    [key], {});\n",
              "        if (!dataTable) return;\n",
              "\n",
              "        const docLinkHtml = 'Like what you see? Visit the ' +\n",
              "          '<a target=\"_blank\" href=https://colab.research.google.com/notebooks/data_table.ipynb>data table notebook</a>'\n",
              "          + ' to learn more about interactive tables.';\n",
              "        element.innerHTML = '';\n",
              "        dataTable['output_type'] = 'display_data';\n",
              "        await google.colab.output.renderOutput(dataTable, element);\n",
              "        const docLink = document.createElement('div');\n",
              "        docLink.innerHTML = docLinkHtml;\n",
              "        element.appendChild(docLink);\n",
              "      }\n",
              "    </script>\n",
              "  </div>\n",
              "\n",
              "\n",
              "    <div id=\"df-0aa09578-5950-47e9-ad5c-7f0e7b26551f\">\n",
              "      <button class=\"colab-df-quickchart\" onclick=\"quickchart('df-0aa09578-5950-47e9-ad5c-7f0e7b26551f')\"\n",
              "                title=\"Suggest charts\"\n",
              "                style=\"display:none;\">\n",
              "\n",
              "<svg xmlns=\"http://www.w3.org/2000/svg\" height=\"24px\"viewBox=\"0 0 24 24\"\n",
              "     width=\"24px\">\n",
              "    <g>\n",
              "        <path d=\"M19 3H5c-1.1 0-2 .9-2 2v14c0 1.1.9 2 2 2h14c1.1 0 2-.9 2-2V5c0-1.1-.9-2-2-2zM9 17H7v-7h2v7zm4 0h-2V7h2v10zm4 0h-2v-4h2v4z\"/>\n",
              "    </g>\n",
              "</svg>\n",
              "      </button>\n",
              "\n",
              "<style>\n",
              "  .colab-df-quickchart {\n",
              "      --bg-color: #E8F0FE;\n",
              "      --fill-color: #1967D2;\n",
              "      --hover-bg-color: #E2EBFA;\n",
              "      --hover-fill-color: #174EA6;\n",
              "      --disabled-fill-color: #AAA;\n",
              "      --disabled-bg-color: #DDD;\n",
              "  }\n",
              "\n",
              "  [theme=dark] .colab-df-quickchart {\n",
              "      --bg-color: #3B4455;\n",
              "      --fill-color: #D2E3FC;\n",
              "      --hover-bg-color: #434B5C;\n",
              "      --hover-fill-color: #FFFFFF;\n",
              "      --disabled-bg-color: #3B4455;\n",
              "      --disabled-fill-color: #666;\n",
              "  }\n",
              "\n",
              "  .colab-df-quickchart {\n",
              "    background-color: var(--bg-color);\n",
              "    border: none;\n",
              "    border-radius: 50%;\n",
              "    cursor: pointer;\n",
              "    display: none;\n",
              "    fill: var(--fill-color);\n",
              "    height: 32px;\n",
              "    padding: 0;\n",
              "    width: 32px;\n",
              "  }\n",
              "\n",
              "  .colab-df-quickchart:hover {\n",
              "    background-color: var(--hover-bg-color);\n",
              "    box-shadow: 0 1px 2px rgba(60, 64, 67, 0.3), 0 1px 3px 1px rgba(60, 64, 67, 0.15);\n",
              "    fill: var(--button-hover-fill-color);\n",
              "  }\n",
              "\n",
              "  .colab-df-quickchart-complete:disabled,\n",
              "  .colab-df-quickchart-complete:disabled:hover {\n",
              "    background-color: var(--disabled-bg-color);\n",
              "    fill: var(--disabled-fill-color);\n",
              "    box-shadow: none;\n",
              "  }\n",
              "\n",
              "  .colab-df-spinner {\n",
              "    border: 2px solid var(--fill-color);\n",
              "    border-color: transparent;\n",
              "    border-bottom-color: var(--fill-color);\n",
              "    animation:\n",
              "      spin 1s steps(1) infinite;\n",
              "  }\n",
              "\n",
              "  @keyframes spin {\n",
              "    0% {\n",
              "      border-color: transparent;\n",
              "      border-bottom-color: var(--fill-color);\n",
              "      border-left-color: var(--fill-color);\n",
              "    }\n",
              "    20% {\n",
              "      border-color: transparent;\n",
              "      border-left-color: var(--fill-color);\n",
              "      border-top-color: var(--fill-color);\n",
              "    }\n",
              "    30% {\n",
              "      border-color: transparent;\n",
              "      border-left-color: var(--fill-color);\n",
              "      border-top-color: var(--fill-color);\n",
              "      border-right-color: var(--fill-color);\n",
              "    }\n",
              "    40% {\n",
              "      border-color: transparent;\n",
              "      border-right-color: var(--fill-color);\n",
              "      border-top-color: var(--fill-color);\n",
              "    }\n",
              "    60% {\n",
              "      border-color: transparent;\n",
              "      border-right-color: var(--fill-color);\n",
              "    }\n",
              "    80% {\n",
              "      border-color: transparent;\n",
              "      border-right-color: var(--fill-color);\n",
              "      border-bottom-color: var(--fill-color);\n",
              "    }\n",
              "    90% {\n",
              "      border-color: transparent;\n",
              "      border-bottom-color: var(--fill-color);\n",
              "    }\n",
              "  }\n",
              "</style>\n",
              "\n",
              "      <script>\n",
              "        async function quickchart(key) {\n",
              "          const quickchartButtonEl =\n",
              "            document.querySelector('#' + key + ' button');\n",
              "          quickchartButtonEl.disabled = true;  // To prevent multiple clicks.\n",
              "          quickchartButtonEl.classList.add('colab-df-spinner');\n",
              "          try {\n",
              "            const charts = await google.colab.kernel.invokeFunction(\n",
              "                'suggestCharts', [key], {});\n",
              "          } catch (error) {\n",
              "            console.error('Error during call to suggestCharts:', error);\n",
              "          }\n",
              "          quickchartButtonEl.classList.remove('colab-df-spinner');\n",
              "          quickchartButtonEl.classList.add('colab-df-quickchart-complete');\n",
              "        }\n",
              "        (() => {\n",
              "          let quickchartButtonEl =\n",
              "            document.querySelector('#df-0aa09578-5950-47e9-ad5c-7f0e7b26551f button');\n",
              "          quickchartButtonEl.style.display =\n",
              "            google.colab.kernel.accessAllowed ? 'block' : 'none';\n",
              "        })();\n",
              "      </script>\n",
              "    </div>\n",
              "\n",
              "    </div>\n",
              "  </div>\n"
            ],
            "application/vnd.google.colaboratory.intrinsic+json": {
              "type": "dataframe",
              "variable_name": "df101"
            }
          },
          "metadata": {},
          "execution_count": 146
        }
      ],
      "source": [
        "sample_path = next(RAW_ROOT.glob('*Protocol/subject101.dat'))\n",
        "df101 = load_dat(sample_path)\n",
        "df101.head()\n"
      ]
    },
    {
      "cell_type": "markdown",
      "id": "f4abd713",
      "metadata": {
        "id": "f4abd713"
      },
      "source": [
        "### Cache all subjects (optional, ~1 GB)"
      ]
    },
    {
      "cell_type": "markdown",
      "id": "b54d69f1",
      "metadata": {
        "id": "b54d69f1"
      },
      "source": [
        "## 2  TS2Vec pre‑training"
      ]
    },
    {
      "cell_type": "code",
      "execution_count": null,
      "id": "d12ce852",
      "metadata": {
        "id": "d12ce852",
        "outputId": "78d93cf8-2985-4e10-edc8-0d75713fddca"
      },
      "outputs": [
        {
          "name": "stdout",
          "output_type": "stream",
          "text": [
            "Found existing installation: ts2vec 0.1\n",
            "Uninstalling ts2vec-0.1:\n",
            "  Successfully uninstalled ts2vec-0.1\n",
            "Note: you may need to restart the kernel to use updated packages.\n",
            "Collecting git+https://github.com/yuezhihan/ts2vec.git@main\n",
            "  Cloning https://github.com/yuezhihan/ts2vec.git (to revision main) to /private/var/folders/nb/mdcnqz1d7673k0zpfm275hrm0000gp/T/pip-req-build-nmw08e6r\n",
            "  Running command git clone --filter=blob:none --quiet https://github.com/yuezhihan/ts2vec.git /private/var/folders/nb/mdcnqz1d7673k0zpfm275hrm0000gp/T/pip-req-build-nmw08e6r\n",
            "  Resolved https://github.com/yuezhihan/ts2vec.git to commit b0088e14a99706c05451316dc6db8d3da9351163\n",
            "\u001b[31mERROR: git+https://github.com/yuezhihan/ts2vec.git@main does not appear to be a Python project: neither 'setup.py' nor 'pyproject.toml' found.\u001b[0m\u001b[31m\n",
            "\u001b[0mNote: you may need to restart the kernel to use updated packages.\n"
          ]
        }
      ],
      "source": [
        "%pip uninstall -y ts2vec\n",
        "%pip install git+https://github.com/yuezhihan/ts2vec.git@main\n"
      ]
    },
    {
      "cell_type": "code",
      "execution_count": null,
      "id": "0445eb64",
      "metadata": {
        "id": "0445eb64",
        "outputId": "1baf3819-9f59-4666-f161-3ff37421b380"
      },
      "outputs": [
        {
          "name": "stdout",
          "output_type": "stream",
          "text": [
            "Collecting ts2vec\n",
            "  Using cached ts2vec-0.1-py3-none-any.whl.metadata (53 bytes)\n",
            "Using cached ts2vec-0.1-py3-none-any.whl (18 kB)\n",
            "Installing collected packages: ts2vec\n",
            "Successfully installed ts2vec-0.1\n",
            "Note: you may need to restart the kernel to use updated packages.\n"
          ]
        }
      ],
      "source": [
        "%pip install ts2vec"
      ]
    },
    {
      "cell_type": "code",
      "execution_count": 4,
      "id": "960c3e15",
      "metadata": {
        "id": "960c3e15"
      },
      "outputs": [],
      "source": [
        "from torch.utils.data import Dataset\n",
        "class PAMAP2Windows(Dataset):\n",
        "    \"\"\"Returns windows + labels + subject-id, all from the new cache.\"\"\"\n",
        "    def __init__(self, cache_root=CACHE_ROOT, with_labels=True):\n",
        "        self.X, self.y, self.groups = [], [], []\n",
        "        for pkl in cache_root.glob(\"subject*.pkl\"):\n",
        "            obj = pickle.load(open(pkl, \"rb\"))\n",
        "            self.X.append(obj[\"X\"])\n",
        "            self.groups += [obj[\"subj\"]] * len(obj[\"X\"])\n",
        "            if with_labels:\n",
        "                self.y.append(obj[\"y\"])\n",
        "        self.X = np.concatenate(self.X)\n",
        "        self.groups = np.array(self.groups)\n",
        "        if with_labels:\n",
        "            self.y = np.concatenate(self.y)\n",
        "        else:                               # SSL needs no labels\n",
        "            self.y = None\n",
        "\n",
        "    def __len__(self): return len(self.X)\n",
        "    def __getitem__(self, idx):\n",
        "        x = torch.tensor(self.X[idx])\n",
        "        if self.y is not None:\n",
        "            return x, self.y[idx], self.groups[idx]\n",
        "        return x, self.groups[idx]\n",
        "\n"
      ]
    },
    {
      "cell_type": "code",
      "source": [
        "from sklearn.model_selection import GroupShuffleSplit\n",
        "\n",
        "import numpy as np\n",
        "from sklearn.model_selection import GroupShuffleSplit\n",
        "\n",
        "def stratified_group_split(X, y, groups, test_size=0.2, seed=42, max_trials=1_000):\n",
        "    \"\"\"Return idx_train, idx_test such that every class appears in train.\"\"\"\n",
        "    rs = np.random.RandomState(seed)\n",
        "    all_classes = np.unique(y)\n",
        "\n",
        "    for _ in range(max_trials):\n",
        "        random_state = rs.randint(0, 10_000_000)\n",
        "        gss = GroupShuffleSplit(n_splits=1, test_size=test_size,\n",
        "                                random_state=random_state)\n",
        "        tr_idx, te_idx = next(gss.split(X, y, groups=groups))\n",
        "        if np.all(np.isin(all_classes, y[tr_idx])):      # every class present?\n",
        "            return tr_idx, te_idx\n",
        "\n",
        "    raise RuntimeError(\"Could not find a split with all classes in train\")\n",
        "\n",
        "# ---------------------------------------------------------------------------\n",
        "ds = PAMAP2Windows(with_labels=True)         # unified cache\n",
        "tr_idx, te_idx = stratified_group_split(ds.X, ds.y, ds.groups,\n",
        "                                             test_size=0.2, seed=42)\n",
        "\n",
        "\n",
        "# keep indices for everything that follows\n",
        "save_path_train = '/content/drive/MyDrive/FractalSSL_backup/models/train_idx.npy'\n",
        "save_path_test = '/content/drive/MyDrive/FractalSSL_backup/models/test_idx.npy'\n",
        "np.save(save_path_train, tr_idx); np.save(save_path_test, te_idx)\n"
      ],
      "metadata": {
        "id": "4fNBcUDTBsWZ"
      },
      "id": "4fNBcUDTBsWZ",
      "execution_count": 5,
      "outputs": []
    },
    {
      "cell_type": "code",
      "source": [
        "del full_ds\n",
        "gc.collect()"
      ],
      "metadata": {
        "colab": {
          "base_uri": "https://localhost:8080/"
        },
        "id": "EJwlVjmCIPpY",
        "outputId": "20a3a897-90ac-4ced-9fe7-cb6793dcb458"
      },
      "id": "EJwlVjmCIPpY",
      "execution_count": 170,
      "outputs": [
        {
          "output_type": "execute_result",
          "data": {
            "text/plain": [
              "15940"
            ]
          },
          "metadata": {},
          "execution_count": 170
        }
      ]
    },
    {
      "cell_type": "code",
      "execution_count": 6,
      "id": "af5f7555",
      "metadata": {
        "colab": {
          "base_uri": "https://localhost:8080/"
        },
        "id": "af5f7555",
        "outputId": "06873a92-7ed7-4f12-ed50-46c921050973"
      },
      "outputs": [
        {
          "output_type": "stream",
          "name": "stdout",
          "text": [
            "Using device: cuda\n"
          ]
        }
      ],
      "source": [
        "import torch\n",
        "#torch.backends.mps.is_available()\n",
        "# → True  on mac\n",
        "#device = 'mps' if torch.backends.mps.is_available() else 'cpu'\n",
        "\n",
        "\n",
        "# Colab → use the CUDA device if the notebook is attached to a GPU runtime,\n",
        "# otherwise fall back to CPU.\n",
        "device = torch.device('cuda' if torch.cuda.is_available() else 'cpu')\n",
        "\n",
        "print('Using device:', device)\n",
        "\n"
      ]
    },
    {
      "cell_type": "code",
      "source": [
        "from torch.utils.data import Subset, DataLoader\n",
        "# OPTIONAL: if RAM is tight, feed a DataLoader directly -------------\n",
        "train_loader = DataLoader(\n",
        "    Subset(ds, tr_idx), batch_size=256, shuffle=True, drop_last=True\n",
        ")\n",
        "train_windows =ds.X[tr_idx].astype(np.float32)"
      ],
      "metadata": {
        "id": "z_-iZxKoB4G9"
      },
      "id": "z_-iZxKoB4G9",
      "execution_count": 7,
      "outputs": []
    },
    {
      "cell_type": "code",
      "source": [
        "train_windows"
      ],
      "metadata": {
        "colab": {
          "base_uri": "https://localhost:8080/"
        },
        "id": "qTBgGgwuC-3x",
        "outputId": "97f526a0-c2a3-459c-d592-102b62ffad50"
      },
      "id": "qTBgGgwuC-3x",
      "execution_count": 8,
      "outputs": [
        {
          "output_type": "execute_result",
          "data": {
            "text/plain": [
              "array([[[-0.42857143, -1.9638411 ,  0.8987924 , ...,  0.        ,\n",
              "          0.        ,  0.        ],\n",
              "        [-0.42857143, -1.9638411 ,  0.86993796, ...,  0.        ,\n",
              "          0.        ,  0.        ],\n",
              "        [-0.42857143, -1.9638411 ,  0.8990027 , ...,  0.        ,\n",
              "          0.        ,  0.        ],\n",
              "        ...,\n",
              "        [-0.38404456, -1.9133081 ,  0.95738494, ...,  0.        ,\n",
              "          0.        ,  0.        ],\n",
              "        [-0.3821892 , -1.9133081 ,  0.947286  , ...,  0.        ,\n",
              "          0.        ,  0.        ],\n",
              "        [-0.38033387, -1.9133081 ,  0.9662942 , ...,  0.        ,\n",
              "          0.        ,  0.        ]],\n",
              "\n",
              "       [[-0.3784787 , -1.9133081 ,  0.94274116, ...,  0.        ,\n",
              "          0.        ,  0.        ],\n",
              "        [-0.37662336, -1.9133081 ,  0.96469975, ...,  0.        ,\n",
              "          0.        ,  0.        ],\n",
              "        [-0.37476817, -1.9133081 ,  0.9593576 , ...,  0.        ,\n",
              "          0.        ,  0.        ],\n",
              "        ...,\n",
              "        [-0.40816328, -1.9133081 ,  0.8132789 , ...,  0.        ,\n",
              "          0.        ,  0.        ],\n",
              "        [-0.40816328, -1.9133081 ,  0.8254337 , ...,  0.        ,\n",
              "          0.        ,  0.        ],\n",
              "        [-0.40816328, -1.9133081 ,  0.8383433 , ...,  0.        ,\n",
              "          0.        ,  0.        ]],\n",
              "\n",
              "       [[-0.40816328, -1.9133081 ,  0.866862  , ...,  0.        ,\n",
              "          0.        ,  0.        ],\n",
              "        [-0.40816328, -1.9133081 ,  0.8904983 , ...,  0.        ,\n",
              "          0.        ,  0.        ],\n",
              "        [-0.40816328, -1.9133081 ,  0.8778806 , ...,  0.        ,\n",
              "          0.        ,  0.        ],\n",
              "        ...,\n",
              "        [-0.46938777, -1.8627752 ,  0.8661464 , ...,  0.        ,\n",
              "          0.        ,  0.        ],\n",
              "        [-0.46938777, -1.8627752 ,  0.8547056 , ...,  0.        ,\n",
              "          0.        ,  0.        ],\n",
              "        [-0.46938777, -1.8627752 ,  0.83662015, ...,  0.        ,\n",
              "          0.        ,  0.        ]],\n",
              "\n",
              "       ...,\n",
              "\n",
              "       [[ 0.75      ,  0.92926013,  1.7019675 , ..., -0.69772047,\n",
              "         -0.8509807 ,  0.7446292 ],\n",
              "        [ 0.75      ,  0.92926013,  1.9183391 , ..., -0.6538981 ,\n",
              "         -0.72612876,  0.7307436 ],\n",
              "        [ 0.75      ,  0.92926013,  2.101668  , ..., -0.61319137,\n",
              "         -0.60550815,  0.7120459 ],\n",
              "        ...,\n",
              "        [ 0.8       ,  0.92926013,  1.0346973 , ...,  0.6224654 ,\n",
              "          1.2226832 , -0.57987046],\n",
              "        [ 0.8       ,  0.92926013,  1.0216599 , ...,  0.62297636,\n",
              "          1.2253753 , -0.57836235],\n",
              "        [ 0.8       ,  0.92926013,  1.0708548 , ...,  0.62261796,\n",
              "          1.2269138 , -0.57626146]],\n",
              "\n",
              "       [[ 0.8       ,  0.92926013,  1.071421  , ...,  0.62344474,\n",
              "          1.2288476 , -0.57428026],\n",
              "        [ 0.8       ,  0.92926013,  1.0900855 , ...,  0.6231645 ,\n",
              "          1.2303861 , -0.57410675],\n",
              "        [ 0.8       ,  0.92926013,  1.0883021 , ...,  0.62583286,\n",
              "          1.2293435 , -0.57499254],\n",
              "        ...,\n",
              "        [ 0.75      ,  0.92926013, -0.29753384, ...,  0.34454706,\n",
              "          1.3614129 , -0.1355316 ],\n",
              "        [ 0.75      ,  0.92926013, -0.2818342 , ...,  0.34177926,\n",
              "          1.3621924 , -0.12685916],\n",
              "        [ 0.75      ,  0.92926013, -0.21302775, ...,  0.3417722 ,\n",
              "          1.3636302 , -0.11979671]],\n",
              "\n",
              "       [[ 0.75      ,  0.92926013, -0.15803334, ...,  0.34153807,\n",
              "          1.3632048 , -0.11273407],\n",
              "        [ 0.75      ,  0.92926013, -0.08070658, ...,  0.33874902,\n",
              "          1.3636199 , -0.10424714],\n",
              "        [ 0.75      ,  0.92926013, -0.0495302 , ...,  0.3346968 ,\n",
              "          1.3624253 , -0.09699311],\n",
              "        ...,\n",
              "        [ 0.75      ,  1.4698036 , -0.4760379 , ...,  1.7628253 ,\n",
              "          2.1793895 ,  1.413276  ],\n",
              "        [ 0.75      ,  1.4698036 , -0.5064804 , ...,  1.7613281 ,\n",
              "          2.1811302 ,  1.4215953 ],\n",
              "        [ 0.75      ,  1.4698036 , -0.53801155, ...,  1.7597005 ,\n",
              "          2.183155  ,  1.4319533 ]]], dtype=float32)"
            ]
          },
          "metadata": {},
          "execution_count": 8
        }
      ]
    },
    {
      "cell_type": "code",
      "source": [
        "assert set(ds.groups[tr_idx]) & set(ds.groups[te_idx]) == set()\n",
        "assert set(np.unique(ds.y[tr_idx])) == set(np.unique(ds.y))   # full coverage\n"
      ],
      "metadata": {
        "id": "cUbTMA6PI1pq"
      },
      "id": "cUbTMA6PI1pq",
      "execution_count": 9,
      "outputs": []
    },
    {
      "cell_type": "code",
      "source": [
        "# clean ram\n",
        "del ds\n",
        "gc.collect()"
      ],
      "metadata": {
        "colab": {
          "base_uri": "https://localhost:8080/"
        },
        "id": "D1sP9TLYI3J6",
        "outputId": "adf53bb4-2f0d-457d-ff8e-59c24f5f5d8a"
      },
      "id": "D1sP9TLYI3J6",
      "execution_count": 176,
      "outputs": [
        {
          "output_type": "execute_result",
          "data": {
            "text/plain": [
              "8"
            ]
          },
          "metadata": {},
          "execution_count": 176
        }
      ]
    },
    {
      "cell_type": "code",
      "execution_count": 10,
      "id": "a7c43a2d",
      "metadata": {
        "colab": {
          "base_uri": "https://localhost:8080/"
        },
        "id": "a7c43a2d",
        "outputId": "ea0c9faf-bde3-4461-fcb0-90bde59b114a"
      },
      "outputs": [
        {
          "output_type": "stream",
          "name": "stdout",
          "text": [
            "Epoch #0: loss=6.650600263050625\n",
            "Epoch #1: loss=3.3699443749019076\n",
            "Epoch #2: loss=2.9563294070107595\n",
            "Epoch #3: loss=2.67618043082101\n",
            "Epoch #4: loss=2.4165271759033202\n",
            "Epoch #5: loss=2.1342828171593804\n",
            "Epoch #6: loss=1.925367638042995\n",
            "Epoch #7: loss=1.741604130608695\n",
            "Epoch #8: loss=1.690030802999224\n",
            "Epoch #9: loss=1.5346286637442452\n",
            "Epoch #10: loss=1.4958811283111573\n",
            "Epoch #11: loss=1.4699169363294329\n",
            "Epoch #12: loss=1.394549867085048\n",
            "Epoch #13: loss=1.2651228359767368\n",
            "Epoch #14: loss=1.2098882232393537\n",
            "Epoch #15: loss=1.148821006502424\n",
            "Epoch #16: loss=1.1728482382638115\n",
            "Epoch #17: loss=1.0361576216561454\n",
            "Epoch #18: loss=1.0697606120790755\n",
            "Epoch #19: loss=1.0222064563206263\n"
          ]
        }
      ],
      "source": [
        "enc = TS2Vec(\n",
        "    input_dims=52,\n",
        "    output_dims=320,\n",
        "    device=device,\n",
        "    batch_size=256,   # hyper-params live in the constructor\n",
        "    lr=1e-3\n",
        ")\n",
        "\n",
        "enc.fit(train_windows, n_epochs=20, verbose=True)\n",
        "enc.save('ts2vec_backbone.pt')\n"
      ]
    },
    {
      "cell_type": "code",
      "source": [
        "# save the backbone for later use\n",
        "save_path = '/content/drive/MyDrive/FractalSSL_backup/models/ts2vec_backbone.pt'\n",
        "enc.save(save_path)\n"
      ],
      "metadata": {
        "id": "67ii11CG2E9z"
      },
      "id": "67ii11CG2E9z",
      "execution_count": 11,
      "outputs": []
    },
    {
      "cell_type": "code",
      "source": [
        "# load the backbone\n",
        "enc = TS2Vec(\n",
        "    input_dims=52,\n",
        "    output_dims=320,\n",
        "    device=device,\n",
        "    batch_size=256,\n",
        "    lr=1e-3\n",
        ")\n",
        "enc.load('/content/drive/MyDrive/FractalSSL_backup/models/ts2vec_backbone.pt')"
      ],
      "metadata": {
        "colab": {
          "base_uri": "https://localhost:8080/"
        },
        "id": "yp_kEhOz1Vjg",
        "outputId": "c7f92c4a-84c2-41fd-9b91-4e3715246223"
      },
      "id": "yp_kEhOz1Vjg",
      "execution_count": 12,
      "outputs": [
        {
          "output_type": "stream",
          "name": "stderr",
          "text": [
            "/usr/local/lib/python3.11/dist-packages/ts2vec/ts2vec.py:317: FutureWarning: You are using `torch.load` with `weights_only=False` (the current default value), which uses the default pickle module implicitly. It is possible to construct malicious pickle data which will execute arbitrary code during unpickling (See https://github.com/pytorch/pytorch/blob/main/SECURITY.md#untrusted-models for more details). In a future release, the default value for `weights_only` will be flipped to `True`. This limits the functions that could be executed during unpickling. Arbitrary objects will no longer be allowed to be loaded via this mode unless they are explicitly allowlisted by the user via `torch.serialization.add_safe_globals`. We recommend you start setting `weights_only=True` for any use case where you don't have full control of the loaded file. Please open an issue on GitHub for any issues related to this experimental feature.\n",
            "  state_dict = torch.load(fn, map_location=self.device)\n"
          ]
        }
      ]
    },
    {
      "cell_type": "code",
      "source": [
        "# one dataset serves SSL & probe\n",
        "full_ds = PAMAP2Windows(with_labels=True)          # uses CACHE_ROOT\n",
        "print(\"All windows :\", len(full_ds), full_ds.X.shape)   # (N,256,C) float32\n"
      ],
      "metadata": {
        "colab": {
          "base_uri": "https://localhost:8080/"
        },
        "id": "gKQ7cCOVDeT0",
        "outputId": "2dcd1176-3393-4c4c-d5d0-b089870d7cba"
      },
      "id": "gKQ7cCOVDeT0",
      "execution_count": 13,
      "outputs": [
        {
          "output_type": "stream",
          "name": "stdout",
          "text": [
            "All windows : 11216 (11216, 256, 52)\n"
          ]
        }
      ]
    },
    {
      "cell_type": "code",
      "source": [
        "train_idx = np.load(save_path_train)               # from the GroupShuffleSplit step\n",
        "test_idx  = np.load(save_path_test)\n",
        "\n",
        "X_tr, y_tr = full_ds.X[train_idx], full_ds.y[train_idx]\n",
        "X_te, y_te = full_ds.X[test_idx],  full_ds.y[test_idx]\n"
      ],
      "metadata": {
        "id": "oXiVNGy6DgvU"
      },
      "id": "oXiVNGy6DgvU",
      "execution_count": 14,
      "outputs": []
    },
    {
      "cell_type": "code",
      "source": [
        "with torch.no_grad():\n",
        "\n",
        "    feats_tr = enc.encode(X_tr.astype(np.float32))    # (Ntrain, 256, D)\n",
        "    Z_tr  = feats_tr[:, -1, :]                        # take last timestep\n",
        "    feats_ts = enc.encode(X_te.astype(np.float32))\n",
        "    Z_te  = feats_ts[:, -1, :]\n"
      ],
      "metadata": {
        "id": "i11v5RxsDjmq"
      },
      "id": "i11v5RxsDjmq",
      "execution_count": 15,
      "outputs": []
    },
    {
      "cell_type": "code",
      "execution_count": 16,
      "id": "d5c1783b",
      "metadata": {
        "colab": {
          "base_uri": "https://localhost:8080/"
        },
        "id": "d5c1783b",
        "outputId": "0b9af9ba-7564-4bf1-aeca-15da1eb085c1"
      },
      "outputs": [
        {
          "output_type": "stream",
          "name": "stderr",
          "text": [
            "/usr/local/lib/python3.11/dist-packages/sklearn/linear_model/_logistic.py:1247: FutureWarning: 'multi_class' was deprecated in version 1.5 and will be removed in 1.7. From then on, it will always use 'multinomial'. Leave it to its default value to avoid this warning.\n",
            "  warnings.warn(\n"
          ]
        },
        {
          "output_type": "stream",
          "name": "stdout",
          "text": [
            "              precision    recall  f1-score   support\n",
            "\n",
            "           0      0.661     0.620     0.640       623\n",
            "           1      1.000     0.930     0.964       186\n",
            "           2      0.630     0.925     0.749       160\n",
            "           3      0.823     0.750     0.785       180\n",
            "           4      0.812     0.722     0.765       245\n",
            "           5      0.412     0.538     0.467        13\n",
            "           6      0.920     0.910     0.915        89\n",
            "           7      0.381     0.571     0.457       112\n",
            "          12      0.557     0.536     0.546       110\n",
            "          13      0.667     0.519     0.584       104\n",
            "          16      0.839     0.736     0.784       163\n",
            "          17      0.874     0.858     0.866       226\n",
            "          24      0.000     0.000     0.000         0\n",
            "\n",
            "    accuracy                          0.723      2211\n",
            "   macro avg      0.660     0.663     0.656      2211\n",
            "weighted avg      0.742     0.723     0.728      2211\n",
            "\n"
          ]
        },
        {
          "output_type": "stream",
          "name": "stderr",
          "text": [
            "/usr/local/lib/python3.11/dist-packages/sklearn/metrics/_classification.py:1565: UndefinedMetricWarning: Recall is ill-defined and being set to 0.0 in labels with no true samples. Use `zero_division` parameter to control this behavior.\n",
            "  _warn_prf(average, modifier, f\"{metric.capitalize()} is\", len(result))\n",
            "/usr/local/lib/python3.11/dist-packages/sklearn/metrics/_classification.py:1565: UndefinedMetricWarning: Recall is ill-defined and being set to 0.0 in labels with no true samples. Use `zero_division` parameter to control this behavior.\n",
            "  _warn_prf(average, modifier, f\"{metric.capitalize()} is\", len(result))\n",
            "/usr/local/lib/python3.11/dist-packages/sklearn/metrics/_classification.py:1565: UndefinedMetricWarning: Recall is ill-defined and being set to 0.0 in labels with no true samples. Use `zero_division` parameter to control this behavior.\n",
            "  _warn_prf(average, modifier, f\"{metric.capitalize()} is\", len(result))\n"
          ]
        }
      ],
      "source": [
        "from sklearn.model_selection import train_test_split\n",
        "from sklearn.linear_model import LogisticRegression\n",
        "from sklearn.metrics import classification_report, confusion_matrix\n",
        "\n",
        "\n",
        "clf = LogisticRegression(\n",
        "    max_iter=500, multi_class='multinomial', solver='lbfgs'\n",
        ")\n",
        "clf.fit(Z_tr, y_tr)\n",
        "\n",
        "pred = clf.predict(Z_te)\n",
        "print(classification_report(y_te, pred, digits=3))\n"
      ]
    },
    {
      "cell_type": "code",
      "execution_count": 17,
      "id": "4213f72e",
      "metadata": {
        "colab": {
          "base_uri": "https://localhost:8080/",
          "height": 564
        },
        "id": "4213f72e",
        "outputId": "78200e29-8a1a-417b-9bd3-e0fb263f89b9"
      },
      "outputs": [
        {
          "output_type": "display_data",
          "data": {
            "text/plain": [
              "<Figure size 800x600 with 2 Axes>"
            ],
            "image/png": "[encoded data removed]"
          },
          "metadata": {}
        }
      ],
      "source": [
        "import seaborn as sns, matplotlib.pyplot as plt\n",
        "cm = confusion_matrix(y_te, pred)\n",
        "plt.figure(figsize=(8,6))\n",
        "sns.heatmap(cm, annot=True, fmt='d', cmap='Blues')\n",
        "plt.xlabel('Predicted'); plt.ylabel('True'); plt.title('PAMAP2 – TS2Vec linear probe')\n",
        "plt.show()\n"
      ]
    },
    {
      "cell_type": "code",
      "source": [],
      "metadata": {
        "id": "MRQ_FPYjGvLX"
      },
      "id": "MRQ_FPYjGvLX",
      "execution_count": null,
      "outputs": []
    },
    {
      "cell_type": "code",
      "source": [
        "classes = np.unique(y_tr)\n",
        "classes"
      ],
      "metadata": {
        "colab": {
          "base_uri": "https://localhost:8080/"
        },
        "id": "cdsVqIwJGuIa",
        "outputId": "fe34fc22-8c4c-4927-e30c-8c5d5823735b"
      },
      "id": "cdsVqIwJGuIa",
      "execution_count": 18,
      "outputs": [
        {
          "output_type": "execute_result",
          "data": {
            "text/plain": [
              "array([ 0,  1,  2,  3,  4,  5,  6,  7, 12, 13, 16, 17, 24])"
            ]
          },
          "metadata": {},
          "execution_count": 18
        }
      ]
    },
    {
      "cell_type": "markdown",
      "id": "c18463cc",
      "metadata": {
        "id": "c18463cc"
      },
      "source": [
        "## 3  Fractal‑SSL fine‑tuning"
      ]
    },
    {
      "cell_type": "code",
      "execution_count": 19,
      "id": "d14e8641",
      "metadata": {
        "colab": {
          "base_uri": "https://localhost:8080/"
        },
        "id": "d14e8641",
        "outputId": "a5ac66dc-65c6-4a1a-9155-0491c39437aa"
      },
      "outputs": [
        {
          "output_type": "stream",
          "name": "stdout",
          "text": [
            "[torch.Size([256, 52]), torch.Size([128, 52]), torch.Size([64, 52]), torch.Size([32, 52])]\n"
          ]
        }
      ],
      "source": [
        "class FractalViewGenerator:\n",
        "    \"\"\"Produces recursively smaller crops of the same window.\"\"\"\n",
        "    def __init__(self, levels=4):\n",
        "        self.levels = levels\n",
        "    def __call__(self, ts):\n",
        "        L = ts.shape[0]\n",
        "        views = []\n",
        "        for i in range(self.levels):\n",
        "            frac = 1 / (2 ** i)\n",
        "            win = int(L * frac)\n",
        "            start = random.randint(0, L - win)\n",
        "            views.append(ts[start:start+win])\n",
        "        return views\n",
        "gen = FractalViewGenerator(levels=4)\n",
        "\n",
        "ts = torch.from_numpy(X_tr[0])     # one window, shape (L, C)\n",
        "views = gen(ts)                          # list of 4 tensors\n",
        "\n",
        "print([v.shape for v in views])\n"
      ]
    },
    {
      "cell_type": "code",
      "source": [
        "def nt_xent(reps: torch.Tensor, batch_size: int, n_views: int, T: float) -> torch.Tensor:\n",
        "    \"\"\"\n",
        "    reps      : (B * n_views, D) ℓ2-normalised\n",
        "    returns   : scalar loss\n",
        "    \"\"\"\n",
        "    N   = reps.size(0)\n",
        "    sim = reps @ reps.T / T                       # cosine sim over temperature\n",
        "\n",
        "    # zero out self-similarities (i == j)\n",
        "    sim.fill_diagonal_(-1e4)\n",
        "\n",
        "    # positive index: for each view i, its twin is (i ± 1) within the same sample\n",
        "    view_idx   = torch.arange(N, device=reps.device)\n",
        "    pos_index  = view_idx ^ 1                     # flips last bit: 0↔1, 2↔3, …\n",
        "    loss       = torch.nn.functional.cross_entropy(sim, pos_index)\n",
        "\n",
        "    return loss\n"
      ],
      "metadata": {
        "id": "FeroXxclCjNM"
      },
      "id": "FeroXxclCjNM",
      "execution_count": 20,
      "outputs": []
    },
    {
      "cell_type": "code",
      "execution_count": 21,
      "id": "c3fbc5a3",
      "metadata": {
        "id": "c3fbc5a3"
      },
      "outputs": [],
      "source": [
        "import torch, random, numpy as np\n",
        "from typing import List, Tuple\n",
        "\n",
        "class FractalViewGenerator:\n",
        "    def __init__(self, levels: int = 4):\n",
        "        self.levels = levels\n",
        "    def __call__(self, ts: torch.Tensor) -> Tuple[List[torch.Tensor], List[int]]:\n",
        "        L, views, lens = ts.size(0), [], []\n",
        "        for i in range(self.levels):\n",
        "            win   = int(L / 2 ** i)\n",
        "            start = random.randint(0, L - win)\n",
        "            crop  = ts[start:start + win]\n",
        "            views.append(crop)\n",
        "            lens.append(win)\n",
        "        return views, lens\n",
        "\n",
        "class FractalSSL(torch.nn.Module):\n",
        "    def __init__(self, backbone, proj_dim=128, levels=4,\n",
        "                 temperature=0.1, freeze_backbone=True):\n",
        "        super().__init__()\n",
        "        self.backbone, self.levels, self.temperature = backbone, levels, temperature\n",
        "        self.view_gen = FractalViewGenerator(levels)\n",
        "\n",
        "        # ---- determine channels & device from first param -------------------\n",
        "        first_w  = next(backbone.net.parameters()) if hasattr(backbone, \"net\") \\\n",
        "                   else next(backbone.parameters())\n",
        "        self._in_channels = first_w.shape[1] if first_w.ndim >= 2 else first_w.shape[0]\n",
        "\n",
        "        # ---- optional freezing ---------------------------------------------\n",
        "        if freeze_backbone and hasattr(backbone, \"net\"):\n",
        "            for p in backbone.net.parameters():\n",
        "                p.requires_grad = False\n",
        "\n",
        "        # ---- infer latent dimension ----------------------------------------\n",
        "        with torch.no_grad():\n",
        "            dummy = np.zeros((1, 8, self._in_channels), dtype='float32')\n",
        "            latent_dim = backbone.encode(dummy).shape[-1]\n",
        "\n",
        "        self.proj = torch.nn.Sequential(\n",
        "            torch.nn.Linear(latent_dim, proj_dim),\n",
        "            torch.nn.ReLU(inplace=True),\n",
        "            torch.nn.Linear(proj_dim, proj_dim)\n",
        "        )\n",
        "\n",
        "    # ---------- tiny helper so we never forget the NumPy conversion ----------\n",
        "    def _ts2vec_encode(self, x: torch.Tensor) -> torch.Tensor:\n",
        "      \"\"\"\n",
        "      Wrap TS2Vec.encode(): accepts (N,L,C) tensor, returns tensor on same device\n",
        "      no matter whether the fork outputs NumPy or PyTorch.\n",
        "      \"\"\"\n",
        "      dev   = x.device\n",
        "      out   = self.backbone.encode(x.detach().cpu().numpy())  # NumPy in → ??? out\n",
        "      feats = torch.as_tensor(out, device=dev, dtype=torch.float32)  # <── FIX\n",
        "      return feats\n",
        "\n",
        "    # ------------------------------------------------------------------------\n",
        "    def forward(self, ts_batch: torch.Tensor) -> torch.Tensor:\n",
        "        device, views, lens = ts_batch.device, [], []\n",
        "        for ts in ts_batch:\n",
        "            sub, ln = self.view_gen(ts)\n",
        "            views += [v.to(device) for v in sub]\n",
        "            lens  += ln\n",
        "\n",
        "        padded = torch.nn.utils.rnn.pad_sequence(views, batch_first=True)\n",
        "        mask   = (torch.arange(padded.size(1), device=device)[None, :]\n",
        "                 < torch.tensor(lens, device=device)[:, None])\n",
        "\n",
        "        emb = self._ts2vec_encode(padded)          # (N,T,D) on same device\n",
        "        emb = (emb * mask.unsqueeze(-1)).sum(1) / mask.sum(1, keepdim=True)\n",
        "\n",
        "        proj = torch.nn.functional.normalize(self.proj(emb), dim=-1)\n",
        "        return proj\n",
        "\n"
      ]
    },
    {
      "cell_type": "code",
      "source": [
        "N_VIEWS      = 4          # full-length + ½-length crops to start with\n",
        "PROJ_DIM     = 128\n",
        "TEMP         = 0.05\n",
        "\n",
        "model = FractalSSL(\n",
        "    enc,\n",
        "    levels=N_VIEWS,       # ← how many views per sample\n",
        "    proj_dim=PROJ_DIM,\n",
        "    temperature=TEMP,\n",
        "    freeze_backbone=False   # let the encoder learn\n",
        ").to(device)\n",
        "\n",
        "# two LR buckets: tiny for encoder, normal for projector\n",
        "opt = torch.optim.AdamW(\n",
        "    [\n",
        "        {'params': model.backbone.net.parameters(), 'lr': 1e-4},\n",
        "        {'params': model.proj.parameters(),         'lr': 1e-3},\n",
        "    ],\n",
        "    weight_decay=1e-4\n",
        ")\n"
      ],
      "metadata": {
        "id": "nFvtmeacDDLO"
      },
      "id": "nFvtmeacDDLO",
      "execution_count": 22,
      "outputs": []
    },
    {
      "cell_type": "code",
      "source": [
        "BATCH_SIZE = 64      #\n",
        "N_STEPS    = 1000   # train longer than 100 iterations\n",
        "\n",
        "for step in range(1, N_STEPS + 1):\n",
        "    # ---- draw a random batch of raw windows -------------------------------\n",
        "    idx = random.sample(range(len(train_windows)), BATCH_SIZE)\n",
        "    batch_ts = torch.stack(\n",
        "        [torch.from_numpy(train_windows[i]) for i in idx]\n",
        "    ).to(device)                              # shape (B,L,C)\n",
        "\n",
        "    # ---- forward & loss ----------------------------------------------------\n",
        "    reps  = model(batch_ts)                   # (B * n_views, D)\n",
        "    loss  = nt_xent(reps, BATCH_SIZE, N_VIEWS, TEMP)\n",
        "\n",
        "    # ---- optimisation ------------------------------------------------------\n",
        "    opt.zero_grad()\n",
        "    loss.backward()\n",
        "    opt.step()\n",
        "\n",
        "    # ---- monitoring --------------------------------------------------------\n",
        "    if step % 50 == 0:\n",
        "        print(f\"step {step:4} | NT-Xent loss = {loss.item():.4f}\")\n"
      ],
      "metadata": {
        "colab": {
          "base_uri": "https://localhost:8080/"
        },
        "id": "LzEYtVXdDGm_",
        "outputId": "c6911cb9-cf94-4124-8d32-b953134e4a01"
      },
      "id": "LzEYtVXdDGm_",
      "execution_count": 23,
      "outputs": [
        {
          "output_type": "stream",
          "name": "stdout",
          "text": [
            "step   50 | NT-Xent loss = 1.2254\n",
            "step  100 | NT-Xent loss = 0.9294\n",
            "step  150 | NT-Xent loss = 0.7049\n",
            "step  200 | NT-Xent loss = 0.7149\n",
            "step  250 | NT-Xent loss = 0.4180\n",
            "step  300 | NT-Xent loss = 0.8082\n",
            "step  350 | NT-Xent loss = 0.6103\n",
            "step  400 | NT-Xent loss = 0.3134\n",
            "step  450 | NT-Xent loss = 0.3489\n",
            "step  500 | NT-Xent loss = 0.3380\n",
            "step  550 | NT-Xent loss = 0.4319\n",
            "step  600 | NT-Xent loss = 0.4164\n",
            "step  650 | NT-Xent loss = 0.6830\n",
            "step  700 | NT-Xent loss = 0.4427\n",
            "step  750 | NT-Xent loss = 0.4822\n",
            "step  800 | NT-Xent loss = 0.6374\n",
            "step  850 | NT-Xent loss = 0.3588\n",
            "step  900 | NT-Xent loss = 0.3702\n",
            "step  950 | NT-Xent loss = 0.3050\n",
            "step 1000 | NT-Xent loss = 0.3938\n"
          ]
        }
      ]
    },
    {
      "cell_type": "code",
      "source": [
        "torch.save(model.state_dict(), '/content/drive/MyDrive/FractalSSL_backup/models/fractal_ts2vec.pt')\n",
        "print('Saved to fractal_ts2vec.pt')"
      ],
      "metadata": {
        "colab": {
          "base_uri": "https://localhost:8080/"
        },
        "id": "CXb7TH9LFPsg",
        "outputId": "5b4212ca-12ab-4703-bca0-2f2cda615d1d"
      },
      "id": "CXb7TH9LFPsg",
      "execution_count": 24,
      "outputs": [
        {
          "output_type": "stream",
          "name": "stdout",
          "text": [
            "Saved to fractal_ts2vec.pt\n"
          ]
        }
      ]
    },
    {
      "cell_type": "code",
      "execution_count": 25,
      "id": "2f6ed404",
      "metadata": {
        "colab": {
          "base_uri": "https://localhost:8080/"
        },
        "id": "2f6ed404",
        "outputId": "104a514b-79e9-46cc-d177-91c906bba426"
      },
      "outputs": [
        {
          "output_type": "stream",
          "name": "stdout",
          "text": [
            "embeddings train: (9005, 320)\n",
            "embeddings test: (2211, 320)\n"
          ]
        }
      ],
      "source": [
        "\n",
        "model.eval()\n",
        "\n",
        "def embed_windows(model, windows_np, batch_size=256):\n",
        "    \"\"\"Return a (N, D) NumPy array of pooled embeddings.\"\"\"\n",
        "    out = []\n",
        "    with torch.no_grad():\n",
        "        for i in range(0, len(windows_np), batch_size):\n",
        "            chunk = torch.from_numpy(windows_np[i:i+batch_size]).to(device)\n",
        "            z     = model._ts2vec_encode(chunk)      # (B, T, D)\n",
        "            z     = z.mean(1)                        # mean-pool over time\n",
        "            out.append(z.cpu())\n",
        "    return torch.cat(out).numpy()\n",
        "\n",
        "emb_train = embed_windows(model, X_tr.astype(np.float32))# (N,D)\n",
        "emb_test = embed_windows(model, X_te.astype(np.float32))\n",
        "\n",
        "print(\"embeddings train:\", emb_train.shape)\n",
        "print(\"embeddings test:\", emb_test.shape)\n",
        "\n"
      ]
    },
    {
      "cell_type": "code",
      "execution_count": 26,
      "id": "1a85cf15",
      "metadata": {
        "colab": {
          "base_uri": "https://localhost:8080/"
        },
        "id": "1a85cf15",
        "outputId": "f4eb8d1e-0a98-426e-98a6-b83137019f35"
      },
      "outputs": [
        {
          "output_type": "stream",
          "name": "stderr",
          "text": [
            "/usr/local/lib/python3.11/dist-packages/sklearn/linear_model/_logistic.py:1247: FutureWarning: 'multi_class' was deprecated in version 1.5 and will be removed in 1.7. From then on, it will always use 'multinomial'. Leave it to its default value to avoid this warning.\n",
            "  warnings.warn(\n"
          ]
        },
        {
          "output_type": "stream",
          "name": "stdout",
          "text": [
            "              precision    recall  f1-score   support\n",
            "\n",
            "           0      0.729     0.698     0.713       623\n",
            "           1      1.000     0.952     0.975       186\n",
            "           2      0.652     0.900     0.756       160\n",
            "           3      0.862     0.833     0.847       180\n",
            "           4      0.875     0.886     0.880       245\n",
            "           5      0.833     0.769     0.800        13\n",
            "           6      0.892     0.933     0.912        89\n",
            "           7      0.711     0.616     0.660       112\n",
            "          12      0.713     0.745     0.729       110\n",
            "          13      0.740     0.712     0.725       104\n",
            "          16      0.901     0.779     0.836       163\n",
            "          17      0.872     0.876     0.874       226\n",
            "          24      0.000     0.000     0.000         0\n",
            "\n",
            "    accuracy                          0.799      2211\n",
            "   macro avg      0.752     0.746     0.747      2211\n",
            "weighted avg      0.806     0.799     0.800      2211\n",
            "\n"
          ]
        },
        {
          "output_type": "stream",
          "name": "stderr",
          "text": [
            "/usr/local/lib/python3.11/dist-packages/sklearn/metrics/_classification.py:1565: UndefinedMetricWarning: Recall is ill-defined and being set to 0.0 in labels with no true samples. Use `zero_division` parameter to control this behavior.\n",
            "  _warn_prf(average, modifier, f\"{metric.capitalize()} is\", len(result))\n",
            "/usr/local/lib/python3.11/dist-packages/sklearn/metrics/_classification.py:1565: UndefinedMetricWarning: Recall is ill-defined and being set to 0.0 in labels with no true samples. Use `zero_division` parameter to control this behavior.\n",
            "  _warn_prf(average, modifier, f\"{metric.capitalize()} is\", len(result))\n",
            "/usr/local/lib/python3.11/dist-packages/sklearn/metrics/_classification.py:1565: UndefinedMetricWarning: Recall is ill-defined and being set to 0.0 in labels with no true samples. Use `zero_division` parameter to control this behavior.\n",
            "  _warn_prf(average, modifier, f\"{metric.capitalize()} is\", len(result))\n"
          ]
        }
      ],
      "source": [
        "\n",
        "\n",
        "\n",
        "\n",
        "# 2) train/test split + linear probe\n",
        "from sklearn.model_selection import train_test_split\n",
        "from sklearn.linear_model import LogisticRegression\n",
        "from sklearn.metrics import classification_report, confusion_matrix\n",
        "\n",
        "\n",
        "clf = LogisticRegression(\n",
        "    max_iter=500, multi_class='multinomial', solver='lbfgs'\n",
        ")\n",
        "clf.fit(emb_train, y_tr)\n",
        "\n",
        "print(classification_report(y_te, clf.predict(emb_test), digits=3))\n"
      ]
    },
    {
      "cell_type": "code",
      "source": [
        "import seaborn as sns, matplotlib.pyplot as plt\n",
        "cm = confusion_matrix(y_te, clf.predict(emb_test))\n",
        "plt.figure(figsize=(8,6))\n",
        "sns.heatmap(cm, annot=True, fmt='d', cmap='Blues')\n",
        "plt.xlabel('Predicted'); plt.ylabel('True'); plt.title('PAMAP2 – TS2Vec linear probe')\n",
        "plt.show()\n"
      ],
      "metadata": {
        "colab": {
          "base_uri": "https://localhost:8080/",
          "height": 564
        },
        "id": "fQ--Yn5zJqk2",
        "outputId": "0cd4f7b8-8674-41aa-d949-ad27f4064879"
      },
      "id": "fQ--Yn5zJqk2",
      "execution_count": 27,
      "outputs": [
        {
          "output_type": "display_data",
          "data": {
            "text/plain": [
              "<Figure size 800x600 with 2 Axes>"
            ],
            "image/png": "[encoded data removed]"
          },
          "metadata": {}
        }
      ]
    },
    {
      "cell_type": "code",
      "source": [
        "# try with frozen encoder\n",
        "N_VIEWS      = 4          # full-length + ½-length crops to start with\n",
        "PROJ_DIM     = 128\n",
        "TEMP         = 0.05\n",
        "\n",
        "model = FractalSSL(\n",
        "    enc,\n",
        "    levels=N_VIEWS,       # ← how many views per sample\n",
        "    proj_dim=PROJ_DIM,\n",
        "    temperature=TEMP,\n",
        "    freeze_backbone=True   # let the encoder learn\n",
        ").to(device)\n",
        "\n",
        "# two LR buckets: tiny for encoder, normal for projector\n",
        "opt = torch.optim.AdamW(\n",
        "    [\n",
        "        {'params': model.backbone.net.parameters(), 'lr': 1e-4},\n",
        "        {'params': model.proj.parameters(),         'lr': 1e-3},\n",
        "    ],\n",
        "    weight_decay=1e-4\n",
        ")\n",
        "BATCH_SIZE = 64      #\n",
        "N_STEPS    = 1000   # train longer than 100 iterations\n",
        "\n",
        "for step in range(1, N_STEPS + 1):\n",
        "    # ---- draw a random batch of raw windows -------------------------------\n",
        "    idx = random.sample(range(len(train_windows)), BATCH_SIZE)\n",
        "    batch_ts = torch.stack(\n",
        "        [torch.from_numpy(train_windows[i]) for i in idx]\n",
        "    ).to(device)                              # shape (B,L,C)\n",
        "\n",
        "    # ---- forward & loss ----------------------------------------------------\n",
        "    reps  = model(batch_ts)                   # (B * n_views, D)\n",
        "    loss  = nt_xent(reps, BATCH_SIZE, N_VIEWS, TEMP)\n",
        "\n",
        "    # ---- optimisation ------------------------------------------------------\n",
        "    opt.zero_grad()\n",
        "    loss.backward()\n",
        "    opt.step()\n",
        "\n",
        "    # ---- monitoring --------------------------------------------------------\n",
        "    if step % 50 == 0:\n",
        "        print(f\"step {step:4} | NT-Xent loss = {loss.item():.4f}\")\n",
        "\n",
        "model.eval()\n",
        "\n",
        "def embed_windows(model, windows_np, batch_size=256):\n",
        "    \"\"\"Return a (N, D) NumPy array of pooled embeddings.\"\"\"\n",
        "    out = []\n",
        "    with torch.no_grad():\n",
        "        for i in range(0, len(windows_np), batch_size):\n",
        "            chunk = torch.from_numpy(windows_np[i:i+batch_size]).to(device)\n",
        "            z     = model._ts2vec_encode(chunk)      # (B, T, D)\n",
        "            z     = z.mean(1)                        # mean-pool over time\n",
        "            out.append(z.cpu())\n",
        "    return torch.cat(out).numpy()\n",
        "\n",
        "emb_train = embed_windows(model, X_tr.astype(np.float32))# (N,D)\n",
        "emb_test = embed_windows(model, X_te.astype(np.float32))\n",
        "\n",
        "print(\"embeddings train:\", emb_train.shape)\n",
        "print(\"embeddings test:\", emb_test.shape)\n",
        "\n",
        "\n",
        "\n",
        "# 2) train/test split + linear probe\n",
        "from sklearn.model_selection import train_test_split\n",
        "from sklearn.linear_model import LogisticRegression\n",
        "from sklearn.metrics import classification_report, confusion_matrix\n",
        "\n",
        "\n",
        "clf = LogisticRegression(\n",
        "    max_iter=500, multi_class='multinomial', solver='lbfgs'\n",
        ")\n",
        "clf.fit(emb_train, y_tr)\n",
        "\n",
        "print(classification_report(y_te, clf.predict(emb_test), digits=3))\n",
        "\n",
        "import seaborn as sns, matplotlib.pyplot as plt\n",
        "cm = confusion_matrix(y_te, clf.predict(emb_test))\n",
        "plt.figure(figsize=(8,6))\n",
        "sns.heatmap(cm, annot=True, fmt='d', cmap='Blues')\n",
        "plt.xlabel('Predicted'); plt.ylabel('True'); plt.title('PAMAP2 – TS2Vec linear probe')\n",
        "plt.show()\n"
      ],
      "metadata": {
        "colab": {
          "base_uri": "https://localhost:8080/",
          "height": 1000
        },
        "id": "uOxk-oLj0xN2",
        "outputId": "0b4dd277-4e89-4a90-ffbd-66516dc46d2a"
      },
      "id": "uOxk-oLj0xN2",
      "execution_count": 28,
      "outputs": [
        {
          "output_type": "stream",
          "name": "stdout",
          "text": [
            "step   50 | NT-Xent loss = 0.8814\n",
            "step  100 | NT-Xent loss = 0.6858\n",
            "step  150 | NT-Xent loss = 0.6342\n",
            "step  200 | NT-Xent loss = 0.6550\n",
            "step  250 | NT-Xent loss = 0.5805\n",
            "step  300 | NT-Xent loss = 0.5167\n",
            "step  350 | NT-Xent loss = 0.4905\n",
            "step  400 | NT-Xent loss = 0.3052\n",
            "step  450 | NT-Xent loss = 0.3315\n",
            "step  500 | NT-Xent loss = 0.4659\n",
            "step  550 | NT-Xent loss = 0.3794\n",
            "step  600 | NT-Xent loss = 0.4604\n",
            "step  650 | NT-Xent loss = 0.3489\n",
            "step  700 | NT-Xent loss = 0.2285\n",
            "step  750 | NT-Xent loss = 0.5884\n",
            "step  800 | NT-Xent loss = 0.4133\n",
            "step  850 | NT-Xent loss = 0.3077\n",
            "step  900 | NT-Xent loss = 0.3933\n",
            "step  950 | NT-Xent loss = 0.3316\n",
            "step 1000 | NT-Xent loss = 0.2836\n",
            "embeddings train: (9005, 320)\n",
            "embeddings test: (2211, 320)\n"
          ]
        },
        {
          "output_type": "stream",
          "name": "stderr",
          "text": [
            "/usr/local/lib/python3.11/dist-packages/sklearn/linear_model/_logistic.py:1247: FutureWarning: 'multi_class' was deprecated in version 1.5 and will be removed in 1.7. From then on, it will always use 'multinomial'. Leave it to its default value to avoid this warning.\n",
            "  warnings.warn(\n",
            "/usr/local/lib/python3.11/dist-packages/sklearn/metrics/_classification.py:1565: UndefinedMetricWarning: Recall is ill-defined and being set to 0.0 in labels with no true samples. Use `zero_division` parameter to control this behavior.\n",
            "  _warn_prf(average, modifier, f\"{metric.capitalize()} is\", len(result))\n",
            "/usr/local/lib/python3.11/dist-packages/sklearn/metrics/_classification.py:1565: UndefinedMetricWarning: Recall is ill-defined and being set to 0.0 in labels with no true samples. Use `zero_division` parameter to control this behavior.\n",
            "  _warn_prf(average, modifier, f\"{metric.capitalize()} is\", len(result))\n",
            "/usr/local/lib/python3.11/dist-packages/sklearn/metrics/_classification.py:1565: UndefinedMetricWarning: Recall is ill-defined and being set to 0.0 in labels with no true samples. Use `zero_division` parameter to control this behavior.\n",
            "  _warn_prf(average, modifier, f\"{metric.capitalize()} is\", len(result))\n"
          ]
        },
        {
          "output_type": "stream",
          "name": "stdout",
          "text": [
            "              precision    recall  f1-score   support\n",
            "\n",
            "           0      0.729     0.698     0.713       623\n",
            "           1      1.000     0.952     0.975       186\n",
            "           2      0.652     0.900     0.756       160\n",
            "           3      0.862     0.833     0.847       180\n",
            "           4      0.875     0.886     0.880       245\n",
            "           5      0.833     0.769     0.800        13\n",
            "           6      0.892     0.933     0.912        89\n",
            "           7      0.711     0.616     0.660       112\n",
            "          12      0.713     0.745     0.729       110\n",
            "          13      0.740     0.712     0.725       104\n",
            "          16      0.901     0.779     0.836       163\n",
            "          17      0.872     0.876     0.874       226\n",
            "          24      0.000     0.000     0.000         0\n",
            "\n",
            "    accuracy                          0.799      2211\n",
            "   macro avg      0.752     0.746     0.747      2211\n",
            "weighted avg      0.806     0.799     0.800      2211\n",
            "\n"
          ]
        },
        {
          "output_type": "display_data",
          "data": {
            "text/plain": [
              "<Figure size 800x600 with 2 Axes>"
            ],
            "image/png": "[encoded data removed]"
          },
          "metadata": {}
        }
      ]
    },
    {
      "cell_type": "code",
      "source": [
        "# try with frozen encoder\n",
        "N_VIEWS      = 3          # full-length + ½-length crops to start with\n",
        "PROJ_DIM     = 128\n",
        "TEMP         = 0.05\n",
        "\n",
        "model = FractalSSL(\n",
        "    enc,\n",
        "    levels=N_VIEWS,       # ← how many views per sample\n",
        "    proj_dim=PROJ_DIM,\n",
        "    temperature=TEMP,\n",
        "    freeze_backbone=False   # let the encoder learn\n",
        ").to(device)\n",
        "\n",
        "# two LR buckets: tiny for encoder, normal for projector\n",
        "opt = torch.optim.AdamW(\n",
        "    [\n",
        "        {'params': model.backbone.net.parameters(), 'lr': 1e-4},\n",
        "        {'params': model.proj.parameters(),         'lr': 1e-3},\n",
        "    ],\n",
        "    weight_decay=1e-4\n",
        ")\n",
        "BATCH_SIZE = 64      #\n",
        "N_STEPS    = 1000   # train longer than 100 iterations\n",
        "\n",
        "for step in range(1, N_STEPS + 1):\n",
        "    # ---- draw a random batch of raw windows -------------------------------\n",
        "    idx = random.sample(range(len(train_windows)), BATCH_SIZE)\n",
        "    batch_ts = torch.stack(\n",
        "        [torch.from_numpy(train_windows[i]) for i in idx]\n",
        "    ).to(device)                              # shape (B,L,C)\n",
        "\n",
        "    # ---- forward & loss ----------------------------------------------------\n",
        "    reps  = model(batch_ts)                   # (B * n_views, D)\n",
        "    loss  = nt_xent(reps, BATCH_SIZE, N_VIEWS, TEMP)\n",
        "\n",
        "    # ---- optimisation ------------------------------------------------------\n",
        "    opt.zero_grad()\n",
        "    loss.backward()\n",
        "    opt.step()\n",
        "\n",
        "    # ---- monitoring --------------------------------------------------------\n",
        "    if step % 50 == 0:\n",
        "        print(f\"step {step:4} | NT-Xent loss = {loss.item():.4f}\")\n",
        "\n",
        "model.eval()\n",
        "\n",
        "def embed_windows(model, windows_np, batch_size=256):\n",
        "    \"\"\"Return a (N, D) NumPy array of pooled embeddings.\"\"\"\n",
        "    out = []\n",
        "    with torch.no_grad():\n",
        "        for i in range(0, len(windows_np), batch_size):\n",
        "            chunk = torch.from_numpy(windows_np[i:i+batch_size]).to(device)\n",
        "            z     = model._ts2vec_encode(chunk)      # (B, T, D)\n",
        "            z     = z.mean(1)                        # mean-pool over time\n",
        "            out.append(z.cpu())\n",
        "    return torch.cat(out).numpy()\n",
        "\n",
        "emb_train = embed_windows(model, X_tr.astype(np.float32))# (N,D)\n",
        "emb_test = embed_windows(model, X_te.astype(np.float32))\n",
        "\n",
        "print(\"embeddings train:\", emb_train.shape)\n",
        "print(\"embeddings test:\", emb_test.shape)\n",
        "\n",
        "\n",
        "\n",
        "# 2) train/test split + linear probe\n",
        "from sklearn.model_selection import train_test_split\n",
        "from sklearn.linear_model import LogisticRegression\n",
        "from sklearn.metrics import classification_report, confusion_matrix\n",
        "\n",
        "\n",
        "clf = LogisticRegression(\n",
        "    max_iter=500, multi_class='multinomial', solver='lbfgs'\n",
        ")\n",
        "clf.fit(emb_train, y_tr)\n",
        "\n",
        "print(classification_report(y_te, clf.predict(emb_test), digits=3))\n",
        "\n",
        "import seaborn as sns, matplotlib.pyplot as plt\n",
        "cm = confusion_matrix(y_te, clf.predict(emb_test))\n",
        "plt.figure(figsize=(8,6))\n",
        "sns.heatmap(cm, annot=True, fmt='d', cmap='Blues')\n",
        "plt.xlabel('Predicted'); plt.ylabel('True'); plt.title('PAMAP2 – TS2Vec linear probe')\n",
        "plt.show()\n"
      ],
      "metadata": {
        "colab": {
          "base_uri": "https://localhost:8080/",
          "height": 1000
        },
        "id": "ylYkwRerM-up",
        "outputId": "2bc7d42e-851c-4fde-bbf9-7bbc637211ed"
      },
      "id": "ylYkwRerM-up",
      "execution_count": 29,
      "outputs": [
        {
          "output_type": "stream",
          "name": "stdout",
          "text": [
            "step   50 | NT-Xent loss = 3.1918\n",
            "step  100 | NT-Xent loss = 3.1932\n",
            "step  150 | NT-Xent loss = 3.1156\n",
            "step  200 | NT-Xent loss = 3.1280\n",
            "step  250 | NT-Xent loss = 3.0803\n",
            "step  300 | NT-Xent loss = 3.1249\n",
            "step  350 | NT-Xent loss = 3.0733\n",
            "step  400 | NT-Xent loss = 3.0122\n",
            "step  450 | NT-Xent loss = 2.9539\n",
            "step  500 | NT-Xent loss = 3.1449\n",
            "step  550 | NT-Xent loss = 3.0488\n",
            "step  600 | NT-Xent loss = 3.0901\n",
            "step  650 | NT-Xent loss = 2.9065\n",
            "step  700 | NT-Xent loss = 2.9500\n",
            "step  750 | NT-Xent loss = 3.0383\n",
            "step  800 | NT-Xent loss = 2.9119\n",
            "step  850 | NT-Xent loss = 2.9486\n",
            "step  900 | NT-Xent loss = 3.0194\n",
            "step  950 | NT-Xent loss = 3.0400\n",
            "step 1000 | NT-Xent loss = 3.0015\n",
            "embeddings train: (9005, 320)\n",
            "embeddings test: (2211, 320)\n"
          ]
        },
        {
          "output_type": "stream",
          "name": "stderr",
          "text": [
            "/usr/local/lib/python3.11/dist-packages/sklearn/linear_model/_logistic.py:1247: FutureWarning: 'multi_class' was deprecated in version 1.5 and will be removed in 1.7. From then on, it will always use 'multinomial'. Leave it to its default value to avoid this warning.\n",
            "  warnings.warn(\n",
            "/usr/local/lib/python3.11/dist-packages/sklearn/metrics/_classification.py:1565: UndefinedMetricWarning: Recall is ill-defined and being set to 0.0 in labels with no true samples. Use `zero_division` parameter to control this behavior.\n",
            "  _warn_prf(average, modifier, f\"{metric.capitalize()} is\", len(result))\n",
            "/usr/local/lib/python3.11/dist-packages/sklearn/metrics/_classification.py:1565: UndefinedMetricWarning: Recall is ill-defined and being set to 0.0 in labels with no true samples. Use `zero_division` parameter to control this behavior.\n",
            "  _warn_prf(average, modifier, f\"{metric.capitalize()} is\", len(result))\n",
            "/usr/local/lib/python3.11/dist-packages/sklearn/metrics/_classification.py:1565: UndefinedMetricWarning: Recall is ill-defined and being set to 0.0 in labels with no true samples. Use `zero_division` parameter to control this behavior.\n",
            "  _warn_prf(average, modifier, f\"{metric.capitalize()} is\", len(result))\n"
          ]
        },
        {
          "output_type": "stream",
          "name": "stdout",
          "text": [
            "              precision    recall  f1-score   support\n",
            "\n",
            "           0      0.729     0.698     0.713       623\n",
            "           1      1.000     0.952     0.975       186\n",
            "           2      0.652     0.900     0.756       160\n",
            "           3      0.862     0.833     0.847       180\n",
            "           4      0.875     0.886     0.880       245\n",
            "           5      0.833     0.769     0.800        13\n",
            "           6      0.892     0.933     0.912        89\n",
            "           7      0.711     0.616     0.660       112\n",
            "          12      0.713     0.745     0.729       110\n",
            "          13      0.740     0.712     0.725       104\n",
            "          16      0.901     0.779     0.836       163\n",
            "          17      0.872     0.876     0.874       226\n",
            "          24      0.000     0.000     0.000         0\n",
            "\n",
            "    accuracy                          0.799      2211\n",
            "   macro avg      0.752     0.746     0.747      2211\n",
            "weighted avg      0.806     0.799     0.800      2211\n",
            "\n"
          ]
        },
        {
          "output_type": "display_data",
          "data": {
            "text/plain": [
              "<Figure size 800x600 with 2 Axes>"
            ],
            "image/png": "[encoded data removed]"
          },
          "metadata": {}
        }
      ]
    },
    {
      "cell_type": "code",
      "source": [
        "# try with frozen encoder\n",
        "N_VIEWS      = 3          # full-length + ½-length crops to start with\n",
        "PROJ_DIM     = 128\n",
        "TEMP         = 0.05\n",
        "\n",
        "model = FractalSSL(\n",
        "    enc,\n",
        "    levels=N_VIEWS,       # ← how many views per sample\n",
        "    proj_dim=PROJ_DIM,\n",
        "    temperature=TEMP,\n",
        "    freeze_backbone=True   # let the encoder learn\n",
        ").to(device)\n",
        "\n",
        "# two LR buckets: tiny for encoder, normal for projector\n",
        "opt = torch.optim.AdamW(\n",
        "    [\n",
        "        {'params': model.backbone.net.parameters(), 'lr': 1e-4},\n",
        "        {'params': model.proj.parameters(),         'lr': 1e-3},\n",
        "    ],\n",
        "    weight_decay=1e-4\n",
        ")\n",
        "BATCH_SIZE = 64      #\n",
        "N_STEPS    = 1000   # train longer than 100 iterations\n",
        "\n",
        "for step in range(1, N_STEPS + 1):\n",
        "    # ---- draw a random batch of raw windows -------------------------------\n",
        "    idx = random.sample(range(len(train_windows)), BATCH_SIZE)\n",
        "    batch_ts = torch.stack(\n",
        "        [torch.from_numpy(train_windows[i]) for i in idx]\n",
        "    ).to(device)                              # shape (B,L,C)\n",
        "\n",
        "    # ---- forward & loss ----------------------------------------------------\n",
        "    reps  = model(batch_ts)                   # (B * n_views, D)\n",
        "    loss  = nt_xent(reps, BATCH_SIZE, N_VIEWS, TEMP)\n",
        "\n",
        "    # ---- optimisation ------------------------------------------------------\n",
        "    opt.zero_grad()\n",
        "    loss.backward()\n",
        "    opt.step()\n",
        "\n",
        "    # ---- monitoring --------------------------------------------------------\n",
        "    if step % 50 == 0:\n",
        "        print(f\"step {step:4} | NT-Xent loss = {loss.item():.4f}\")\n",
        "\n",
        "model.eval()\n",
        "\n",
        "def embed_windows(model, windows_np, batch_size=256):\n",
        "    \"\"\"Return a (N, D) NumPy array of pooled embeddings.\"\"\"\n",
        "    out = []\n",
        "    with torch.no_grad():\n",
        "        for i in range(0, len(windows_np), batch_size):\n",
        "            chunk = torch.from_numpy(windows_np[i:i+batch_size]).to(device)\n",
        "            z     = model._ts2vec_encode(chunk)      # (B, T, D)\n",
        "            z     = z.mean(1)                        # mean-pool over time\n",
        "            out.append(z.cpu())\n",
        "    return torch.cat(out).numpy()\n",
        "\n",
        "emb_train = embed_windows(model, X_tr.astype(np.float32))# (N,D)\n",
        "emb_test = embed_windows(model, X_te.astype(np.float32))\n",
        "\n",
        "print(\"embeddings train:\", emb_train.shape)\n",
        "print(\"embeddings test:\", emb_test.shape)\n",
        "\n",
        "\n",
        "\n",
        "# 2) train/test split + linear probe\n",
        "from sklearn.model_selection import train_test_split\n",
        "from sklearn.linear_model import LogisticRegression\n",
        "from sklearn.metrics import classification_report, confusion_matrix\n",
        "\n",
        "\n",
        "clf = LogisticRegression(\n",
        "    max_iter=500, multi_class='multinomial', solver='lbfgs'\n",
        ")\n",
        "clf.fit(emb_train, y_tr)\n",
        "\n",
        "print(classification_report(y_te, clf.predict(emb_test), digits=3))\n",
        "\n",
        "import seaborn as sns, matplotlib.pyplot as plt\n",
        "cm = confusion_matrix(y_te, clf.predict(emb_test))\n",
        "plt.figure(figsize=(8,6))\n",
        "sns.heatmap(cm, annot=True, fmt='d', cmap='Blues')\n",
        "plt.xlabel('Predicted'); plt.ylabel('True'); plt.title('PAMAP2 – TS2Vec linear probe')\n",
        "plt.show()\n"
      ],
      "metadata": {
        "colab": {
          "base_uri": "https://localhost:8080/",
          "height": 1000
        },
        "id": "R9fSAJckNHkG",
        "outputId": "00752e67-cd77-4a93-8786-a78cb088fa4c"
      },
      "id": "R9fSAJckNHkG",
      "execution_count": 30,
      "outputs": [
        {
          "output_type": "stream",
          "name": "stdout",
          "text": [
            "step   50 | NT-Xent loss = 3.2448\n",
            "step  100 | NT-Xent loss = 3.3097\n",
            "step  150 | NT-Xent loss = 3.1775\n",
            "step  200 | NT-Xent loss = 3.0786\n",
            "step  250 | NT-Xent loss = 2.9810\n",
            "step  300 | NT-Xent loss = 3.1517\n",
            "step  350 | NT-Xent loss = 3.0660\n",
            "step  400 | NT-Xent loss = 3.0104\n",
            "step  450 | NT-Xent loss = 3.1735\n",
            "step  500 | NT-Xent loss = 3.0636\n",
            "step  550 | NT-Xent loss = 3.1237\n",
            "step  600 | NT-Xent loss = 2.9866\n",
            "step  650 | NT-Xent loss = 3.0168\n",
            "step  700 | NT-Xent loss = 3.0728\n",
            "step  750 | NT-Xent loss = 2.9889\n",
            "step  800 | NT-Xent loss = 2.9413\n",
            "step  850 | NT-Xent loss = 2.9879\n",
            "step  900 | NT-Xent loss = 3.1666\n",
            "step  950 | NT-Xent loss = 2.9604\n",
            "step 1000 | NT-Xent loss = 3.0198\n",
            "embeddings train: (9005, 320)\n",
            "embeddings test: (2211, 320)\n"
          ]
        },
        {
          "output_type": "stream",
          "name": "stderr",
          "text": [
            "/usr/local/lib/python3.11/dist-packages/sklearn/linear_model/_logistic.py:1247: FutureWarning: 'multi_class' was deprecated in version 1.5 and will be removed in 1.7. From then on, it will always use 'multinomial'. Leave it to its default value to avoid this warning.\n",
            "  warnings.warn(\n",
            "/usr/local/lib/python3.11/dist-packages/sklearn/metrics/_classification.py:1565: UndefinedMetricWarning: Recall is ill-defined and being set to 0.0 in labels with no true samples. Use `zero_division` parameter to control this behavior.\n",
            "  _warn_prf(average, modifier, f\"{metric.capitalize()} is\", len(result))\n",
            "/usr/local/lib/python3.11/dist-packages/sklearn/metrics/_classification.py:1565: UndefinedMetricWarning: Recall is ill-defined and being set to 0.0 in labels with no true samples. Use `zero_division` parameter to control this behavior.\n",
            "  _warn_prf(average, modifier, f\"{metric.capitalize()} is\", len(result))\n",
            "/usr/local/lib/python3.11/dist-packages/sklearn/metrics/_classification.py:1565: UndefinedMetricWarning: Recall is ill-defined and being set to 0.0 in labels with no true samples. Use `zero_division` parameter to control this behavior.\n",
            "  _warn_prf(average, modifier, f\"{metric.capitalize()} is\", len(result))\n"
          ]
        },
        {
          "output_type": "stream",
          "name": "stdout",
          "text": [
            "              precision    recall  f1-score   support\n",
            "\n",
            "           0      0.729     0.698     0.713       623\n",
            "           1      1.000     0.952     0.975       186\n",
            "           2      0.652     0.900     0.756       160\n",
            "           3      0.862     0.833     0.847       180\n",
            "           4      0.875     0.886     0.880       245\n",
            "           5      0.833     0.769     0.800        13\n",
            "           6      0.892     0.933     0.912        89\n",
            "           7      0.711     0.616     0.660       112\n",
            "          12      0.713     0.745     0.729       110\n",
            "          13      0.740     0.712     0.725       104\n",
            "          16      0.901     0.779     0.836       163\n",
            "          17      0.872     0.876     0.874       226\n",
            "          24      0.000     0.000     0.000         0\n",
            "\n",
            "    accuracy                          0.799      2211\n",
            "   macro avg      0.752     0.746     0.747      2211\n",
            "weighted avg      0.806     0.799     0.800      2211\n",
            "\n"
          ]
        },
        {
          "output_type": "display_data",
          "data": {
            "text/plain": [
              "<Figure size 800x600 with 2 Axes>"
            ],
            "image/png": "[encoded data removed]"
          },
          "metadata": {}
        }
      ]
    },
    {
      "cell_type": "markdown",
      "source": [
        "## Compare it with other models\n"
      ],
      "metadata": {
        "id": "NP9HrCyaUChg"
      },
      "id": "NP9HrCyaUChg"
    },
    {
      "cell_type": "markdown",
      "source": [
        "| SSL method & paper                                                                                       | Encoder / Head                 | PAMAP-2 split†  | ACC           | MF1           | Source                     |\n",
        "| -------------------------------------------------------------------------------------------------------- | ------------------------------ | --------------- | ------------- | ------------- | -------------------------- |\n",
        "| **MAE-HAR (masked auto-encoder)** – *Comparing SSL Techniques for Wearable HAR*, arXiv 2404.15331 (2024) | 1-D ViT encoder, 2-layer probe | 80 / 20 subj.   | **0.872**     | 0.825         | ([arXiv][1])               |\n",
        "| **PhyMask (adaptive masking, ViT)** – CHI’25                                                             | ViT-Tiny, proj-MLP             | 5-fold subj. CV | 0.868 ± 0.009 | 0.818 ± 0.011 | ([ACM Digital Library][2]) |\n",
        "| **SimCLR-TSC** – *Tang et al.*, MotionSense notebook (2024)                                              | CNN (Conv → GMP), MLP-128      | 80 / 20 subj.   | 0.829         | 0.799         | ([arXiv][1])               |\n",
        "| **TS2Vec** – *Garza et al.*, UTRGV thesis (2023)                                                         | CNN forecast head, lin. probe  | 5-fold subj. CV | 0.840         | —             | ([arXiv][3])               |\n",
        "| **Series2Vec** – Springer KDCA (2023)                                                                    | Similarity-based cont. loss    | 80 / 20 subj.   | 0.835         | —             | ([SpringerLink][4])        |\n",
        "\n",
        "[1]: https://arxiv.org/html/2404.15331v1?utm_source=chatgpt.com \"Comparing Self-Supervised Learning Techniques for Wearable ...\"\n",
        "[2]: https://dl.acm.org/doi/pdf/10.1145/3666025.3699325?utm_source=chatgpt.com \"PhyMask: An Adaptive Masking Paradigm for Efficient Self ...\"\n",
        "[3]: https://arxiv.org/pdf/2305.00619?utm_source=chatgpt.com \"[PDF] Self-supervised Activity Representation Learning with Incremental ...\"\n",
        "[4]: https://link.springer.com/article/10.1007/s10618-024-01043-w?utm_source=chatgpt.com \"Series2vec: similarity-based self-supervised representation learning ...\"\n"
      ],
      "metadata": {
        "id": "j9B5lcRe7kq2"
      },
      "id": "j9B5lcRe7kq2"
    },
    {
      "cell_type": "code",
      "source": [],
      "metadata": {
        "id": "rjq3rZzB7kUN"
      },
      "id": "rjq3rZzB7kUN",
      "execution_count": null,
      "outputs": []
    },
    {
      "cell_type": "code",
      "source": [
        "# ------------------------------------------------------------\n",
        "# 0.  Install + imports   (only once per runtime)\n",
        "# ------------------------------------------------------------\n",
        "# ▸ SimCLR-TSC\n",
        "!git clone https://github.com/findalexli/TimeseriesContrastiveModels.git\n",
        "import sys, pathlib, importlib\n",
        "sys.path.append('/content/TimeseriesContrastiveModels')    # adjust if not in Colab\n",
        "\n",
        "# ▸ TS-TCC\n",
        "!git clone https://github.com/emadeldeen24/TS-TCC.git\n",
        "sys.path.append('/content/TS-TCC')\n",
        "\n",
        "# ▸ CPC  (ULTS)\n",
        "!git clone https://github.com/mqwfrog/ULTS.git\n",
        "sys.path.append('/content/ULTS')\n"
      ],
      "metadata": {
        "colab": {
          "base_uri": "https://localhost:8080/"
        },
        "id": "fWTW869WUV7G",
        "outputId": "cdcb3b70-6f7c-433b-b62e-459b00272c8f"
      },
      "id": "fWTW869WUV7G",
      "execution_count": 4,
      "outputs": [
        {
          "output_type": "stream",
          "name": "stdout",
          "text": [
            "fatal: destination path 'TimeseriesContrastiveModels' already exists and is not an empty directory.\n",
            "fatal: destination path 'TS-TCC' already exists and is not an empty directory.\n",
            "fatal: destination path 'ULTS' already exists and is not an empty directory.\n"
          ]
        }
      ]
    },
    {
      "cell_type": "code",
      "source": [
        "from tsm.baselines.SimCLR.simclr_models import SimCLR\n",
        "from tstcc.models import TSTCC\n",
        "from ults.models import CPC"
      ],
      "metadata": {
        "colab": {
          "base_uri": "https://localhost:8080/",
          "height": 393
        },
        "id": "DKt1F4vkUtGr",
        "outputId": "eecb6426-3197-4915-c4f7-ae0fcc624b9b"
      },
      "id": "DKt1F4vkUtGr",
      "execution_count": 5,
      "outputs": [
        {
          "output_type": "error",
          "ename": "ImportError",
          "evalue": "cannot import name 'SimCLR' from 'tsm.baselines.SimCLR.simclr_models' (/content/TimeseriesContrastiveModels/tsm/baselines/SimCLR/simclr_models.py)",
          "traceback": [
            "\u001b[0;31m---------------------------------------------------------------------------\u001b[0m",
            "\u001b[0;31mImportError\u001b[0m                               Traceback (most recent call last)",
            "\u001b[0;32m/tmp/ipython-input-5-1164675189.py\u001b[0m in \u001b[0;36m<cell line: 0>\u001b[0;34m()\u001b[0m\n\u001b[0;32m----> 1\u001b[0;31m \u001b[0;32mfrom\u001b[0m \u001b[0mtsm\u001b[0m\u001b[0;34m.\u001b[0m\u001b[0mbaselines\u001b[0m\u001b[0;34m.\u001b[0m\u001b[0mSimCLR\u001b[0m\u001b[0;34m.\u001b[0m\u001b[0msimclr_models\u001b[0m \u001b[0;32mimport\u001b[0m \u001b[0mSimCLR\u001b[0m\u001b[0;34m\u001b[0m\u001b[0;34m\u001b[0m\u001b[0m\n\u001b[0m\u001b[1;32m      2\u001b[0m \u001b[0;32mfrom\u001b[0m \u001b[0mtstcc\u001b[0m\u001b[0;34m.\u001b[0m\u001b[0mmodels\u001b[0m \u001b[0;32mimport\u001b[0m \u001b[0mTSTCC\u001b[0m\u001b[0;34m\u001b[0m\u001b[0;34m\u001b[0m\u001b[0m\n\u001b[1;32m      3\u001b[0m \u001b[0;32mfrom\u001b[0m \u001b[0mults\u001b[0m\u001b[0;34m.\u001b[0m\u001b[0mmodels\u001b[0m \u001b[0;32mimport\u001b[0m \u001b[0mCPC\u001b[0m\u001b[0;34m\u001b[0m\u001b[0;34m\u001b[0m\u001b[0m\n",
            "\u001b[0;31mImportError\u001b[0m: cannot import name 'SimCLR' from 'tsm.baselines.SimCLR.simclr_models' (/content/TimeseriesContrastiveModels/tsm/baselines/SimCLR/simclr_models.py)",
            "",
            "\u001b[0;31m---------------------------------------------------------------------------\u001b[0;32m\nNOTE: If your import is failing due to a missing package, you can\nmanually install dependencies using either !pip or !apt.\n\nTo view examples of installing some common dependencies, click the\n\"Open Examples\" button below.\n\u001b[0;31m---------------------------------------------------------------------------\u001b[0m\n"
          ],
          "errorDetails": {
            "actions": [
              {
                "action": "open_url",
                "actionText": "Open Examples",
                "url": "/notebooks/snippets/importing_libraries.ipynb"
              }
            ]
          }
        }
      ]
    },
    {
      "cell_type": "code",
      "source": [
        "!pip -q install tsai torch>=2.1\n",
        "\n"
      ],
      "metadata": {
        "colab": {
          "base_uri": "https://localhost:8080/",
          "height": 411
        },
        "id": "Tc1WpE1GVeCb",
        "outputId": "18e27f46-8e4c-4379-ac10-405f11ed930b"
      },
      "id": "Tc1WpE1GVeCb",
      "execution_count": 75,
      "outputs": [
        {
          "output_type": "stream",
          "name": "stdout",
          "text": [
            "\u001b[31mERROR: Operation cancelled by user\u001b[0m\u001b[31m\n",
            "\u001b[0m"
          ]
        },
        {
          "output_type": "error",
          "ename": "ModuleNotFoundError",
          "evalue": "No module named 'tsai'",
          "traceback": [
            "\u001b[0;31m---------------------------------------------------------------------------\u001b[0m",
            "\u001b[0;31mModuleNotFoundError\u001b[0m                       Traceback (most recent call last)",
            "\u001b[0;32m/tmp/ipython-input-75-2645788370.py\u001b[0m in \u001b[0;36m<cell line: 0>\u001b[0;34m()\u001b[0m\n\u001b[1;32m      1\u001b[0m \u001b[0mget_ipython\u001b[0m\u001b[0;34m(\u001b[0m\u001b[0;34m)\u001b[0m\u001b[0;34m.\u001b[0m\u001b[0msystem\u001b[0m\u001b[0;34m(\u001b[0m\u001b[0;34m'pip -q install tsai torch>=2.1'\u001b[0m\u001b[0;34m)\u001b[0m\u001b[0;34m\u001b[0m\u001b[0;34m\u001b[0m\u001b[0m\n\u001b[1;32m      2\u001b[0m \u001b[0;34m\u001b[0m\u001b[0m\n\u001b[0;32m----> 3\u001b[0;31m \u001b[0;32mfrom\u001b[0m \u001b[0mtsai\u001b[0m\u001b[0;34m.\u001b[0m\u001b[0mself_supervised\u001b[0m \u001b[0;32mimport\u001b[0m \u001b[0mTSSimCLR\u001b[0m\u001b[0;34m,\u001b[0m \u001b[0mTSTCC\u001b[0m\u001b[0;34m,\u001b[0m \u001b[0mTSCPC\u001b[0m      \u001b[0;31m# SimCLR, TS-TCC, CPC\u001b[0m\u001b[0;34m\u001b[0m\u001b[0;34m\u001b[0m\u001b[0m\n\u001b[0m\u001b[1;32m      4\u001b[0m \u001b[0;32mfrom\u001b[0m \u001b[0mtsai\u001b[0m\u001b[0;34m.\u001b[0m\u001b[0mall\u001b[0m            \u001b[0;32mimport\u001b[0m \u001b[0mInceptionTime\u001b[0m\u001b[0;34m,\u001b[0m \u001b[0mLearner\u001b[0m\u001b[0;34m\u001b[0m\u001b[0;34m\u001b[0m\u001b[0m\n",
            "\u001b[0;31mModuleNotFoundError\u001b[0m: No module named 'tsai'",
            "",
            "\u001b[0;31m---------------------------------------------------------------------------\u001b[0;32m\nNOTE: If your import is failing due to a missing package, you can\nmanually install dependencies using either !pip or !apt.\n\nTo view examples of installing some common dependencies, click the\n\"Open Examples\" button below.\n\u001b[0;31m---------------------------------------------------------------------------\u001b[0m\n"
          ],
          "errorDetails": {
            "actions": [
              {
                "action": "open_url",
                "actionText": "Open Examples",
                "url": "/notebooks/snippets/importing_libraries.ipynb"
              }
            ]
          }
        }
      ]
    },
    {
      "cell_type": "code",
      "source": [
        "\n",
        "!git clone -q https://github.com/iantangc/ContrastiveLearningHAR.git\n",
        "import sys, os\n",
        "sys.path.append('/content/ContrastiveLearningHAR')   # make `import …` work"
      ],
      "metadata": {
        "colab": {
          "base_uri": "https://localhost:8080/"
        },
        "id": "jTrXky0sYoKn",
        "outputId": "9e1d98e9-5c69-4eff-fbe5-a49bba6544f7"
      },
      "id": "jTrXky0sYoKn",
      "execution_count": 31,
      "outputs": [
        {
          "output_type": "stream",
          "name": "stdout",
          "text": [
            "fatal: destination path 'ContrastiveLearningHAR' already exists and is not an empty directory.\n"
          ]
        }
      ]
    },
    {
      "cell_type": "code",
      "source": [
        "# SimCLR model utilities from the notebook repo\n",
        "from simclr_models           import create_base_model, attach_simclr_head          # :contentReference[oaicite:0]{index=0}\n",
        "from simclr_utitlities       import simclr_train_model, NT_Xent_loss               # :contentReference[oaicite:1]{index=1}\n",
        "import transformations        as tfs                                               # same repo\n",
        "import tensorflow as tf, numpy as np, random, torch\n",
        "\n",
        "import simclr_utitlities\n",
        "import simclr_models\n",
        "import transformations\n"
      ],
      "metadata": {
        "id": "ba-WtpSxZzOM"
      },
      "id": "ba-WtpSxZzOM",
      "execution_count": 32,
      "outputs": []
    },
    {
      "cell_type": "code",
      "source": [
        "def pamap_simclr_transform(x, jitter_scale=0.01, crop_ratio=0.5):\n",
        "    \"\"\"Vectorised jitter + centre crop on a (L,C) NumPy array.\"\"\"\n",
        "    # jitter (Gaussian noise)\n",
        "    noise = np.random.normal(scale=jitter_scale, size=x.shape)\n",
        "    x_noisy = x + noise\n",
        "\n",
        "    # random crop\n",
        "    L = x.shape[0]\n",
        "    crop_len = int(L * crop_ratio)\n",
        "    start = np.random.randint(0, L - crop_len)\n",
        "    x_crop = x_noisy[start:start + crop_len]\n",
        "\n",
        "    # zero-pad back to original length so shapes stay (L,C)\n",
        "    pad_left = start\n",
        "    pad_right = L - crop_len - start\n",
        "    x_pad = np.pad(x_crop, ((pad_left, pad_right), (0, 0)), mode='constant')\n",
        "    return x_pad.astype(np.float32)\n"
      ],
      "metadata": {
        "id": "mSTaNFMUae8W"
      },
      "id": "mSTaNFMUae8W",
      "execution_count": 33,
      "outputs": []
    },
    {
      "cell_type": "code",
      "source": [
        "WINDOWS = train_windows.astype(np.float32)          # (N, L, C) from your pipeline\n",
        "BATCH    = 256\n",
        "seed     = 42\n",
        "\n",
        "def tf_dataset(X):\n",
        "    ds = tf.data.Dataset.from_tensor_slices(X)\n",
        "    ds = ds.shuffle(buffer_size=len(X), seed=seed, reshuffle_each_iteration=True)\n",
        "    ds = ds.map(\n",
        "        lambda x: (          # two independent stochastic views\n",
        "            tf.numpy_function(pamap_simclr_transform, [x], tf.float32),\n",
        "            tf.numpy_function(pamap_simclr_transform, [x], tf.float32)\n",
        "        ),\n",
        "        num_parallel_calls=tf.data.AUTOTUNE\n",
        "    )\n",
        "    ds = ds.batch(BATCH).prefetch(tf.data.AUTOTUNE)\n",
        "    return ds\n",
        "\n",
        "train_ds = tf_dataset(WINDOWS)\n"
      ],
      "metadata": {
        "id": "izoa8QSYaiRO"
      },
      "id": "izoa8QSYaiRO",
      "execution_count": 34,
      "outputs": []
    },
    {
      "cell_type": "code",
      "source": [
        "import tensorflow as tf\n",
        "print(tf.__version__)"
      ],
      "metadata": {
        "colab": {
          "base_uri": "https://localhost:8080/"
        },
        "id": "uIsuIC0FblUQ",
        "outputId": "9e430a99-251b-4bf8-c9d0-a2eea97eef6f"
      },
      "id": "uIsuIC0FblUQ",
      "execution_count": 1,
      "outputs": [
        {
          "output_type": "stream",
          "name": "stdout",
          "text": [
            "2.14.1\n"
          ]
        }
      ]
    },
    {
      "cell_type": "code",
      "source": [
        "!pip -q uninstall -y keras\n",
        "!pip -q install \"tensorflow<2.15\" keras==2.14.0"
      ],
      "metadata": {
        "colab": {
          "base_uri": "https://localhost:8080/"
        },
        "id": "UM-LkbGUbpYW",
        "outputId": "ebfba694-6816-46d9-f924-85fd96265f8a"
      },
      "id": "UM-LkbGUbpYW",
      "execution_count": 24,
      "outputs": [
        {
          "output_type": "stream",
          "name": "stdout",
          "text": [
            "\u001b[33mWARNING: Skipping /usr/local/lib/python3.11/dist-packages/nvidia_cusparse_cu12-12.1.0.106.dist-info due to invalid metadata entry 'name'\u001b[0m\u001b[33m\n",
            "\u001b[0m\u001b[33mWARNING: Ignoring invalid distribution ~ensorflow (/usr/local/lib/python3.11/dist-packages)\u001b[0m\u001b[33m\n",
            "\u001b[0m\u001b[33mWARNING: Skipping /usr/local/lib/python3.11/dist-packages/nvidia_cusparse_cu12-12.1.0.106.dist-info due to invalid metadata entry 'name'\u001b[0m\u001b[33m\n",
            "\u001b[0m\u001b[33mWARNING: Ignoring invalid distribution ~ensorflow (/usr/local/lib/python3.11/dist-packages)\u001b[0m\u001b[33m\n",
            "\u001b[0m\u001b[33mWARNING: Skipping /usr/local/lib/python3.11/dist-packages/nvidia_cusparse_cu12-12.1.0.106.dist-info due to invalid metadata entry 'name'\u001b[0m\u001b[33m\n",
            "\u001b[0m\u001b[33mWARNING: Ignoring invalid distribution ~ensorflow (/usr/local/lib/python3.11/dist-packages)\u001b[0m\u001b[33m\n",
            "\u001b[0m\u001b[33mWARNING: Skipping /usr/local/lib/python3.11/dist-packages/nvidia_cusparse_cu12-12.1.0.106.dist-info due to invalid metadata entry 'name'\u001b[0m\u001b[33m\n",
            "\u001b[0m\u001b[33mWARNING: Ignoring invalid distribution ~ensorflow (/usr/local/lib/python3.11/dist-packages)\u001b[0m\u001b[33m\n",
            "\u001b[2K   \u001b[90m━━━━━━━━━━━━━━━━━━━━━━━━━━━━━━━━━━━━━━━━\u001b[0m \u001b[32m1.7/1.7 MB\u001b[0m \u001b[31m47.3 MB/s\u001b[0m eta \u001b[36m0:00:00\u001b[0m\n",
            "\u001b[2K   \u001b[90m━━━━━━━━━━━━━━━━━━━━━━━━━━━━━━━━━━━━━━━━\u001b[0m \u001b[32m489.9/489.9 MB\u001b[0m \u001b[31m4.6 MB/s\u001b[0m eta \u001b[36m0:00:00\u001b[0m\n",
            "\u001b[2K   \u001b[90m━━━━━━━━━━━━━━━━━━━━━━━━━━━━━━━━━━━━━━━━\u001b[0m \u001b[32m5.5/5.5 MB\u001b[0m \u001b[31m63.7 MB/s\u001b[0m eta \u001b[36m0:00:00\u001b[0m\n",
            "\u001b[2K   \u001b[90m━━━━━━━━━━━━━━━━━━━━━━━━━━━━━━━━━━━━━━━━\u001b[0m \u001b[32m440.7/440.7 kB\u001b[0m \u001b[31m33.5 MB/s\u001b[0m eta \u001b[36m0:00:00\u001b[0m\n",
            "\u001b[?25h\u001b[33mWARNING: Skipping /usr/local/lib/python3.11/dist-packages/nvidia_cusparse_cu12-12.1.0.106.dist-info due to invalid metadata entry 'name'\u001b[0m\u001b[33m\n",
            "\u001b[0m\u001b[33mWARNING: Ignoring invalid distribution ~ensorflow (/usr/local/lib/python3.11/dist-packages)\u001b[0m\u001b[33m\n",
            "\u001b[0m\u001b[33m    WARNING: Skipping /usr/local/lib/python3.11/dist-packages/nvidia_cusparse_cu12-12.1.0.106.dist-info due to invalid metadata entry 'name'\u001b[0m\u001b[33m\n",
            "\u001b[0m\u001b[33m    WARNING: Ignoring invalid distribution ~ensorflow (/usr/local/lib/python3.11/dist-packages)\u001b[0m\u001b[33m\n",
            "\u001b[0m\u001b[33m    WARNING: Skipping /usr/local/lib/python3.11/dist-packages/nvidia_cusparse_cu12-12.1.0.106.dist-info due to invalid metadata entry 'name'\u001b[0m\u001b[33m\n",
            "\u001b[0m\u001b[33m    WARNING: Ignoring invalid distribution ~ensorflow (/usr/local/lib/python3.11/dist-packages)\u001b[0m\u001b[33m\n",
            "\u001b[0m\u001b[33mWARNING: Skipping /usr/local/lib/python3.11/dist-packages/nvidia_cusparse_cu12-12.1.0.106.dist-info due to invalid metadata entry 'name'\u001b[0m\u001b[33m\n",
            "\u001b[0m\u001b[33mWARNING: Skipping /usr/local/lib/python3.11/dist-packages/nvidia_cusparse_cu12-12.1.0.106.dist-info due to invalid metadata entry 'name'\u001b[0m\u001b[33m\n",
            "\u001b[0m\u001b[33mWARNING: Skipping /usr/local/lib/python3.11/dist-packages/nvidia_cusparse_cu12-12.1.0.106.dist-info due to invalid metadata entry 'name'\u001b[0m\u001b[33m\n",
            "\u001b[0m\u001b[33mWARNING: Skipping /usr/local/lib/python3.11/dist-packages/nvidia_cusparse_cu12-12.1.0.106.dist-info due to invalid metadata entry 'name'\u001b[0m\u001b[33m\n",
            "\u001b[0m\u001b[33mWARNING: Skipping /usr/local/lib/python3.11/dist-packages/nvidia_cusparse_cu12-12.1.0.106.dist-info due to invalid metadata entry 'name'\u001b[0m\u001b[33m\n",
            "\u001b[0m\u001b[31mERROR: pip's dependency resolver does not currently take into account all the packages that are installed. This behaviour is the source of the following dependency conflicts.\n",
            "tf-keras 2.18.0 requires tensorflow<2.19,>=2.18, but you have tensorflow 2.14.1 which is incompatible.\n",
            "tensorflow-text 2.18.1 requires tensorflow<2.19,>=2.18.0, but you have tensorflow 2.14.1 which is incompatible.\n",
            "tensorflow-decision-forests 1.11.0 requires tensorflow==2.18.0, but you have tensorflow 2.14.1 which is incompatible.\u001b[0m\u001b[31m\n",
            "\u001b[0m"
          ]
        }
      ]
    },
    {
      "cell_type": "code",
      "source": [
        "print(\"NaNs in raw:\", np.isnan(WINDOWS).sum())\n",
        "print(\"Min / max:\", WINDOWS.min(), WINDOWS.max())\n"
      ],
      "metadata": {
        "colab": {
          "base_uri": "https://localhost:8080/"
        },
        "id": "_eZtG2xOgpSY",
        "outputId": "38c283f8-49f5-4aec-e4d4-8644524ada7a"
      },
      "id": "_eZtG2xOgpSY",
      "execution_count": 204,
      "outputs": [
        {
          "output_type": "stream",
          "name": "stdout",
          "text": [
            "NaNs in raw: 0\n",
            "Min / max: -42.31831 47.76749\n"
          ]
        }
      ]
    },
    {
      "cell_type": "code",
      "source": [
        "# base encoder (Conv1D → GlobalMaxPool) exactly as in the notebook\n",
        "INPUT_SHAPE = (WINDOWS.shape[1], WINDOWS.shape[2])       # (L, C)\n",
        "base_model  = create_base_model(INPUT_SHAPE, model_name=\"PAMAP_base\")\n",
        "simclr_model = attach_simclr_head(base_model, hidden_1=256, hidden_2=128, hidden_3=50)\n",
        "\n",
        "optimizer = tf.keras.optimizers.Adam(1e-3)\n",
        "\n",
        "EPOCHS = 20   # start small; you can bump later\n",
        "for epoch in range(EPOCHS):\n",
        "    for batch_view1, batch_view2 in train_ds:\n",
        "        loss, grads = simclr_utitlities.get_NT_Xent_loss_gradients(\n",
        "            simclr_model, batch_view1, batch_view2, normalize=True, temperature=1.0\n",
        "        )\n",
        "        optimizer.apply_gradients(zip(grads, simclr_model.trainable_variables))\n",
        "    if epoch % 5 == 0:\n",
        "        print(f\"epoch {epoch:2d} | SimCLR NT-Xent loss = {loss.numpy():.4f}\")\n"
      ],
      "metadata": {
        "colab": {
          "base_uri": "https://localhost:8080/"
        },
        "id": "b9s-EoVna4TI",
        "outputId": "d4d67e2e-0e7b-48e8-c1a9-025dc26bca73"
      },
      "id": "b9s-EoVna4TI",
      "execution_count": 35,
      "outputs": [
        {
          "output_type": "stream",
          "name": "stdout",
          "text": [
            "epoch  0 | SimCLR NT-Xent loss = 7.1501\n",
            "epoch  5 | SimCLR NT-Xent loss = 7.1249\n",
            "epoch 10 | SimCLR NT-Xent loss = 7.0905\n",
            "epoch 15 | SimCLR NT-Xent loss = 7.0725\n"
          ]
        }
      ]
    },
    {
      "cell_type": "code",
      "source": [
        "# save the model\n",
        "simclr_model.save_weights(\"simclr_model.h5\")"
      ],
      "metadata": {
        "id": "VMxggl37gLSX"
      },
      "id": "VMxggl37gLSX",
      "execution_count": 36,
      "outputs": []
    },
    {
      "cell_type": "code",
      "source": [],
      "metadata": {
        "id": "6uYUKhr2Ohju"
      },
      "id": "6uYUKhr2Ohju",
      "execution_count": null,
      "outputs": []
    },
    {
      "cell_type": "code",
      "source": [
        "# use the projection head’s penultimate layer as representation\n",
        "embed_model   = tf.keras.Model(simclr_model.input, simclr_model.layers[-2].output)\n",
        "simclr_embeds_train = embed_model.predict(X_tr.astype(np.float32), batch_size=BATCH)\n",
        "simclr_embeds_test  = embed_model.predict(X_te.astype(np.float32), batch_size=BATCH)\n",
        "  # (N, D)\n"
      ],
      "metadata": {
        "colab": {
          "base_uri": "https://localhost:8080/"
        },
        "id": "OWO8-wbVbDy2",
        "outputId": "e84a10d2-0cc7-470a-ed53-698386d79b35"
      },
      "id": "OWO8-wbVbDy2",
      "execution_count": 38,
      "outputs": [
        {
          "output_type": "stream",
          "name": "stdout",
          "text": [
            "36/36 [==============================] - 2s 51ms/step\n",
            "9/9 [==============================] - 0s 43ms/step\n"
          ]
        }
      ]
    },
    {
      "cell_type": "code",
      "source": [],
      "metadata": {
        "id": "QBhzKuZbtiS3"
      },
      "id": "QBhzKuZbtiS3",
      "execution_count": null,
      "outputs": []
    },
    {
      "cell_type": "code",
      "source": [],
      "metadata": {
        "id": "T8IXhaTbOno-"
      },
      "id": "T8IXhaTbOno-",
      "execution_count": null,
      "outputs": []
    },
    {
      "cell_type": "code",
      "source": [
        "from sklearn.model_selection import train_test_split\n",
        "from sklearn.preprocessing   import StandardScaler\n",
        "from sklearn.linear_model    import LogisticRegression\n",
        "from sklearn.pipeline        import make_pipeline\n",
        "from sklearn.metrics         import accuracy_score, f1_score\n",
        "import seaborn as sns, matplotlib.pyplot as plt\n",
        "from sklearn.metrics import classification_report, confusion_matrix\n",
        "\n",
        "\n",
        "probe = make_pipeline(\n",
        "    StandardScaler(),\n",
        "    LogisticRegression(max_iter=500, multi_class='multinomial', solver='lbfgs')\n",
        ").fit(simclr_embeds_train, y_tr)\n",
        "\n",
        "acc  = accuracy_score(y_te, probe.predict(simclr_embeds_test))\n",
        "f1   = f1_score(y_te, probe.predict(simclr_embeds_test), average='macro')\n",
        "print(f\"SimCLR-TSC  | Accuracy={acc:.3f} | Macro-F1={f1:.3f}\")\n",
        "print(classification_report(y_te, probe.predict(simclr_embeds_test), digits=3))\n",
        "\n",
        "cm = confusion_matrix(y_te, probe.predict(simclr_embeds_test))\n",
        "plt.figure(figsize=(8,6))\n",
        "sns.heatmap(cm, annot=True, fmt='d', cmap='Blues')\n",
        "plt.xlabel('Predicted'); plt.ylabel('True'); plt.title('PAMAP2 – SimCLR-TSC linear probe')\n",
        "plt.show()\n"
      ],
      "metadata": {
        "colab": {
          "base_uri": "https://localhost:8080/",
          "height": 977
        },
        "id": "VYTFeZF2bGht",
        "outputId": "e641af21-29c6-4f80-f937-562cd08b7969"
      },
      "id": "VYTFeZF2bGht",
      "execution_count": 40,
      "outputs": [
        {
          "output_type": "stream",
          "name": "stderr",
          "text": [
            "/usr/local/lib/python3.11/dist-packages/sklearn/linear_model/_logistic.py:1247: FutureWarning: 'multi_class' was deprecated in version 1.5 and will be removed in 1.7. From then on, it will always use 'multinomial'. Leave it to its default value to avoid this warning.\n",
            "  warnings.warn(\n"
          ]
        },
        {
          "output_type": "stream",
          "name": "stdout",
          "text": [
            "SimCLR-TSC  | Accuracy=0.690 | Macro-F1=0.616\n",
            "              precision    recall  f1-score   support\n",
            "\n",
            "           0      0.578     0.716     0.639       623\n",
            "           1      0.874     0.930     0.901       186\n",
            "           2      0.750     0.713     0.731       160\n",
            "           3      0.615     0.683     0.647       180\n",
            "           4      0.783     0.812     0.798       245\n",
            "           5      0.000     0.000     0.000        13\n",
            "           6      0.920     0.899     0.909        89\n",
            "           7      0.339     0.170     0.226       112\n",
            "          12      0.526     0.464     0.493       110\n",
            "          13      0.517     0.442     0.477       104\n",
            "          16      0.894     0.620     0.732       163\n",
            "          17      0.911     0.770     0.835       226\n",
            "\n",
            "    accuracy                          0.690      2211\n",
            "   macro avg      0.642     0.602     0.616      2211\n",
            "weighted avg      0.691     0.690     0.684      2211\n",
            "\n"
          ]
        },
        {
          "output_type": "display_data",
          "data": {
            "text/plain": [
              "<Figure size 800x600 with 2 Axes>"
            ],
            "image/png": "[encoded data removed]"
          },
          "metadata": {}
        }
      ]
    },
    {
      "cell_type": "markdown",
      "source": [
        "draft code"
      ],
      "metadata": {
        "id": "lbchhYUBbDnP"
      },
      "id": "lbchhYUBbDnP"
    },
    {
      "cell_type": "code",
      "source": [
        "\n",
        "import torch, random, numpy as np, pandas as pd\n",
        "from sklearn.model_selection import train_test_split\n",
        "from sklearn.preprocessing import StandardScaler\n",
        "from sklearn.linear_model import LogisticRegression\n",
        "from sklearn.metrics import accuracy_score, f1_score\n",
        "e\n",
        "\n",
        "\n",
        "DEVICE   = torch.device('cuda:0' if torch.cuda.is_available() else 'cpu')\n",
        "BATCH    = 256\n",
        "SEEDS    = [0, 1, 2]      # three runs → mean ± sd\n",
        "WINDOWS  = all_windows    # your cached (N,L,C) float32 ndarray\n",
        "LABELS   = labels         # activity labels (N,)\n",
        "\n",
        "# ------------------------------------------------------------\n",
        "# 1.  Helper: probe + score\n",
        "# ------------------------------------------------------------\n",
        "def probe_and_score(emb):\n",
        "    Xtr, Xte, ytr, yte = train_test_split(\n",
        "        emb, LABELS, test_size=0.2, stratify=LABELS, random_state=42)\n",
        "    pipe =  make_pipeline(\n",
        "        StandardScaler(),\n",
        "        LogisticRegression(max_iter=500, solver='lbfgs', multi_class='multinomial')\n",
        "    ).fit(Xtr, ytr)\n",
        "    yhat = pipe.predict(Xte)\n",
        "    acc  = accuracy_score(yte, yhat)\n",
        "    f1   = f1_score(yte, yhat, average='macro')\n",
        "    return acc, f1\n",
        "\n",
        "# ------------------------------------------------------------\n",
        "# 2.  Wrapper for each SSL method\n",
        "# ------------------------------------------------------------\n",
        "def run_simclr(seed):\n",
        "    from tsm.simclr import SimCLR      # repo: TimeseriesContrastiveModels :contentReference[oaicite:0]{index=0}\n",
        "    random.seed(seed); np.random.seed(seed); torch.manual_seed(seed)\n",
        "\n",
        "    model = SimCLR(in_channels=WINDOWS.shape[2], hidden_dim=256, \\\n",
        "                   projection_dim=128, jitter_scale=0.01, crop_ratio=0.5).to(DEVICE)\n",
        "    model.fit(WINDOWS, batch_size=BATCH, epochs=20, device=DEVICE)\n",
        "    emb   = model.encode(WINDOWS, device=DEVICE)  # (N,D) NumPy\n",
        "    return probe_and_score(emb)\n",
        "\n",
        "def run_tstcc(seed):\n",
        "    from tstcc.models import TSTCC    # repo: emadeldeen24/TS-TCC :contentReference[oaicite:1]{index=1}\n",
        "    random.seed(seed); np.random.seed(seed); torch.manual_seed(seed)\n",
        "\n",
        "    model = TSTCC(in_channels=WINDOWS.shape[2], hidden_dim=256).to(DEVICE)\n",
        "    model.fit(WINDOWS, batch_size=BATCH, epochs=20, device=DEVICE)\n",
        "    emb   = model.encode(WINDOWS, device=DEVICE)\n",
        "    return probe_and_score(emb)\n",
        "\n",
        "def run_cpc(seed):\n",
        "    from ults.models import CPC       # repo: ULTS library :contentReference[oaicite:2]{index=2}\n",
        "    random.seed(seed); np.random.seed(seed); torch.manual_seed(seed)\n",
        "\n",
        "    model = CPC(in_channels=WINDOWS.shape[2], hidden_dim=256).to(DEVICE)\n",
        "    model.fit(WINDOWS, batch_size=BATCH, epochs=20, device=DEVICE)\n",
        "    emb   = model.encode(WINDOWS, device=DEVICE)\n",
        "    return probe_and_score(emb)\n",
        "\n",
        "# ------------------------------------------------------------\n",
        "# 3.  Run 3 seeds per method\n",
        "# ------------------------------------------------------------\n",
        "records = []\n",
        "for name, runner in [('SimCLR-TSC', run_simclr),\n",
        "                     ('TS-TCC',     run_tstcc),\n",
        "                     ('CPC',        run_cpc)]:\n",
        "    accs, f1s = [], []\n",
        "    for s in SEEDS:\n",
        "        acc, f1 = runner(s)\n",
        "        accs.append(acc); f1s.append(f1)\n",
        "    records.append({\n",
        "        'Method': name,\n",
        "        'Acc mean':  np.mean(accs), 'Acc std':  np.std(accs),\n",
        "        'F1 mean':   np.mean(f1s),  'F1 std':   np.std(f1s)\n",
        "    })\n",
        "\n",
        "# ------------------------------------------------------------\n",
        "# 4.  Show tidy results table\n",
        "# ------------------------------------------------------------\n",
        "pd.DataFrame(records).set_index('Method').round(3)\n"
      ],
      "metadata": {
        "colab": {
          "base_uri": "https://localhost:8080/",
          "height": 609
        },
        "id": "1BAuppObUFdx",
        "outputId": "5fd2b060-e7a8-4f57-b62f-8783dffed801"
      },
      "id": "1BAuppObUFdx",
      "execution_count": 71,
      "outputs": [
        {
          "output_type": "stream",
          "name": "stdout",
          "text": [
            "\u001b[31mERROR: git+https://github.com/findalexli/TimeseriesContrastiveModels.git does not appear to be a Python project: neither 'setup.py' nor 'pyproject.toml' found.\u001b[0m\u001b[31m\n",
            "\u001b[0m\u001b[31mERROR: git+https://github.com/emadeldeen24/TS-TCC.git does not appear to be a Python project: neither 'setup.py' nor 'pyproject.toml' found.\u001b[0m\u001b[31m\n",
            "\u001b[0m\u001b[31mERROR: git+https://github.com/mqwfrog/ULTS.git does not appear to be a Python project: neither 'setup.py' nor 'pyproject.toml' found.\u001b[0m\u001b[31m\n",
            "\u001b[0m"
          ]
        },
        {
          "output_type": "error",
          "ename": "ModuleNotFoundError",
          "evalue": "No module named 'tsm'",
          "traceback": [
            "\u001b[0;31m---------------------------------------------------------------------------\u001b[0m",
            "\u001b[0;31mModuleNotFoundError\u001b[0m                       Traceback (most recent call last)",
            "\u001b[0;32m/tmp/ipython-input-71-2144060986.py\u001b[0m in \u001b[0;36m<cell line: 0>\u001b[0;34m()\u001b[0m\n\u001b[1;32m     73\u001b[0m     \u001b[0maccs\u001b[0m\u001b[0;34m,\u001b[0m \u001b[0mf1s\u001b[0m \u001b[0;34m=\u001b[0m \u001b[0;34m[\u001b[0m\u001b[0;34m]\u001b[0m\u001b[0;34m,\u001b[0m \u001b[0;34m[\u001b[0m\u001b[0;34m]\u001b[0m\u001b[0;34m\u001b[0m\u001b[0;34m\u001b[0m\u001b[0m\n\u001b[1;32m     74\u001b[0m     \u001b[0;32mfor\u001b[0m \u001b[0ms\u001b[0m \u001b[0;32min\u001b[0m \u001b[0mSEEDS\u001b[0m\u001b[0;34m:\u001b[0m\u001b[0;34m\u001b[0m\u001b[0;34m\u001b[0m\u001b[0m\n\u001b[0;32m---> 75\u001b[0;31m         \u001b[0macc\u001b[0m\u001b[0;34m,\u001b[0m \u001b[0mf1\u001b[0m \u001b[0;34m=\u001b[0m \u001b[0mrunner\u001b[0m\u001b[0;34m(\u001b[0m\u001b[0ms\u001b[0m\u001b[0;34m)\u001b[0m\u001b[0;34m\u001b[0m\u001b[0;34m\u001b[0m\u001b[0m\n\u001b[0m\u001b[1;32m     76\u001b[0m         \u001b[0maccs\u001b[0m\u001b[0;34m.\u001b[0m\u001b[0mappend\u001b[0m\u001b[0;34m(\u001b[0m\u001b[0macc\u001b[0m\u001b[0;34m)\u001b[0m\u001b[0;34m;\u001b[0m \u001b[0mf1s\u001b[0m\u001b[0;34m.\u001b[0m\u001b[0mappend\u001b[0m\u001b[0;34m(\u001b[0m\u001b[0mf1\u001b[0m\u001b[0;34m)\u001b[0m\u001b[0;34m\u001b[0m\u001b[0;34m\u001b[0m\u001b[0m\n\u001b[1;32m     77\u001b[0m     records.append({\n",
            "\u001b[0;32m/tmp/ipython-input-71-2144060986.py\u001b[0m in \u001b[0;36mrun_simclr\u001b[0;34m(seed)\u001b[0m\n\u001b[1;32m     37\u001b[0m \u001b[0;31m# ------------------------------------------------------------\u001b[0m\u001b[0;34m\u001b[0m\u001b[0;34m\u001b[0m\u001b[0m\n\u001b[1;32m     38\u001b[0m \u001b[0;32mdef\u001b[0m \u001b[0mrun_simclr\u001b[0m\u001b[0;34m(\u001b[0m\u001b[0mseed\u001b[0m\u001b[0;34m)\u001b[0m\u001b[0;34m:\u001b[0m\u001b[0;34m\u001b[0m\u001b[0;34m\u001b[0m\u001b[0m\n\u001b[0;32m---> 39\u001b[0;31m     \u001b[0;32mfrom\u001b[0m \u001b[0mtsm\u001b[0m\u001b[0;34m.\u001b[0m\u001b[0msimclr\u001b[0m \u001b[0;32mimport\u001b[0m \u001b[0mSimCLR\u001b[0m      \u001b[0;31m# repo: TimeseriesContrastiveModels :contentReference[oaicite:0]{index=0}\u001b[0m\u001b[0;34m\u001b[0m\u001b[0;34m\u001b[0m\u001b[0m\n\u001b[0m\u001b[1;32m     40\u001b[0m     \u001b[0mrandom\u001b[0m\u001b[0;34m.\u001b[0m\u001b[0mseed\u001b[0m\u001b[0;34m(\u001b[0m\u001b[0mseed\u001b[0m\u001b[0;34m)\u001b[0m\u001b[0;34m;\u001b[0m \u001b[0mnp\u001b[0m\u001b[0;34m.\u001b[0m\u001b[0mrandom\u001b[0m\u001b[0;34m.\u001b[0m\u001b[0mseed\u001b[0m\u001b[0;34m(\u001b[0m\u001b[0mseed\u001b[0m\u001b[0;34m)\u001b[0m\u001b[0;34m;\u001b[0m \u001b[0mtorch\u001b[0m\u001b[0;34m.\u001b[0m\u001b[0mmanual_seed\u001b[0m\u001b[0;34m(\u001b[0m\u001b[0mseed\u001b[0m\u001b[0;34m)\u001b[0m\u001b[0;34m\u001b[0m\u001b[0;34m\u001b[0m\u001b[0m\n\u001b[1;32m     41\u001b[0m \u001b[0;34m\u001b[0m\u001b[0m\n",
            "\u001b[0;31mModuleNotFoundError\u001b[0m: No module named 'tsm'",
            "",
            "\u001b[0;31m---------------------------------------------------------------------------\u001b[0;32m\nNOTE: If your import is failing due to a missing package, you can\nmanually install dependencies using either !pip or !apt.\n\nTo view examples of installing some common dependencies, click the\n\"Open Examples\" button below.\n\u001b[0;31m---------------------------------------------------------------------------\u001b[0m\n"
          ],
          "errorDetails": {
            "actions": [
              {
                "action": "open_url",
                "actionText": "Open Examples",
                "url": "/notebooks/snippets/importing_libraries.ipynb"
              }
            ]
          }
        }
      ]
    },
    {
      "cell_type": "code",
      "source": [],
      "metadata": {
        "id": "9SINTYMTUIn4"
      },
      "id": "9SINTYMTUIn4",
      "execution_count": null,
      "outputs": []
    }
  ],
  "metadata": {
    "kernelspec": {
      "display_name": "Python 3",
      "name": "python3"
    },
    "language_info": {
      "codemirror_mode": {
        "name": "ipython",
        "version": 3
      },
      "file_extension": ".py",
      "mimetype": "text/x-python",
      "name": "python",
      "nbconvert_exporter": "python",
      "pygments_lexer": "ipython3",
      "version": "3.11.10"
    },
    "colab": {
      "provenance": [],
      "machine_shape": "hm",
      "gpuType": "T4"
    },
    "accelerator": "GPU"
  },
  "nbformat": 4,
  "nbformat_minor": 5
}